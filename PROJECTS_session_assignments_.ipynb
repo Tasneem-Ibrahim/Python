{
  "nbformat": 4,
  "nbformat_minor": 0,
  "metadata": {
    "colab": {
      "provenance": [],
      "collapsed_sections": [
        "pbev-Tw081Y-",
        "4oJeqch49WVL",
        "ifvEXuiB9eAf",
        "7wKGxX84Bdvs",
        "9W-SGGI79g4q",
        "06OBGoVyBwIK",
        "dJKZDNLN9luu",
        "R8Sp8yrX9tUW",
        "uaP_nG97DaI4",
        "D4F4PhttPpnz",
        "KvtPhyje9xlw",
        "eb0k7aUk-SCR",
        "NStNjnGJ-ZbQ",
        "NN38MaH4-jfF",
        "Fs3-jK4--mwe"
      ],
      "authorship_tag": "ABX9TyN9a5129cVXjmTtK7wcGUoc",
      "include_colab_link": true
    },
    "kernelspec": {
      "name": "python3",
      "display_name": "Python 3"
    },
    "language_info": {
      "name": "python"
    }
  },
  "cells": [
    {
      "cell_type": "markdown",
      "metadata": {
        "id": "view-in-github",
        "colab_type": "text"
      },
      "source": [
        "<a href=\"https://colab.research.google.com/github/Tasneem-Ibrahim/Python/blob/main/PROJECTS_session_assignments_.ipynb\" target=\"_parent\"><img src=\"https://colab.research.google.com/assets/colab-badge.svg\" alt=\"Open In Colab\"/></a>"
      ]
    },
    {
      "cell_type": "markdown",
      "source": [
        "# **PROJECTS**"
      ],
      "metadata": {
        "id": "xu42k5gZ8ydq"
      }
    },
    {
      "cell_type": "markdown",
      "source": [
        "# **Session_assignments**"
      ],
      "metadata": {
        "id": "pbev-Tw081Y-"
      }
    },
    {
      "cell_type": "markdown",
      "source": [
        "## 01_basics"
      ],
      "metadata": {
        "id": "4oJeqch49WVL"
      }
    },
    {
      "cell_type": "markdown",
      "source": [
        "### 00_Joke_bot\n",
        "#### Random.choice(JOKES)\n",
        "\n",
        "Create a program with predefined strings for user prompts, a joke, and a sorry message. Use an if statement to check if the user inputs \"Joke\". If true, print the joke; otherwise, print the sorry message."
      ],
      "metadata": {
        "id": "ifvEXuiB9eAf"
      }
    },
    {
      "cell_type": "code",
      "source": [
        "import random\n",
        "\n",
        "PROMPT: str = \"What do you want? \"\n",
        "SORRY: str = \"Sorry, I only tell jokes.\"\n",
        "\n",
        "JOKES = [\n",
        "    \"Why was the function so sad? It just felt so undefined.\",\n",
        "    \"Why do programmers prefer dark mode? Because light attracts bugs!\",\n",
        "    \"Why was the JavaScript developer sad? Because he didn’t know how to ‘null’ his feelings.\",\n",
        "    \"Why do Python programmers prefer snakes? Because they don’t have to worry about curly braces!\",\n",
        "    \"How do you comfort a JavaScript bug? You console it.\"\n",
        "]\n",
        "\n",
        "def joke_bot():\n",
        "    user_input = input(PROMPT).strip().replace(\" \", \"\").lower()\n",
        "     # Normalize user input by removing extra spaces, trimming whitespace and converting to lowercase.\n",
        "\n",
        "    if user_input == \"joke\":\n",
        "        print(random.choice(JOKES))\n",
        "    else:\n",
        "        print(SORRY)\n",
        "\n",
        "if __name__ == \"__main__\":\n",
        "    joke_bot()"
      ],
      "metadata": {
        "id": "WMzbIm_j9f4t",
        "colab": {
          "base_uri": "https://localhost:8080/"
        },
        "outputId": "e3424dcb-e766-431a-c46a-a9ebdfb4c824"
      },
      "execution_count": null,
      "outputs": [
        {
          "output_type": "stream",
          "name": "stdout",
          "text": [
            "What do you want? jo ke\n",
            "Why do programmers prefer dark mode? Because light attracts bugs!\n"
          ]
        }
      ]
    },
    {
      "cell_type": "code",
      "source": [
        "import random\n",
        "print(random.random())                   # Random float between 0 and 1\n",
        "print(random.randint(1, 10))             # Random integer between 1 and 10\n",
        "fruits = ['apple', 'banana', 'cherry']\n",
        "print(random.choice(fruits))            # Random choice from the fruits list\n",
        "print(random.sample(range(1, 10), 3))   # Random sample of 3 unique numbers from the range 1 to 9"
      ],
      "metadata": {
        "colab": {
          "base_uri": "https://localhost:8080/"
        },
        "id": "K9L8xdlUAYKQ",
        "outputId": "49127465-9397-4668-fc04-2afd1308ef11"
      },
      "execution_count": null,
      "outputs": [
        {
          "output_type": "stream",
          "name": "stdout",
          "text": [
            "0.9493081477095436\n",
            "6\n",
            "cherry\n",
            "[7, 8, 4]\n"
          ]
        }
      ]
    },
    {
      "cell_type": "markdown",
      "source": [
        "### 01_Double_it"
      ],
      "metadata": {
        "id": "7wKGxX84Bdvs"
      }
    },
    {
      "cell_type": "markdown",
      "source": [
        "#### Double_it\n",
        "\n",
        "\n",
        "A program that prompts the user for a number, doubles it, and prints the result repeatedly until the value reaches or exceeds 100. Use a while loop to check if the current value (curr_value) is less than 100. Double the value inside the loop using  *curr_value = curr_value * 2* and print each result.\n",
        "\n",
        "Example Output:\n",
        "Input: 2\n",
        "Output: 4 8 16 32 64 128"
      ],
      "metadata": {
        "id": "9W-SGGI79g4q"
      }
    },
    {
      "cell_type": "code",
      "source": [
        " # 01_double_it\n",
        "\n",
        "def double_it():\n",
        "    curr_value = int(input(\"Enter a number: \"))  # Ask user for a number\n",
        "\n",
        "    while curr_value <= 100:  # Continue until curr_value is 100 or more\n",
        "        curr_value *= 2  # Double the current value\n",
        "        print(curr_value, end=\" \")  # Print the updated value\n",
        "\n",
        "double_it()"
      ],
      "metadata": {
        "id": "VVCf1R1F9ko_",
        "colab": {
          "base_uri": "https://localhost:8080/"
        },
        "outputId": "8ec9aa97-6dce-4699-e8b3-4f62bec3f3d1"
      },
      "execution_count": null,
      "outputs": [
        {
          "output_type": "stream",
          "name": "stdout",
          "text": [
            "Enter a number: 4\n",
            "8 16 32 64 128 "
          ]
        }
      ]
    },
    {
      "cell_type": "markdown",
      "source": [
        "#### Multiplication table generator\n",
        "Generate Tables for Multiple Numbers: Prompt the user for a range of numbers and print tables for all numbers in that range."
      ],
      "metadata": {
        "id": "06OBGoVyBwIK"
      }
    },
    {
      "cell_type": "code",
      "source": [
        "# Multiplication Table Generator\n",
        "\n",
        "def main():\n",
        "    try:\n",
        "        # Ask the user to input a number\n",
        "        number = int(input(\"Enter a number to generate its multiplication table: \"))\n",
        "\n",
        "        # Generate and display the multiplication table\n",
        "        print(f\"Multiplication table for {number}:\")\n",
        "        for i in range(1, 11): #  iterating\n",
        "            result = number * i\n",
        "            print(f\"{number} * {i} = {result}\")\n",
        "\n",
        "    except ValueError:\n",
        "        print(\"Invalid input! Please enter a valid integer.\")\n",
        "\n",
        "if __name__ == \"__main__\":\n",
        "    main()"
      ],
      "metadata": {
        "colab": {
          "base_uri": "https://localhost:8080/"
        },
        "id": "4g2Svlx6Ahza",
        "outputId": "ce2fb6e4-7fd5-4458-92dc-09b60a93c08e"
      },
      "execution_count": null,
      "outputs": [
        {
          "output_type": "stream",
          "name": "stdout",
          "text": [
            "Enter a number to generate its multiplication table: 4\n",
            "Multiplication table for 4:\n",
            "4 * 1 = 4\n",
            "4 * 2 = 8\n",
            "4 * 3 = 12\n",
            "4 * 4 = 16\n",
            "4 * 5 = 20\n",
            "4 * 6 = 24\n",
            "4 * 7 = 28\n",
            "4 * 8 = 32\n",
            "4 * 9 = 36\n",
            "4 * 10 = 40\n"
          ]
        }
      ]
    },
    {
      "cell_type": "markdown",
      "source": [
        "### 02_Liftoff\n",
        "\n",
        "A program that counts down from 10 to 1 using a loop and prints \"Liftoff!\" after the countdown."
      ],
      "metadata": {
        "id": "dJKZDNLN9luu"
      }
    },
    {
      "cell_type": "code",
      "source": [
        "# This program prints a countdown for a spaceship launch\n",
        "# Loop or range\n",
        "def countdown1():              # Loop from 10 down to 1\n",
        "  for i in range(10, 0, -1):   # Start at 10, stop at 1, decrement by 1\n",
        "   print(i, end=\" \")          # Print the current number with a space, stay on the same line\n",
        "\n",
        "countdown1()\n",
        "\n",
        "print(\"Liftoff!\")             # Print \"Liftoff!\" after the countdown\n",
        "\n",
        "# List and For loop\n",
        "number_list: list[int] = [10, 9, 8, 7, 6, 5, 4, 3, 2, 1]\n",
        "for i in number_list:\n",
        "    print(i, end=\" \")\n",
        "print(\"Liftoff!\")"
      ],
      "metadata": {
        "id": "jmKPhC-D9p4Y",
        "colab": {
          "base_uri": "https://localhost:8080/"
        },
        "outputId": "8e508b2a-521f-444c-c16b-2d4945d4ba04"
      },
      "execution_count": null,
      "outputs": [
        {
          "output_type": "stream",
          "name": "stdout",
          "text": [
            "10 9 8 7 6 5 4 3 2 1 Liftoff!\n",
            "10 9 8 7 6 5 4 3 2 1 Liftoff!\n"
          ]
        }
      ]
    },
    {
      "cell_type": "code",
      "source": [
        "# pause a second\n",
        "\n",
        "import time\n",
        "for i in range(10, 0, -1):\n",
        "    print(i)\n",
        "    time.sleep(1)  # Pause for 1 second\n",
        "print(\"Liftoff!\")\n"
      ],
      "metadata": {
        "colab": {
          "base_uri": "https://localhost:8080/"
        },
        "id": "BHM0fWfrC4Qb",
        "outputId": "074770b0-4944-4d28-9052-bcf300841a33"
      },
      "execution_count": null,
      "outputs": [
        {
          "output_type": "stream",
          "name": "stdout",
          "text": [
            "10\n",
            "9\n",
            "8\n",
            "7\n",
            "6\n",
            "5\n",
            "4\n",
            "3\n",
            "2\n",
            "1\n",
            "Liftoff!\n"
          ]
        }
      ]
    },
    {
      "cell_type": "markdown",
      "source": [
        "### 03_Guess_my_number\n",
        "1. Guess my number\n",
        "2. Riddle"
      ],
      "metadata": {
        "id": "R8Sp8yrX9tUW"
      }
    },
    {
      "cell_type": "markdown",
      "source": [
        "#### Guess_my_number\n",
        "\n",
        "Guess the number between 0 and 99: 50 (too high), 25 (too low), 40 (too low), 45 (too low), 48 (correct!)."
      ],
      "metadata": {
        "id": "uaP_nG97DaI4"
      }
    },
    {
      "cell_type": "code",
      "source": [
        "# Guess_my_number\n",
        "\n",
        "import random\n",
        "\n",
        "number = 48  # Predefined number for this example\n",
        "print(\"I am thinking of a number between 0 and 99...\")\n",
        "\n",
        "while True:\n",
        "    guess = int(input(\"Enter a guess: \"))\n",
        "    if guess > number:\n",
        "        print(\"Your guess is too high\")\n",
        "    elif guess < number:\n",
        "        print(\"Your guess is too low\")\n",
        "    else:\n",
        "        print(f\"Congrats! The number was: {number}\")\n",
        "        break\n"
      ],
      "metadata": {
        "id": "RWwfozT09w_Q",
        "colab": {
          "base_uri": "https://localhost:8080/"
        },
        "outputId": "1e957154-db70-408e-b3ef-ec63f82d3b6b"
      },
      "execution_count": null,
      "outputs": [
        {
          "output_type": "stream",
          "name": "stdout",
          "text": [
            "I am thinking of a number between 0 and 99...\n",
            "Enter a guess: 45\n",
            "Your guess is too low\n",
            "Enter a guess: 50\n",
            "Your guess is too high\n",
            "Enter a guess: 48\n",
            "Congrats! The number was: 48\n"
          ]
        }
      ]
    },
    {
      "cell_type": "markdown",
      "source": [
        "#### Riddle\n",
        "\n",
        "This program is a word-guessing game where the user guesses words based on provided hints until they guess all the words correctly."
      ],
      "metadata": {
        "id": "D4F4PhttPpnz"
      }
    },
    {
      "cell_type": "code",
      "source": [
        "words = {\n",
        "    \"tree\": \"I provide shade and bear fruits.\",\n",
        "    \"sun\": \"I rise in the east and set in the west.\",\n",
        "    \"cloud\": \"I float in the sky and sometimes bring rain.\",\n",
        "    \"rain\": \"I fall from the sky and help plants grow.\",\n",
        "    \"book\": \"I am full of pages and knowledge.\"\n",
        "}\n",
        "\n",
        "print(\"Guess the word based on the hint!\")\n",
        "\n",
        "for word, hint in words.items():\n",
        "    print(f\"Hint: {hint}\")\n",
        "    guess = input(\"Your guess: \").strip().lower()\n",
        "    while guess != word:\n",
        "        print(\"Incorrect! Try again.\")\n",
        "        guess = input(\"Your guess: \").strip().lower()\n",
        "    print(f\"Correct! The word was: {word}\\n\")\n",
        "\n",
        "print(\"Congratulations! You've guessed all the words!\")\n"
      ],
      "metadata": {
        "colab": {
          "base_uri": "https://localhost:8080/"
        },
        "id": "vVPkHlndJpfM",
        "outputId": "21b4f994-5a83-40f4-afe0-c4d161089296"
      },
      "execution_count": null,
      "outputs": [
        {
          "output_type": "stream",
          "name": "stdout",
          "text": [
            "Guess the word based on the hint!\n",
            "Hint: I provide shade and bear fruits.\n",
            "Your guess: tree\n",
            "Correct! The word was: tree\n",
            "\n",
            "Hint: I rise in the east and set in the west.\n",
            "Your guess: sun\n",
            "Correct! The word was: sun\n",
            "\n",
            "Hint: I float in the sky and sometimes bring rain.\n",
            "Your guess: cloud\n",
            "Correct! The word was: cloud\n",
            "\n",
            "Hint: I fall from the sky and help plants grow.\n",
            "Your guess: rain\n",
            "Correct! The word was: rain\n",
            "\n",
            "Hint: I am full of pages and knowledge.\n",
            "Your guess: book\n",
            "Correct! The word was: book\n",
            "\n",
            "Congratulations! You've guessed all the words!\n"
          ]
        }
      ]
    },
    {
      "cell_type": "markdown",
      "source": [
        "### 04_Random_numbers\n",
        "\n",
        "\n",
        "Generate and print 10 random integers between 1 and 100 (inclusive), changing each run."
      ],
      "metadata": {
        "id": "KvtPhyje9xlw"
      }
    },
    {
      "cell_type": "code",
      "source": [
        "import random\n",
        "\n",
        "N_NUMBERS: int = 10\n",
        "MIN_VALUE: int = 1\n",
        "MAX_VALUE: int = 100\n",
        "\n",
        "def main():\n",
        "    \"\"\"\n",
        "    Generate and print 10 random numbers between 1 and 100.\n",
        "    \"\"\"\n",
        "    for i in range(N_NUMBERS):\n",
        "        value = random.randint(MIN_VALUE, MAX_VALUE)\n",
        "        print(value, end=' ')\n",
        "    print()  # Print a newline after the numbers.\n",
        "\n",
        "if __name__ == '__main__':\n",
        "    main()"
      ],
      "metadata": {
        "colab": {
          "base_uri": "https://localhost:8080/"
        },
        "id": "wVGSDLHPjOj0",
        "outputId": "1c71fc2e-be7c-4e31-dab4-356ae4da1a4e"
      },
      "execution_count": null,
      "outputs": [
        {
          "output_type": "stream",
          "name": "stdout",
          "text": [
            "19 99 92 64 12 82 45 8 75 44 \n"
          ]
        }
      ]
    },
    {
      "cell_type": "code",
      "source": [
        "# Comprehensive\n",
        "\n",
        "import random\n",
        "print(\" \".join(str(random.randint(1, 100)) for _ in range(10)))\n",
        "\n",
        "# Generates 10 random integers between 1 and 100.\n",
        "# Converts them to strings.\n",
        "# Joins them into a single string separated by spaces.\n",
        "# Prints the final string.\n",
        "# It’s a compact and efficient way to generate and display a sequence of random numbers!"
      ],
      "metadata": {
        "colab": {
          "base_uri": "https://localhost:8080/"
        },
        "id": "IpVJsuRPHRKK",
        "outputId": "a7c9cf0f-9d25-4f51-d5e4-928f59d6c5bc"
      },
      "execution_count": null,
      "outputs": [
        {
          "output_type": "stream",
          "name": "stdout",
          "text": [
            "93 31 83 78 74 56 82 61 65 80\n"
          ]
        }
      ]
    },
    {
      "cell_type": "code",
      "source": [
        "# Numpy\n",
        "\n",
        "N_NUMBERS: int = 10\n",
        "MIN_VALUE: int = 1\n",
        "MAX_VALUE: int = 100\n",
        "\n",
        "import numpy as np\n",
        "\n",
        "number_list = np.random.randint(MIN_VALUE, MAX_VALUE + 1, N_NUMBERS)\n",
        "print(*number_list) # * is to remove square brackets in list"
      ],
      "metadata": {
        "colab": {
          "base_uri": "https://localhost:8080/"
        },
        "id": "uP1V57ewGibf",
        "outputId": "4065e3ec-46e3-4cf5-87da-1a567e21fc23"
      },
      "execution_count": null,
      "outputs": [
        {
          "output_type": "stream",
          "name": "stdout",
          "text": [
            "63 99 20 17 100 100 79 18 44 68\n"
          ]
        }
      ]
    },
    {
      "cell_type": "markdown",
      "source": [
        "## 02_advanced"
      ],
      "metadata": {
        "id": "eb0k7aUk-SCR"
      }
    },
    {
      "cell_type": "markdown",
      "source": [
        "### Control Flow for Console\n",
        "\n",
        "A number guessing game: higher or lower, score points, and get results."
      ],
      "metadata": {
        "id": "NStNjnGJ-ZbQ"
      }
    },
    {
      "cell_type": "code",
      "source": [
        "import random\n",
        "\n",
        "NUM_ROUNDS = 5\n",
        "\n",
        "def main():\n",
        "    print(\"Welcome to the High-Low Game!\")\n",
        "    print('--------------------------------')\n",
        "\n",
        "    # Milestone 5: keep track of your score\n",
        "    your_score = 0\n",
        "\n",
        "    # Milestone 4: Play multiple rounds\n",
        "    for i in range(NUM_ROUNDS):\n",
        "        print(\"Round\", i + 1)\n",
        "        # Milestone 1: Generate the random numbers and print them out\n",
        "        computer_num = random.randint(1, 100)\n",
        "        your_num = random.randint(1, 100)\n",
        "        print(\"Your number is\", your_num)\n",
        "\n",
        "        # Milestone 2: Get user input for their choice\n",
        "        choice = input(\"Do you think your number is higher or lower than the computer's?: \")\n",
        "\n",
        "        # Extension 1: Make sure the player inputs a valid choice (higher or lower)\n",
        "        while choice != \"higher\" and choice != \"lower\":\n",
        "            choice = input(\"Please enter either higher or lower: \")\n",
        "\n",
        "        # Milestone 3: Map out all the ways to win the round\n",
        "        higher_and_correct = choice == \"higher\" and your_num > computer_num\n",
        "        lower_and_correct = choice == \"lower\" and your_num < computer_num\n",
        "\n",
        "        if higher_and_correct or lower_and_correct:\n",
        "            print(\"You were right! The computer's number was\", computer_num)\n",
        "            # Milestone 5: keep track of your score\n",
        "            your_score += 1\n",
        "        else:\n",
        "            print(\"Aww, that's incorrect. The computer's number was\", computer_num)\n",
        "\n",
        "        # Milestone 5: keep track of your score\n",
        "        print(\"Your score is now\", your_score)\n",
        "        print()\n",
        "\n",
        "    # Extension 2: Conditional ending messages based on performance\n",
        "    print(\"Your final score is\", your_score)\n",
        "\n",
        "    if your_score == NUM_ROUNDS:\n",
        "        print(\"Wow! You played perfectly!\")\n",
        "    elif your_score > NUM_ROUNDS // 2:\n",
        "        print(\"Good job, you played really well!\")\n",
        "    else:\n",
        "        print(\"Better luck next time!\")\n",
        "\n",
        "if __name__ == \"__main__\":\n",
        "    main()\n"
      ],
      "metadata": {
        "colab": {
          "base_uri": "https://localhost:8080/"
        },
        "id": "U4KpI1mionI-",
        "outputId": "fa8b6fd6-fa23-4bf4-d8c8-5f0e268b573c"
      },
      "execution_count": null,
      "outputs": [
        {
          "output_type": "stream",
          "name": "stdout",
          "text": [
            "Welcome to the High-Low Game!\n",
            "--------------------------------\n",
            "Round 1\n",
            "Your number is 4\n",
            "Do you think your number is higher or lower than the computer's?: lower\n",
            "You were right! The computer's number was 95\n",
            "Your score is now 1\n",
            "\n",
            "Round 2\n",
            "Your number is 79\n",
            "Do you think your number is higher or lower than the computer's?: higher\n",
            "You were right! The computer's number was 7\n",
            "Your score is now 2\n",
            "\n",
            "Round 3\n",
            "Your number is 40\n",
            "Do you think your number is higher or lower than the computer's?: lower\n",
            "Aww, that's incorrect. The computer's number was 3\n",
            "Your score is now 2\n",
            "\n",
            "Round 4\n",
            "Your number is 66\n",
            "Do you think your number is higher or lower than the computer's?: higher\n",
            "You were right! The computer's number was 17\n",
            "Your score is now 3\n",
            "\n",
            "Round 5\n",
            "Your number is 15\n",
            "Do you think your number is higher or lower than the computer's?: lower\n",
            "You were right! The computer's number was 52\n",
            "Your score is now 4\n",
            "\n",
            "Your final score is 4\n",
            "Good job, you played really well!\n"
          ]
        }
      ]
    },
    {
      "cell_type": "markdown",
      "source": [
        "### Intro to Python\n",
        "This Python program calculates a person's weight on different planets based on their weight on Earth. Each planet has a unique gravitational ratio compared to Earth's gravity, which determines the weight conversion.\n",
        "\n",
        "Example: If Earth weight is\n",
        "100kg:\n",
        "\n",
        "On Mercury, the weight would be\n",
        "100\n",
        "×\n",
        "0.376\n",
        "=\n",
        "37.6\n",
        "kg\n",
        "\n"
      ],
      "metadata": {
        "id": "NN38MaH4-jfF"
      }
    },
    {
      "cell_type": "code",
      "source": [
        "# Constants for gravitational ratios on planets\n",
        "MERCURY_GRAVITY = 0.376\n",
        "VENUS_GRAVITY = 0.889\n",
        "MARS_GRAVITY = 0.378\n",
        "JUPITER_GRAVITY = 2.36\n",
        "SATURN_GRAVITY = 1.081\n",
        "URANUS_GRAVITY = 0.815\n",
        "NEPTUNE_GRAVITY = 1.14\n",
        "\n",
        "# A dictionary (PLANET_GRAVITIES) stores the planet names as keys and their gravitational ratios as values:\n",
        "PLANET_GRAVITIES = {\n",
        "    \"Mercury\": MERCURY_GRAVITY,\n",
        "    \"Venus\": VENUS_GRAVITY,\n",
        "    \"Mars\": MARS_GRAVITY,\n",
        "    \"Jupiter\": JUPITER_GRAVITY,\n",
        "    \"Saturn\": SATURN_GRAVITY,\n",
        "    \"Uranus\": URANUS_GRAVITY,\n",
        "    \"Neptune\": NEPTUNE_GRAVITY,\n",
        "}\n",
        "\n",
        "def main():\n",
        "    # Prompt the user for their weight on Earth\n",
        "    while True:\n",
        "        try:\n",
        "            earth_weight = float(input(\"Enter your weight on Earth: \"))\n",
        "            break  # Exit the loop if the input is valid\n",
        "        except ValueError:\n",
        "            print(\"Invalid input! Please enter a valid numeric weight.\")\n",
        "\n",
        "    # Keep prompting for a valid planet name\n",
        "    while True:\n",
        "        planet = input(\"Enter the name of a planet: \").capitalize()\n",
        "        if planet in PLANET_GRAVITIES:\n",
        "            gravity_constant = PLANET_GRAVITIES[planet]\n",
        "            break  # Exit the loop if the planet is valid\n",
        "        else:\n",
        "            print(f\"Sorry, {planet} is not a valid planet in this program.\")\n",
        "\n",
        "    # Calculate the equivalent weight on the selected planet\n",
        "    planetary_weight = earth_weight * gravity_constant\n",
        "    rounded_planetary_weight = round(planetary_weight, 2)\n",
        "\n",
        "    # Print the result\n",
        "    print(f\"The equivalent weight on {planet} is : {rounded_planetary_weight}\")\n",
        "\n",
        "if __name__ == \"__main__\":\n",
        "    main()\n"
      ],
      "metadata": {
        "id": "nOX9lL8SezKP",
        "colab": {
          "base_uri": "https://localhost:8080/"
        },
        "outputId": "7372bf1e-ac1c-4848-ceaf-f6990b1e4027"
      },
      "execution_count": null,
      "outputs": [
        {
          "output_type": "stream",
          "name": "stdout",
          "text": [
            "Enter your weight on Earth: 5t\n",
            "Invalid input! Please enter a valid numeric weight.\n",
            "Enter your weight on Earth: 50\n",
            "Enter the name of a planet: Pluto\n",
            "Sorry, Pluto is not a valid planet in this program.\n",
            "Enter the name of a planet: Mars\n",
            "The equivalent weight on Mars is : 18.9\n"
          ]
        }
      ]
    },
    {
      "cell_type": "code",
      "source": [
        "# python planetary_weight_calculator.py\n",
        "\n",
        "# Enter a weight on Earth: 120\n",
        "# Enter a planet: Mars\n",
        "# The equivalent weight on Mars: 45.36\n",
        "\n",
        "# Enter a weight on Earth: 150\n",
        "# Enter a planet: Pluto\n",
        "# Sorry, Pluto is not a valid planet in this program.\n",
        "\n",
        "# Enter a weight on Earth: abc\n",
        "# Invalid input! Please enter a valid numeric weight.\n"
      ],
      "metadata": {
        "id": "TB6chA6e7BVK"
      },
      "execution_count": null,
      "outputs": []
    },
    {
      "cell_type": "markdown",
      "source": [
        "### Lists and Dicts\n",
        "\n",
        "A Python **program** to practice creating, accessing, modifying, and slicing lists through interactive operations.\n",
        "\n",
        "**Function Execution**:\n",
        "\n",
        "**Access**: Tries to fetch the element at the given index.\n",
        "\n",
        "**Modify**: Updates the list at the specified index with the new value.\n",
        "\n",
        "**Slice**: Returns a subset of the list based on the start and end indices."
      ],
      "metadata": {
        "id": "Fs3-jK4--mwe"
      }
    },
    {
      "cell_type": "code",
      "source": [
        "def access_element(lst, index):\n",
        "    try:\n",
        "        return lst[index]\n",
        "    except IndexError:\n",
        "        return \"Index out of range.\"\n",
        "\n",
        "def modify_element(lst, index, new_value):\n",
        "    try:\n",
        "        lst[index] = new_value\n",
        "        return lst\n",
        "    except IndexError:\n",
        "        return \"Index out of range.\"\n",
        "\n",
        "def slice_list(lst, start, end):\n",
        "    try:\n",
        "        return lst[start:end]\n",
        "    except IndexError:\n",
        "        return \"Invalid indices.\"\n",
        "\n",
        "def index_game():\n",
        "    lst = [1, 2, 3, 4, 5]  # Example list\n",
        "    print(\"Current list:\", lst)\n",
        "    print(\"Choose an operation: access, modify, slice\")\n",
        "    operation = input(\"Enter operation: \")\n",
        "\n",
        "    if operation == \"access\":\n",
        "        index = int(input(\"Enter index to access: \"))\n",
        "        print(access_element(lst, index))\n",
        "    elif operation == \"modify\":\n",
        "        index = int(input(\"Enter index to modify: \"))\n",
        "        new_value = input(\"Enter new value: \")\n",
        "        print(modify_element(lst, index, new_value))\n",
        "    elif operation == \"slice\":\n",
        "        start = int(input(\"Enter start index: \"))\n",
        "        end = int(input(\"Enter end index: \"))\n",
        "        print(slice_list(lst, start, end))\n",
        "    else:\n",
        "        print(\"Invalid operation.\")\n",
        "\n",
        "index_game()\n"
      ],
      "metadata": {
        "id": "BLDVVePue0IZ",
        "colab": {
          "base_uri": "https://localhost:8080/"
        },
        "outputId": "92f26ea4-73dd-41e7-d76f-eb590566fac1"
      },
      "execution_count": null,
      "outputs": [
        {
          "output_type": "stream",
          "name": "stdout",
          "text": [
            "Current list: [1, 2, 3, 4, 5]\n",
            "Choose an operation: access, modify, slice\n",
            "Enter operation: slice\n",
            "Enter start index: 2\n",
            "Enter end index: 4\n",
            "[3, 4]\n"
          ]
        }
      ]
    }
  ]
}
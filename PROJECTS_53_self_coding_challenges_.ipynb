{
  "nbformat": 4,
  "nbformat_minor": 0,
  "metadata": {
    "colab": {
      "provenance": [],
      "collapsed_sections": [
        "gcY3-_pIO8Y6",
        "KBi1XSDKOzfS",
        "NGowccdS5dyG",
        "ESwEa3UH505f",
        "aIhQ_CNIGxd2",
        "V5E9OHbeI3Lt",
        "w-82UgYYLmvd",
        "5amgTrgFhaqX",
        "ZsboOHlNkyQS",
        "iRvcpNsblZag",
        "uJaMFpcgE-8i",
        "UvXFOv1OLug6",
        "xpLHHlcPOQYz",
        "ojY7XfNQSZVW",
        "fdjkBsVbt_e5",
        "3R8phGeWyrP3",
        "aGMo0lKHJJgM",
        "iSPHgTrROX8R",
        "wj-GpfjpOhnF",
        "GxCt6EE3WlmX",
        "H7ZNVb8vX7pI",
        "RhMhmeqDJ-xA",
        "MV4Nlq_EOxro",
        "UJEJ-oTIPNw9",
        "-GTu1Y8TEtrR",
        "_ig7OFGSXIrB",
        "l5_1oIdafig0",
        "x95s71YHfolX",
        "Xm99gpfRr8eU",
        "rV_jtEXT8kCz",
        "9gz-w_z8_-pS",
        "exkeOxlgBoUN",
        "KA3xl6T-fSAE",
        "x911rWpifhEz",
        "6qFlxQnZrI12",
        "waaGiMt20nSb",
        "67TXx0NI-Kmk",
        "JPLtLxOFrlsK",
        "V5BpHU3mrtmh",
        "vNTOuUfVuc0D",
        "AEdE0qANw7RA",
        "PBMXBZ61xmet",
        "SERABbfOzw2E",
        "D4zBAv7F1Mn5",
        "sQ05D6qIYFaa",
        "XFGmTwFmYYlh",
        "ac54_Sjmaz9E",
        "Drx69H-GfCRy",
        "J90Wuqi1jknv",
        "vSj-IQVLktH6",
        "OM6_lXDDpHy0",
        "8DR6O1NoASr6",
        "ibfSOQlPBoFo",
        "IlSzEUcqCzKG",
        "fx04tn5AV3fz",
        "aA7VpTwVWQNS",
        "nIth3VznWXBF",
        "McX4CAOzX0bK",
        "NvvtUsRr919-",
        "HPwHcayr-Dcf",
        "n4b4QNy4-PsS"
      ],
      "include_colab_link": true
    },
    "kernelspec": {
      "name": "python3",
      "display_name": "Python 3"
    },
    "language_info": {
      "name": "python"
    }
  },
  "cells": [
    {
      "cell_type": "markdown",
      "metadata": {
        "id": "view-in-github",
        "colab_type": "text"
      },
      "source": [
        "<a href=\"https://colab.research.google.com/github/Tasneem-Ibrahim/Python/blob/main/PROJECTS_53_self_coding_challenges_.ipynb\" target=\"_parent\"><img src=\"https://colab.research.google.com/assets/colab-badge.svg\" alt=\"Open In Colab\"/></a>"
      ]
    },
    {
      "cell_type": "markdown",
      "source": [
        "# **PROJECTS**"
      ],
      "metadata": {
        "id": "yxRMZHw247cK"
      }
    },
    {
      "cell_type": "markdown",
      "source": [
        "\n",
        "# **53_self_coding_challenges**"
      ],
      "metadata": {
        "id": "gcY3-_pIO8Y6"
      }
    },
    {
      "cell_type": "markdown",
      "source": [
        "\n",
        "## 00_intro_python\n"
      ],
      "metadata": {
        "id": "KBi1XSDKOzfS"
      }
    },
    {
      "cell_type": "markdown",
      "source": [
        "### 01_add_two_numbers\n",
        "\n",
        "Python program that prompts the user to enter two integers, calculates their sum, and displays the result. The main() function guides the user through entering the numbers and prints their total sum with a message.\n",
        "\n",
        "\n",
        "\n"
      ],
      "metadata": {
        "id": "NGowccdS5dyG"
      }
    },
    {
      "cell_type": "code",
      "source": [
        "# 01_add_two_numbers\n",
        "\n",
        "def main():\n",
        "    # Prompt the user for two numbers and convert inputs to integers\n",
        "    num1 = int(input(\"Enter first number: \"))\n",
        "    num2 = int(input(\"Enter second number: \"))\n",
        "\n",
        "    # Calculate the sum\n",
        "    total = num1 + num2\n",
        "\n",
        "    # Display the result\n",
        "    print(\"The total is \" + str(total) + \".\")\n",
        "\n",
        "\n",
        "# This provided line is required at the end of\n",
        "# Python file to call the main() function.\n",
        "if __name__ == '__main__':\n",
        "    main()\n"
      ],
      "metadata": {
        "colab": {
          "base_uri": "https://localhost:8080/"
        },
        "id": "XH3m8_QiGGUb",
        "outputId": "501387cb-2673-48c1-b3b4-6ea5ac073c45"
      },
      "execution_count": null,
      "outputs": [
        {
          "output_type": "stream",
          "name": "stdout",
          "text": [
            "Enter first number: 5\n",
            "Enter second number: 3\n",
            "The total is 8.\n"
          ]
        }
      ]
    },
    {
      "cell_type": "code",
      "source": [
        "# 01_add_two_numbers\n",
        "\n",
        "def main():\n",
        "\n",
        "    print(\"This program adds two numbers.\")\n",
        "    num1 : str = input(\"Enter first number: \")\n",
        "    num1 : int = int(num1)\n",
        "    num2 : str = input(\"Enter second number: \")\n",
        "    num2 : int = int(num2)\n",
        "    total : int = num1 + num2\n",
        "    print(\"The total is \" + str(total) + \".\")\n",
        "\n",
        "if __name__ == '__main__':\n",
        "    main()\n"
      ],
      "metadata": {
        "colab": {
          "base_uri": "https://localhost:8080/"
        },
        "id": "PPcdBLljSb_q",
        "outputId": "69dff979-6704-455d-809a-32833434f382"
      },
      "execution_count": null,
      "outputs": [
        {
          "output_type": "stream",
          "name": "stdout",
          "text": [
            "This program adds two numbers.\n",
            "Enter first number: 5\n",
            "Enter second number: 3\n",
            "The total is 8.\n"
          ]
        }
      ]
    },
    {
      "cell_type": "markdown",
      "source": [
        "### 02_agreement_bot\n",
        "\n",
        "Python program that prompts the user to share their favorite animal, then responds with a personalized message echoing their input."
      ],
      "metadata": {
        "id": "ESwEa3UH505f"
      }
    },
    {
      "cell_type": "code",
      "source": [
        "# 02_agreement_bot\n",
        "\n",
        "def main():\n",
        "    # Ask the user for their favorite animal\n",
        "    favorite_animal = input(\"What's your favorite animal? \")\n",
        "\n",
        "    # Print the response using the user's input\n",
        "    print(f\"My favorite animal is also {favorite_animal}!\")\n",
        "\n",
        "\n",
        "# This provided line is required at the end of\n",
        "# Python file to call the main() function.\n",
        "if __name__ == '__main__':\n",
        "    main()\n",
        "\n"
      ],
      "metadata": {
        "colab": {
          "base_uri": "https://localhost:8080/"
        },
        "id": "ftQ9GOca5787",
        "outputId": "ab2e1319-8e80-45d8-b823-c9f4479f1b5a"
      },
      "execution_count": null,
      "outputs": [
        {
          "output_type": "stream",
          "name": "stdout",
          "text": [
            "What's your favorite animal? cow\n",
            "My favorite animal is also cow!\n"
          ]
        }
      ]
    },
    {
      "cell_type": "markdown",
      "source": [
        "### 03_fahrenheit_to_celsius\n",
        "\n",
        "A Python program that prompts the user to input a temperature in Fahrenheit, then calculates and outputs the equivalent temperature in Celsius using the conversion formula: C = (F - 32) * 5.0/9.0. This code handles floating-point Fahrenheit inputs to provide accurate Celsius results.\n",
        "\n"
      ],
      "metadata": {
        "id": "aIhQ_CNIGxd2"
      }
    },
    {
      "cell_type": "code",
      "source": [
        "# 03_fahrenheit_to_celsius\n",
        "\n",
        "\n",
        "def main():\n",
        "  # Prompt the user for a temperature in Fahrenheit and convert input to float\n",
        "  degrees_fahrenheit = float(input(\"Enter temperature in Fahrenheit:\"))\n",
        "\n",
        "   # Convert Fahrenheit to Celsius\n",
        "  degrees_celsius = (degrees_fahrenheit - 32) * 5.0 / 9.0\n",
        "\n",
        "    # Display the result\n",
        "  print(f\"Temperature: {degrees_fahrenheit}F , {degrees_celsius}C\")\n",
        "\n",
        "\n",
        "# Python file to call the main() function.\n",
        "if __name__ == '__main__':\n",
        "  main()"
      ],
      "metadata": {
        "colab": {
          "base_uri": "https://localhost:8080/"
        },
        "id": "ZKalFNnMbyDN",
        "outputId": "9c4b33c2-5e3d-4f3d-8939-6641709c1047"
      },
      "execution_count": null,
      "outputs": [
        {
          "output_type": "stream",
          "name": "stdout",
          "text": [
            "Enter temperature in Fahrenheit:76\n",
            "Temperature: 76.0F , 24.444444444444443C\n"
          ]
        }
      ]
    },
    {
      "cell_type": "markdown",
      "source": [
        "### 04_how_old_are_they\n",
        "\n",
        "Age-Related Riddle Solver\n",
        "This Python program calculates the ages of five friends (Anton, Beth, Chen, Drew, and Ethan) based on a set of clues and relationships given in the riddle. The program assigns each age to a variable and outputs their names and ages in a specific format.\n",
        "\n",
        "Age relationships:\n",
        "Anton's age is fixed at 21.\n",
        "\n",
        "Beth is 6 years older than Anton.\n",
        "\n",
        "Chen is 20 years older than Beth.\n",
        "\n",
        "Drew’s age is the sum of Chen's and Anton's ages.\n",
        "\n",
        "Ethan's age is the same as Chen's age.\n",
        "\n",
        "The program then prints each person's name and age, formatted to match exact requirements for capitalization and punctuation."
      ],
      "metadata": {
        "id": "V5E9OHbeI3Lt"
      }
    },
    {
      "cell_type": "code",
      "source": [
        "# 04_how_old_are_they\n",
        "\n",
        "def main():\n",
        "    anton : int = 21  # Anton's age is given as 21 years old\n",
        "    beth : int = 6 + anton  # Beth is 6 years older than Anton, so add 6 to Anton's age to get Beth's\n",
        "    chen : int = 20 + beth  # Chen is 20 years older than Beth, so add 20 to Beth's age to get Chen's\n",
        "    drew  : int= chen + anton  # Drew is as old as Chen's age plus Anton's age, so add them together\n",
        "    ethan : int = chen  # Ethan is the same age as Chen, so set Ethan's age equal to Chen's\n",
        "\n",
        "   # Print out all of the ages!\n",
        "    print(\"Anton is \" + str(anton))\n",
        "    print(\"Beth is \" + str(beth))\n",
        "    print(\"Chen is \" + str(chen))\n",
        "    print(\"Drew is \" + str(drew))\n",
        "    print(\"Ethan is \" + str(ethan))\n",
        "\n",
        "\n",
        "# There is no need to edit code beyond this point\n",
        "\n",
        "if __name__ == '__main__':\n",
        "    main()"
      ],
      "metadata": {
        "colab": {
          "base_uri": "https://localhost:8080/"
        },
        "id": "dW62BldfgMg2",
        "outputId": "d79f8807-45f7-4dce-d988-6ac5b0dd8db0"
      },
      "execution_count": null,
      "outputs": [
        {
          "output_type": "stream",
          "name": "stdout",
          "text": [
            "Anton is 21\n",
            "Beth is 27\n",
            "Chen is 47\n",
            "Drew is 68\n",
            "Ethan is 47\n"
          ]
        }
      ]
    },
    {
      "cell_type": "markdown",
      "source": [
        "### 05_triangle_perimeter\n",
        "\n",
        "Prompt the user to enter the lengths of each side of a triangle and then calculate and print the perimeter of the triangle (the sum of all of the side lengths)."
      ],
      "metadata": {
        "id": "w-82UgYYLmvd"
      }
    },
    {
      "cell_type": "code",
      "source": [
        "# 05_triangle_perimeter\n",
        "\n",
        "def main():\n",
        "  # Get the 3 side lengths of the triangle\n",
        "    side1: float = float(input(\"What is the length of side 1? \"))\n",
        "    side2: float = float(input(\"What is the length of side 2? \"))\n",
        "    side3: float = float(input(\"What is the length of side 3? \"))\n",
        "    print(\"The perimeter of the triangle is \" + str(side1 + side2 + side3))\n",
        "\n",
        "\n",
        "\n",
        "# This provided line is required at the end of\n",
        "# Python file to call the main() function.\n",
        "if __name__ == '__main__':\n",
        "    main()"
      ],
      "metadata": {
        "colab": {
          "base_uri": "https://localhost:8080/"
        },
        "id": "5oJNUP2KLrME",
        "outputId": "1e52c056-8df1-4552-ac3c-b16c5b49d1a2"
      },
      "execution_count": null,
      "outputs": [
        {
          "output_type": "stream",
          "name": "stdout",
          "text": [
            "What is the length of side 1? 3\n",
            "What is the length of side 2? 4\n",
            "What is the length of side 3? 5.5\n",
            "The perimeter of the triangle is 12.5\n"
          ]
        }
      ]
    },
    {
      "cell_type": "markdown",
      "source": [
        "### 06_square_number\n",
        "\n",
        "Ask the user for a number and print its square (the product of the number times itself).\n",
        "\n",
        "Here's a sample run of the program (user input is in bold italics):\n",
        "\n",
        "Type a number to see its square: 4\n",
        "\n",
        "4.0 squared is 16.0"
      ],
      "metadata": {
        "id": "5amgTrgFhaqX"
      }
    },
    {
      "cell_type": "code",
      "source": [
        "# 06_square_number\n",
        "\n",
        "\n",
        "def main():\n",
        "  num : float = float(input(\"Type a number to see it's square: \"))\n",
        "\n",
        "  print(str(num) + \" squared is \" + str(num ** 2) )\n",
        "\n",
        "if __name__ =='__main__':\n",
        "  main()"
      ],
      "metadata": {
        "colab": {
          "base_uri": "https://localhost:8080/"
        },
        "id": "R8I2SvHGhhl1",
        "outputId": "8b78fd62-71df-4ffa-c5da-7657d218dbea"
      },
      "execution_count": null,
      "outputs": [
        {
          "output_type": "stream",
          "name": "stdout",
          "text": [
            "Type a number to see it's square: 4\n",
            "4.0 squared is 16.0\n"
          ]
        }
      ]
    },
    {
      "cell_type": "markdown",
      "source": [
        "## 01_expressions"
      ],
      "metadata": {
        "id": "ZsboOHlNkyQS"
      }
    },
    {
      "cell_type": "markdown",
      "source": [
        "### 01_dice simulator\n",
        "\n",
        "Simulate rolling two dice, three times. Prints the results of each die roll. This program is used to show how variable scope works."
      ],
      "metadata": {
        "id": "iRvcpNsblZag"
      }
    },
    {
      "cell_type": "code",
      "source": [
        "# 01_dicesimulator\n",
        "\n",
        "# Import the random library which lets us simulate random things like dice!\n",
        "import random\n",
        "\n",
        "# Number of sides on each die to roll\n",
        "NUM_SIDES = 6\n",
        "\n",
        "def roll_dice():\n",
        "    \"\"\"\n",
        "    Simulates rolling two dice and prints their total\n",
        "    \"\"\"\n",
        "    die1 : int = random.randint(1, NUM_SIDES)\n",
        "    die2 : int = random.randint(1, NUM_SIDES)\n",
        "    total : int =die1 + die2\n",
        "    print(\"Total of two dice:\", total)\n",
        "\n",
        "def main():\n",
        "    die1: int = 10\n",
        "    print(\"die1 in main() starts as : \" + str(die1))\n",
        "    roll_dice()\n",
        "    roll_dice()\n",
        "    roll_dice()\n",
        "    print(\"die1 in main() is: \" + str(die1))\n",
        "\n",
        "if __name__ == '__main__':\n",
        "      main()\n",
        "\n",
        "# This output shows how the values in main() and roll_dice() are independent, with die1 in main() unaffected by roll_dice()'s logic."
      ],
      "metadata": {
        "id": "XX_qEEH1lgio",
        "colab": {
          "base_uri": "https://localhost:8080/"
        },
        "outputId": "b363d697-06cc-40b7-ad96-3da5d62852c9"
      },
      "execution_count": null,
      "outputs": [
        {
          "output_type": "stream",
          "name": "stdout",
          "text": [
            "die1 in main() starts as : 10\n",
            "Total of two dice: 5\n",
            "Total of two dice: 9\n",
            "Total of two dice: 7\n",
            "die1 in main() is: 10\n"
          ]
        }
      ]
    },
    {
      "cell_type": "markdown",
      "source": [
        "### 02_e=mc2.md\n",
        "\n",
        "A program that reads mass in kilograms from the user and calculates its energy using Einstein's formula\n",
        "𝐸\n",
        "=\n",
        "𝑚\n",
        "×\n",
        "𝐶\n",
        "2\n",
        "E=m×C\n",
        "2\n",
        " , where\n",
        "𝐶\n",
        "=\n",
        "299\n",
        ",\n",
        "792\n",
        ",\n",
        "458\n",
        "\n",
        "𝑚\n",
        "/\n",
        "𝑠\n",
        "C=299,792,458m/s."
      ],
      "metadata": {
        "id": "uJaMFpcgE-8i"
      }
    },
    {
      "cell_type": "code",
      "source": [
        "# 02_e=mc2.md (e)\n",
        "\n",
        "C : int = 2997792458 # the speed of light in m/s\n",
        "\n",
        "def main():\n",
        "   mass_in_kg: float = float(input(\"Enter kilos of mass:\"))\n",
        "   # Calculate energy\n",
        "   # Equivalently energy = mass*(C**2)\n",
        "   # using the ** operator to raise C to the power of 2\n",
        "   energy_in_joules: float = mass_in_kg * (C ** 2)\n",
        "   # Display the result\n",
        "   print(\"E = m *C^2...\")\n",
        "   print(\"m =\" + str(mass_in_kg) + \"kg\")\n",
        "   print(\"C = \" + str(C) +\"m/s\")\n",
        "\n",
        "   print(str(energy_in_joules) +\" Joules of energy!\")\n",
        "\n",
        "if __name__ == '__main__':\n",
        "   main()\n"
      ],
      "metadata": {
        "id": "-tXmZN8ZlX5v",
        "colab": {
          "base_uri": "https://localhost:8080/"
        },
        "collapsed": true,
        "outputId": "5eeda1fd-c431-4407-c6c4-f54669119a77"
      },
      "execution_count": null,
      "outputs": [
        {
          "output_type": "stream",
          "name": "stdout",
          "text": [
            "Enter kilos of mass:8\n",
            "E = m *C^2...\n",
            "m =8.0kg\n",
            "C = 2997792458m/s\n",
            "7.1894076969933455e+19 Joules of energy!\n"
          ]
        }
      ]
    },
    {
      "cell_type": "markdown",
      "source": [
        "### 03_feet_to_inches\n",
        "\n",
        "Converts feet to inches. Feet is an American unit of measurement. There are 12 inches per foot. Foot is the singular, and feet is the plural."
      ],
      "metadata": {
        "id": "UvXFOv1OLug6"
      }
    },
    {
      "cell_type": "code",
      "source": [
        "# 03_feet_to_inches\n",
        "\n",
        "INCHES_PER_FOOT : int = 12\n",
        "\n",
        "def main():\n",
        "    feet : float = float(input(\"Enter number of feet:\"))\n",
        "    inches: float = feet * INCHES_PER_FOOT\n",
        "    print(\"That is\", inches, \" inches.\")\n",
        "\n",
        "if __name__ == '__main__':\n",
        "    main()\n"
      ],
      "metadata": {
        "colab": {
          "base_uri": "https://localhost:8080/"
        },
        "id": "EMxLMmRRL7yw",
        "outputId": "eb749ffa-33c9-4766-eace-89281c1da8c4"
      },
      "execution_count": null,
      "outputs": [
        {
          "output_type": "stream",
          "name": "stdout",
          "text": [
            "Enter number of feet:2\n",
            "That is 24.0  inches.\n"
          ]
        }
      ]
    },
    {
      "cell_type": "markdown",
      "source": [
        "### 04_pythagorean_theorem\n",
        "\n",
        "A program that prompts the user for the lengths of the two perpendicular sides of a right triangle and calculates the hypotenuse using the Pythagorean theorem. The formula states that\n",
        "𝐵\n",
        "𝐶\n",
        "2\n",
        "=\n",
        "𝐴\n",
        "𝐵\n",
        "2\n",
        "+\n",
        "𝐴\n",
        "𝐶\n",
        "2\n",
        "BC\n",
        "2\n",
        " =AB\n",
        "2\n",
        " +AC\n",
        "2\n",
        " , where the lengths of sides AB and AC are provided by the user."
      ],
      "metadata": {
        "id": "xpLHHlcPOQYz"
      }
    },
    {
      "cell_type": "code",
      "source": [
        "# 04_pythagorean_theorem\n",
        "\n",
        "import math # Import math library so we can use the square root function\n",
        "\n",
        "def main():\n",
        "  # Get the 2 sides of the length from the user\n",
        "  ab: float = float(input(\"Enter the length of AB: \"))\n",
        "  ac: float = float(input(\"Enter the length of AC: \"))\n",
        "\n",
        "  # Calculate te hypotenuse using the 2 sides and print\n",
        "  bc: float= math.sqrt(ab**2 + ac**2)\n",
        "  print(\"the length of BC (the hypotenuse) is: \" + str(bc))\n",
        "\n",
        "if __name__== '__main__':\n",
        "    main()\n",
        "\n"
      ],
      "metadata": {
        "colab": {
          "base_uri": "https://localhost:8080/"
        },
        "id": "vvwuYcyeOdPx",
        "outputId": "e7af49b5-6c81-4b9b-9a95-a3839610cb87"
      },
      "execution_count": null,
      "outputs": [
        {
          "output_type": "stream",
          "name": "stdout",
          "text": [
            "Enter the length of AB: 3\n",
            "Enter the length of AC: 4\n",
            "the length of BC (the hypotenuse) is: 5.0\n"
          ]
        }
      ]
    },
    {
      "cell_type": "markdown",
      "source": [
        "### 05_remainder_division\n",
        "\n",
        "Ask the user for two numbers, one at a time, and then print the result of dividing the first number by the second and also the remainder of the division.\n",
        "\n",
        "The result of this division is 1 with a remainder of 2\n",
        "\n"
      ],
      "metadata": {
        "id": "ojY7XfNQSZVW"
      }
    },
    {
      "cell_type": "code",
      "source": [
        "# 05_remainder_division\n",
        "\n",
        "def main():\n",
        "  dividend: int = int(input(\"Please enter an integer to be divided:\"))\n",
        "  divisor: int = int(input(\"Please enter an integer to divided by:\"))\n",
        "\n",
        "  quotient: int = dividend // divisor\n",
        "  remainder: int = dividend % divisor\n",
        "\n",
        "  print(\"The result of this division is \" + str(quotient) + \" with a remainder of \" + str(remainder))\n",
        "\n",
        "if __name__ == '__main__':\n",
        "    main()\n"
      ],
      "metadata": {
        "id": "4lPl96laSfBU",
        "colab": {
          "base_uri": "https://localhost:8080/"
        },
        "outputId": "947d8988-951b-40a2-9276-6a9ef30850ad"
      },
      "execution_count": null,
      "outputs": [
        {
          "output_type": "stream",
          "name": "stdout",
          "text": [
            "Please enter an integer to be divided:76\n",
            "Please enter an integer to divided by:4\n",
            "The result of this division is 19with a remainder of 0\n"
          ]
        }
      ]
    },
    {
      "cell_type": "markdown",
      "source": [
        "### 06_rolldice\n",
        "\n",
        "Simulate rolling two dice, and prints results of each roll as well as the total."
      ],
      "metadata": {
        "id": "fdjkBsVbt_e5"
      }
    },
    {
      "cell_type": "code",
      "source": [
        "# 06_rolldice\n",
        "\n",
        "import random\n",
        "NUM_SIDES: int = 6\n",
        "\n",
        "def main():\n",
        "  die1: int = random.randint(1, NUM_SIDES)\n",
        "  die2: int = random.randint(1, NUM_SIDES)\n",
        "  total: int = die1 + die2\n",
        "\n",
        "  print(\"Dice have \", NUM_SIDES, \" sides each. \")\n",
        "  print(\"First die:\", die1)\n",
        "  print(\"Second die:\", die2)\n",
        "  print(\"Total of two dice: \", total)\n",
        "\n",
        "if __name__ == '__main__':\n",
        "  main()"
      ],
      "metadata": {
        "colab": {
          "base_uri": "https://localhost:8080/"
        },
        "id": "oXzyVOl0uJxr",
        "outputId": "417961ef-ff40-47f1-caaa-21470f0749f5"
      },
      "execution_count": null,
      "outputs": [
        {
          "output_type": "stream",
          "name": "stdout",
          "text": [
            "Dice have  6  sides each. \n",
            "First die: 3\n",
            "Second die: 6\n",
            "Total of two dice:  9\n"
          ]
        }
      ]
    },
    {
      "cell_type": "markdown",
      "source": [
        "### 06_seconds_in_year\n",
        "\n",
        "Use Python to calculate the number of seconds in a year, and tell the user what the result is in a nice print statement that looks like this (of course the value 5 should be the calculated number instead):\n",
        "\n",
        "There are 5 seconds in a year!\n",
        "\n",
        "You should use constants for this exercise -- there are 365 days in a year, 24 hours in a day, 60 minutes in an hour, and 60 seconds per minute."
      ],
      "metadata": {
        "id": "3R8phGeWyrP3"
      }
    },
    {
      "cell_type": "code",
      "source": [
        "# 06_seconds_in_year\n",
        "\n",
        "DAYS_PER_YEAR: int = 36\n",
        "HOURS_PER_DAY: int = 24\n",
        "MIN_PER_HOUR: int = 60\n",
        "SEC_PER_MIN: int = 60\n",
        "\n",
        "def main():\n",
        "  print(\"There are \" + str(DAYS_PER_YEAR * HOURS_PER_DAY * MIN_PER_HOUR * SEC_PER_MIN) + \" seconds in a year!\")\n",
        "\n",
        "if __name__ == '__main__':\n",
        "  main()\n",
        "\n",
        "\n"
      ],
      "metadata": {
        "id": "XNhm20MCyttC",
        "colab": {
          "base_uri": "https://localhost:8080/"
        },
        "outputId": "83aa4f6e-e063-42cc-9cd7-e3e9f700e775"
      },
      "execution_count": null,
      "outputs": [
        {
          "output_type": "stream",
          "name": "stdout",
          "text": [
            "There are 3110400 seconds in a year!\n"
          ]
        }
      ]
    },
    {
      "cell_type": "markdown",
      "source": [
        "### 07_tiny_mad_lib\n",
        "\n",
        "A program that prompts the user for an adjective, a noun, and a verb, then constructs and prints a fun sentence using those words to create an entertaining story based on the Mad Libs game format."
      ],
      "metadata": {
        "id": "aGMo0lKHJJgM"
      }
    },
    {
      "cell_type": "code",
      "source": [
        "# 07_tiny_mad_lib\n",
        "\n",
        "SENTENCE_START: str = \"Panaversity is fun, I learned to program and used Python to make my \" # adjective noun verb\n",
        "\n",
        "def main():\n",
        "    adjective: str =(input(\"Please type an adjective and press enter. \"))\n",
        "    noun: str = (input(\"Please type an noun and press enter. \"))\n",
        "    verb: str = (input(\"Please type an verb and press enter. \"))\n",
        "\n",
        "    print(SENTENCE_START + adjective + \" \" + noun + \" \" + verb + \"!\")\n",
        "\n",
        "if __name__ == '__main__':\n",
        "    main()\n"
      ],
      "metadata": {
        "colab": {
          "base_uri": "https://localhost:8080/"
        },
        "id": "SaRi2pl0JK12",
        "outputId": "b5e96d3f-9a1d-4257-c904-0cf8e99c8682"
      },
      "execution_count": null,
      "outputs": [
        {
          "output_type": "stream",
          "name": "stdout",
          "text": [
            "Please type an adjective and press enter. tiny\n",
            "Please type an noun and press enter. plant\n",
            "Please type an verb and press enter. fly\n",
            "Panaversity is fun, I learned to program and used Python to make my tiny plant fly!\n"
          ]
        }
      ]
    },
    {
      "cell_type": "markdown",
      "source": [
        "## 02_lists"
      ],
      "metadata": {
        "id": "iSPHgTrROX8R"
      }
    },
    {
      "cell_type": "markdown",
      "source": [
        "### 01_add_many_number\n",
        "\n",
        "Function that takes a list of numbers and returns the sum of those numbers."
      ],
      "metadata": {
        "id": "wj-GpfjpOhnF"
      }
    },
    {
      "cell_type": "code",
      "source": [
        "# 01_add_many_number\n",
        "\n",
        "def sum_of_numbers(numbers):\n",
        "  return sum(numbers)\n",
        "def main():\n",
        " numbers = [1,2,3,4,5]\n",
        " result = sum_of_numbers(numbers)\n",
        " print(\"The sum of the numbers is:\",result)\n",
        "\n",
        "if __name__ == '__main__':\n",
        "  main()"
      ],
      "metadata": {
        "colab": {
          "base_uri": "https://localhost:8080/"
        },
        "id": "YfO_srAXOZcA",
        "outputId": "ccfedc1f-02de-4203-b0cd-03ceaa07555e"
      },
      "execution_count": null,
      "outputs": [
        {
          "output_type": "stream",
          "name": "stdout",
          "text": [
            "The sum of the numbers is: 15\n"
          ]
        }
      ]
    },
    {
      "cell_type": "code",
      "source": [
        "# 01_add_many_number\n",
        "\n",
        "def add_many_numbers(numbers)-> int:\n",
        "    \"\"\"\n",
        "    Takes in a list of numbers and returns the sum of those numbers.\n",
        "    \"\"\"\n",
        "\n",
        "    total_so_far: int = 0\n",
        "    for number in numbers:\n",
        "        total_so_far += number\n",
        "\n",
        "    return total_so_far\n",
        "\n",
        "def main():\n",
        "    numbers: list[int] = [1, 2, 3, 4, 5]  # Make a list of numbers\n",
        "    sum_of_numbers: int = add_many_numbers(numbers)  # Find the sum of the list\n",
        "    print(sum_of_numbers)  # Print out the sum above\n",
        "\n",
        "\n",
        "if __name__ == '__main__':\n",
        "    main()"
      ],
      "metadata": {
        "colab": {
          "base_uri": "https://localhost:8080/"
        },
        "id": "JlFSrJfuSSrI",
        "outputId": "c4d19add-8bc2-4957-f226-c6bb5da61ecc"
      },
      "execution_count": null,
      "outputs": [
        {
          "output_type": "stream",
          "name": "stdout",
          "text": [
            "15\n"
          ]
        }
      ]
    },
    {
      "cell_type": "markdown",
      "source": [
        "### 02_double_list\n",
        "\n",
        "program that doubles each element in a list of numbers. For example, if you start with this list:\n",
        "\n",
        "numbers = [1, 2, 3, 4]\n",
        "\n",
        "You should end with this list:\n",
        "\n",
        "numbers = [2, 4, 6, 8]"
      ],
      "metadata": {
        "id": "GxCt6EE3WlmX"
      }
    },
    {
      "cell_type": "code",
      "source": [
        "# 02_double_list\n",
        "\n",
        "def double_elements(numbers):\n",
        "    return [num * 2 for num in numbers]\n",
        "\n",
        "# Example usage\n",
        "numbers = [1, 2, 3, 4]\n",
        "doubled_numbers = double_elements(numbers)\n",
        "print(\"Doubled list:\", doubled_numbers)\n"
      ],
      "metadata": {
        "colab": {
          "base_uri": "https://localhost:8080/"
        },
        "id": "7jDQvslDWohM",
        "outputId": "685010e6-f9b8-4219-a5ec-a87818f30f3f"
      },
      "execution_count": null,
      "outputs": [
        {
          "output_type": "stream",
          "name": "stdout",
          "text": [
            "Doubled list: [2, 4, 6, 8]\n"
          ]
        }
      ]
    },
    {
      "cell_type": "code",
      "source": [
        "# 02_double_list\n",
        "\n",
        "def main():\n",
        "  numbers: list[int] = [1,2,3,4]\n",
        "  for i in range(len(numbers)):\n",
        "    elements_at_index = numbers[i]\n",
        "    numbers[i] = elements_at_index * 2\n",
        "  print(numbers)\n",
        "\n",
        "if __name__ == '__main__':\n",
        "  main()"
      ],
      "metadata": {
        "colab": {
          "base_uri": "https://localhost:8080/"
        },
        "id": "weEpPZWFXSSw",
        "outputId": "f84b25e7-5599-4151-b1b8-cb28d0a63282"
      },
      "execution_count": null,
      "outputs": [
        {
          "output_type": "stream",
          "name": "stdout",
          "text": [
            "[2, 4, 6, 8]\n"
          ]
        }
      ]
    },
    {
      "cell_type": "markdown",
      "source": [
        "### 03_erase_canvas\n",
        "\n",
        "Implement an 'eraser' on a canvas.\n",
        "\n",
        "The canvas consists of a grid of blue 'cells' which are drawn as rectangles on the screen. We then create an eraser rectangle which, when dragged around the canvas, sets all of the rectangles it is in contact with to white.\n",
        "\n",
        "\n",
        "This Code is smoothly run in VScode"
      ],
      "metadata": {
        "id": "H7ZNVb8vX7pI"
      }
    },
    {
      "cell_type": "code",
      "source": [
        "# 03_erase_canvas\n",
        "# This Code is smoothly run in VScode\n",
        "\n",
        "import tkinter as tk\n",
        "import time\n",
        "\n",
        "CANVAS_WIDTH = 400\n",
        "CANVAS_HEIGHT = 400\n",
        "CELL_SIZE = 40\n",
        "ERASER_SIZE = 20\n",
        "\n",
        "def erase_objects(canvas, eraser, eraser_position):\n",
        "    \"\"\"Erase objects in contact with the eraser.\"\"\"\n",
        "    # Define eraser boundaries\n",
        "    left_x, top_y = eraser_position\n",
        "    right_x = left_x + ERASER_SIZE\n",
        "    bottom_y = top_y + ERASER_SIZE\n",
        "\n",
        "    # Find overlapping objects\n",
        "    overlapping_objects = canvas.find_overlapping(left_x, top_y, right_x, bottom_y)\n",
        "\n",
        "    # Set overlapping objects' color to white (excluding eraser itself)\n",
        "    for obj in overlapping_objects:\n",
        "        if obj != eraser:\n",
        "            canvas.itemconfig(obj, fill='white')\n",
        "\n",
        "def main():\n",
        "    # Initialize tkinter\n",
        "    root = tk.Tk()\n",
        "    root.title(\"Eraser Canvas\")\n",
        "\n",
        "    # Set up the canvas\n",
        "    canvas = tk.Canvas(root, width=CANVAS_WIDTH, height=CANVAS_HEIGHT, bg='white')\n",
        "    canvas.pack()\n",
        "\n",
        "    num_rows = CANVAS_HEIGHT // CELL_SIZE\n",
        "    num_cols = CANVAS_WIDTH // CELL_SIZE\n",
        "\n",
        "    # Create a grid of blue squares\n",
        "    for row in range(num_rows):\n",
        "        for col in range(num_cols):\n",
        "            left_x = col * CELL_SIZE\n",
        "            top_y = row * CELL_SIZE\n",
        "            right_x = left_x + CELL_SIZE\n",
        "            bottom_y = top_y + CELL_SIZE\n",
        "            # Create a cell in the grid\n",
        "            canvas.create_rectangle(left_x, top_y, right_x, bottom_y, fill='blue', outline='blue')\n",
        "\n",
        "    # Set up the eraser as a pink rectangle\n",
        "    eraser = canvas.create_rectangle(0, 0, ERASER_SIZE, ERASER_SIZE, fill='pink', outline='pink')\n",
        "\n",
        "    # Function to move eraser with the mouse\n",
        "    def move_eraser(event):\n",
        "        # Move the eraser to follow the mouse\n",
        "        canvas.coords(eraser, event.x, event.y, event.x + ERASER_SIZE, event.y + ERASER_SIZE)\n",
        "        erase_objects(canvas, eraser, (event.x, event.y))\n",
        "\n",
        "    # Bind mouse movement to move_eraser function\n",
        "    canvas.bind('<Motion>', move_eraser)\n",
        "\n",
        "    # Run the Tkinter main loop\n",
        "    root.mainloop()\n",
        "\n",
        "if __name__ == '__main__':\n",
        "    main()\n"
      ],
      "metadata": {
        "id": "1dNvv-sIX88m"
      },
      "execution_count": null,
      "outputs": []
    },
    {
      "cell_type": "markdown",
      "source": [
        "### 04_flowing_with_data_structures\n",
        "\n",
        "Using a variable storing a number as an example of scope. We saw that changes we made to the number inside a function did not stay unless we returned it. This is true for what we call immutable data types which include things like numbers and strings.\n",
        "\n",
        " To illustrate this, implement the add_three_copies(...) function to add three copies of a given item to a list without returning it, and compare the behavior to the x = change(x) example."
      ],
      "metadata": {
        "id": "RhMhmeqDJ-xA"
      }
    },
    {
      "cell_type": "code",
      "source": [
        "# 04_flowing_with_data_structures\n",
        "\n",
        "def add_three_copies(my_list, data):\n",
        "  for i in range(3):\n",
        "    my_list.append(data)\n",
        "\n",
        "def main():\n",
        "  message = input(\"Enter a message to copy: \")\n",
        "  my_list = []\n",
        "  print(\"List before: \" , my_list)\n",
        "  add_three_copies(my_list, message)\n",
        "  print(\"List after: \", my_list)\n",
        "\n",
        "if __name__ == '__main__':\n",
        "  main()\n"
      ],
      "metadata": {
        "collapsed": true,
        "id": "xlUJw172KFA_",
        "colab": {
          "base_uri": "https://localhost:8080/"
        },
        "outputId": "5f4f1f9c-b856-408e-ca97-e07f711d2b79"
      },
      "execution_count": null,
      "outputs": [
        {
          "output_type": "stream",
          "name": "stdout",
          "text": [
            "Enter a message to copy: Best\n",
            "List before:  []\n",
            "List after:  ['Best', 'Best', 'Best']\n"
          ]
        }
      ]
    },
    {
      "cell_type": "markdown",
      "source": [
        "### 05_get_first_element\n",
        "\n",
        "Function get_first_element(lst) which takes in a list lst as a parameter and prints the first element in the list. The list is guaranteed to be non-empty. We've written some code for you which prompts the user to input the list one element at a time."
      ],
      "metadata": {
        "id": "MV4Nlq_EOxro"
      }
    },
    {
      "cell_type": "code",
      "source": [
        "# 05_get_first_element\n",
        "\n",
        "def get_first_element(lst):\n",
        "  \"\"\"\n",
        "  Print the first element in a provided list.\n",
        "  \"\"\"\n",
        "\n",
        "  print(lst[0])\n",
        "\n",
        "def get_lst():\n",
        "   \"\"\"\n",
        "   Prompts the user to enter one element of the list at a time\n",
        "   and returns the  resulting list.\n",
        "   \"\"\"\n",
        "   lst = []\n",
        "   elem: str = input(\"Please enter an element of the list or press enter to stop \")\n",
        "   while elem !=\"\":\n",
        "    lst.append(elem)\n",
        "    elem = input(\"Please enter an element of the list or press enter to stop \")\n",
        "    return lst\n",
        "\n",
        "def main():\n",
        "  lst = get_lst()\n",
        "  get_first_element(lst)\n",
        "\n",
        "if __name__ == '__main__':\n",
        "  main()"
      ],
      "metadata": {
        "colab": {
          "base_uri": "https://localhost:8080/"
        },
        "id": "hUx0fcgJOzDo",
        "outputId": "3d48ca9a-232a-4155-9c3f-9a6667848b72"
      },
      "execution_count": null,
      "outputs": [
        {
          "output_type": "stream",
          "name": "stdout",
          "text": [
            "Please enter an element of the list or press enter to stop Best\n",
            "Please enter an element of the list or press enter to stop Book\n",
            "Best\n"
          ]
        }
      ]
    },
    {
      "cell_type": "markdown",
      "source": [
        "### 06_get_last_element\n",
        "\n",
        "Fill out the function get_last_element(lst) which takes in a list lst as a parameter and prints the last element in the list. The list is guaranteed to be non-empty, but there are no guarantees on its length."
      ],
      "metadata": {
        "id": "UJEJ-oTIPNw9"
      }
    },
    {
      "cell_type": "code",
      "source": [
        "# 06_get_last_element\n",
        "\n",
        "def get_last_element(lst):\n",
        "    \"\"\"\n",
        "    Print the last element in a provided list.\n",
        "    \"\"\"\n",
        "    # Takes the length of the list and subtracts 1 since they are zero-indexed (we start counting at 0)\n",
        "    print(lst[len(lst) - 1])\n",
        "\n",
        "    # The line below works too!!\n",
        "    print(lst[-1])\n",
        "\n",
        "def get_lst():\n",
        "    \"\"\" Prompts the user to enter one element of the list at a time and returns the resulting list. \"\"\"\n",
        "    lst = []\n",
        "    elem = input(\"Please enter an element of the list or press enter to stop. \")\n",
        "    while elem != \"\":\n",
        "        lst.append(elem)\n",
        "        elem = input(\"Please enter an element of the list or press enter to stop. \")\n",
        "    return lst\n",
        "\n",
        "def main():\n",
        "    lst = get_lst()\n",
        "    get_last_element(lst)\n",
        "\n",
        "if __name__ == '__main__':\n",
        "    main()\n"
      ],
      "metadata": {
        "colab": {
          "base_uri": "https://localhost:8080/"
        },
        "id": "lGs7sJSdCCOc",
        "outputId": "df8fe236-cf93-4fb8-9036-0cb5dd14a6b5"
      },
      "execution_count": null,
      "outputs": [
        {
          "output_type": "stream",
          "name": "stdout",
          "text": [
            "Please enter an element of the list or press enter to stop. apple\n",
            "Please enter an element of the list or press enter to stop. banana\n",
            "Please enter an element of the list or press enter to stop. cherry\n",
            "Please enter an element of the list or press enter to stop. \n",
            "cherry\n",
            "cherry\n"
          ]
        }
      ]
    },
    {
      "cell_type": "markdown",
      "source": [
        "### 07_get_list\n",
        "\n",
        "Program which continuously asks the user to enter values which are added one by one into a list. When the user presses enter without typing anything, print the list.\n",
        "\n",
        "Here's a sample run (user input is in blue):\n",
        "\n",
        "Enter a value: 1 Enter a value: 2 Enter a value: 3 Enter a value: Here's the list: ['1', '2', '3']"
      ],
      "metadata": {
        "id": "-GTu1Y8TEtrR"
      }
    },
    {
      "cell_type": "code",
      "source": [
        "# 07_get_list\n",
        "\n",
        "def main():\n",
        "  lst = []                                # Make an empty list to store things in\n",
        "\n",
        "  val = input(\"Enter a value:\")           # Get an initial value\n",
        "  while val:                              # While the user input isn't an empty value\n",
        "      lst.append(val)                     # Add value to list\n",
        "      val = input(\"Enter a value:\")       # Get the next value to add\n",
        "\n",
        "  print(\"Here's the list:\", lst)\n",
        "\n",
        "if __name__ == '__main__':\n",
        "  main()"
      ],
      "metadata": {
        "colab": {
          "base_uri": "https://localhost:8080/"
        },
        "id": "mTNmMf2XEz7n",
        "outputId": "46e7cc48-a1c4-475b-9844-e3b600600904"
      },
      "execution_count": null,
      "outputs": [
        {
          "output_type": "stream",
          "name": "stdout",
          "text": [
            "Enter a value:5\n",
            "Enter a value:6\n",
            "Enter a value:7\n",
            "Enter a value:8\n",
            "Enter a value:9\n",
            "Enter a value:\n",
            "Here's the list: ['5', '6', '7', '8', '9']\n"
          ]
        }
      ]
    },
    {
      "cell_type": "markdown",
      "source": [
        "### 08_shorten\n",
        "\n",
        "Fill out the function shorten(lst) which removes elements from the end of lst, which is a list, and prints each item it removes until lst is MAX_LENGTH items long. If lst is already shorter than MAX_LENGTH you should leave it unchanged. We've written a main() function for you which gets a list and passes it into your function once you run the program. For the autograder to pass you will need MAX_LENGTH to be 3, but feel free to change it around to test your program."
      ],
      "metadata": {
        "id": "_ig7OFGSXIrB"
      }
    },
    {
      "cell_type": "code",
      "source": [
        "# 08_shorten\n",
        "\n",
        "MAX_LENGTH : int = 3\n",
        "\n",
        "def shorten(lst):\n",
        "  while len(lst) > MAX_LENGTH:\n",
        "    last_elem = lst.pop()\n",
        "    print(last_elem)\n",
        "\n",
        "def get_lst():\n",
        "  \"\"\"\n",
        "  Prompts the user to enter one element of the list at a time and returns the resulting list.\n",
        "  \"\"\"\n",
        "  lst = []\n",
        "  elem = input(\"Please enter an element of the list or press enter to stop. \")\n",
        "  while elem != \"\":\n",
        "     lst.append(elem)\n",
        "     elem = input(\"Please enter an element of the list or press enter to stop. \")\n",
        "  return lst\n",
        "\n",
        "def main():\n",
        "    lst = get_lst()\n",
        "    shorten(lst)\n",
        "\n",
        "\n",
        "if __name__ == '__main__':\n",
        "    main()"
      ],
      "metadata": {
        "colab": {
          "base_uri": "https://localhost:8080/"
        },
        "id": "zxV0lDkZXKEP",
        "outputId": "388bb604-db4e-4665-c98d-00b9112ffacb"
      },
      "execution_count": null,
      "outputs": [
        {
          "output_type": "stream",
          "name": "stdout",
          "text": [
            "Please enter an element of the list or press enter to stop. apple\n",
            "Please enter an element of the list or press enter to stop. banana\n",
            "Please enter an element of the list or press enter to stop. cherry\n",
            "Please enter an element of the list or press enter to stop. mango\n",
            "Please enter an element of the list or press enter to stop. strawberry\n",
            "Please enter an element of the list or press enter to stop. \n",
            "strawberry\n",
            "mango\n"
          ]
        }
      ]
    },
    {
      "cell_type": "markdown",
      "source": [
        "## 03_if_statements"
      ],
      "metadata": {
        "id": "l5_1oIdafig0"
      }
    },
    {
      "cell_type": "markdown",
      "source": [
        "### 01_print_events\n",
        "\n",
        "program that prints the first 20 even numbers. There are several correct approaches, but they all use a loop of some sort. Do no write twenty print statements\n",
        "\n",
        "The first even number is 0:\n",
        "\n",
        "0 2 4 6 8 10 12 14 16 18 20 22 24 26 28 30 32 34 36 38"
      ],
      "metadata": {
        "id": "x95s71YHfolX"
      }
    },
    {
      "cell_type": "code",
      "source": [
        "# 01_print_events\n",
        "\n",
        "def main():\n",
        "   # This for-loop start at 0 and counts up to 19 (for a total of 20 numbers)\n",
        "    for i in range(20):\n",
        "      print (i * 2)  # Use the 'i' value inside the for-loop\n",
        "\n",
        "if __name__ == '__main__':\n",
        "    main()"
      ],
      "metadata": {
        "id": "b_IvJZkgftLv",
        "colab": {
          "base_uri": "https://localhost:8080/"
        },
        "outputId": "fd846d2e-a2a0-424d-8260-e2d03415a827"
      },
      "execution_count": null,
      "outputs": [
        {
          "output_type": "stream",
          "name": "stdout",
          "text": [
            "0\n",
            "2\n",
            "4\n",
            "6\n",
            "8\n",
            "10\n",
            "12\n",
            "14\n",
            "16\n",
            "18\n",
            "20\n",
            "22\n",
            "24\n",
            "26\n",
            "28\n",
            "30\n",
            "32\n",
            "34\n",
            "36\n",
            "38\n"
          ]
        }
      ]
    },
    {
      "cell_type": "markdown",
      "source": [
        "### 02_international_voting_age\n",
        "\n",
        "Ask the user for their age and inform them if they can vote in three fictional countries with voting ages of 16, 25, and 48, respectively."
      ],
      "metadata": {
        "id": "Xm99gpfRr8eU"
      }
    },
    {
      "cell_type": "code",
      "source": [
        "PETURKSBOUIPO_AGE : int = 16\n",
        "STANLAU_AGE : int = 25\n",
        "MAYENGUA_AGE : int = 48\n",
        "\n",
        "def main():\n",
        "    # Get the user's age\n",
        "    user_age = int(input(\"How old are you? \"))\n",
        "\n",
        "    # Check if the user can vote in Peturksbouipo\n",
        "    if user_age >= PETURKSBOUIPO_AGE:\n",
        "        print(\"You can vote in Peturksbouipo where the voting age is \" + str(PETURKSBOUIPO_AGE) + \".\")\n",
        "    else:\n",
        "        print(\"You cannot vote in Peturksbouipo where the voting age is \" + str(PETURKSBOUIPO_AGE) + \".\")\n",
        "\n",
        "    # Check if the user can vote in Stanlau\n",
        "    if user_age >= STANLAU_AGE:\n",
        "        print(\"You can vote in Stanlau where the voting age is \" + str(STANLAU_AGE) + \".\")\n",
        "    else:\n",
        "        print(\"You cannot vote in Stanlau where the voting age is \" + str(STANLAU_AGE) + \".\")\n",
        "\n",
        "    # Check if user can vote in Mayengua\n",
        "    if user_age >= MAYENGUA_AGE:\n",
        "        print(\"You can vote in Mayengua where the voting age is \" + str(MAYENGUA_AGE) + \".\")\n",
        "    else:\n",
        "        print(\"You cannot vote in Mayengua where the voting age is \" + str(MAYENGUA_AGE) + \".\")\n",
        "\n",
        "\n",
        "# There is no need to edit code beyond this point\n",
        "\n",
        "if __name__ == '__main__':\n",
        "    main()"
      ],
      "metadata": {
        "colab": {
          "base_uri": "https://localhost:8080/"
        },
        "id": "uAkZo13Zsnvo",
        "outputId": "0ae63180-e9db-4033-805b-1603befdf130"
      },
      "execution_count": null,
      "outputs": [
        {
          "output_type": "stream",
          "name": "stdout",
          "text": [
            "How old are you? 8\n",
            "You cannot vote in Peturksbouipo where the voting age is 16.\n",
            "You cannot vote in Stanlau where the voting age is 25.\n",
            "You cannot vote in Mayengua where the voting age is 48.\n"
          ]
        }
      ]
    },
    {
      "cell_type": "markdown",
      "source": [
        "### 03_leap_year\n",
        "\n",
        "This program checks if a given year is a leap year based on the following rules:\n",
        "\n",
        "The year must be divisible by 4.\n",
        "If divisible by 100, it must also be divisible by 400 to be a leap year.\n",
        "Using these rules, the program reads a year from the user and prints \"That's a leap year!\" if it qualifies, or \"That's not a leap year\" if it doesn’t."
      ],
      "metadata": {
        "id": "rV_jtEXT8kCz"
      }
    },
    {
      "cell_type": "code",
      "source": [
        "# 03_leap_year\n",
        "\n",
        "def main():\n",
        "  year = int(input(\"Enter a year: \"))\n",
        "\n",
        "  if year % 4 ==0:                            # Checking whether the provided year is evenly divisibly by 4\n",
        "    if year % 100 == 0:                       # Checking whether the provided year is evenly divisibly by 100\n",
        "\n",
        "      if year % 400 == 0:\n",
        "        print(\"That is a leap year!\")\n",
        "      else:\n",
        "        print(\"That is not a leap year!\")\n",
        "    else:\n",
        "      print(\"That is a leap year!\")\n",
        "  else:\n",
        "    print(\"That is not a leap year!\")\n",
        "\n",
        "if __name__ == '__main__':\n",
        "  main()"
      ],
      "metadata": {
        "id": "SbBafU3k8qd5"
      },
      "execution_count": null,
      "outputs": []
    },
    {
      "cell_type": "markdown",
      "source": [
        "### 04_tall_enough_to_ride\n",
        "\n",
        "Program prompts user for their height and checks if it meets a 50-unit minimum; if so, it prints “You're tall enough to ride!” Otherwise, it encourages the user to try again next year.\n",
        "\n",
        "For an additional challenge, it can keep asking for height until no input is given, then stops."
      ],
      "metadata": {
        "id": "9gz-w_z8_-pS"
      }
    },
    {
      "cell_type": "code",
      "source": [
        "# 04_tall_enough_to_ride\n",
        "\n",
        "\n",
        "MINIMUM_HEIGHT : int = 50 # arbitrary units :)\n",
        "\n",
        "def main():\n",
        "  height = float(input(\"How tall are you? \"))\n",
        "  if height >= MINIMUM_HEIGHT:\n",
        "    print(\"You are tall enough to ride.\")\n",
        "  else:\n",
        "    print(\"You are not tall enough to ride, but maybe next year!\")\n",
        "\n",
        "if __name__ == '__main__':\n",
        "  main()\n"
      ],
      "metadata": {
        "colab": {
          "base_uri": "https://localhost:8080/"
        },
        "id": "TL_mFd1kAHR1",
        "outputId": "27f68b9b-dcf8-4a92-b9c5-de63be595fda"
      },
      "execution_count": null,
      "outputs": [
        {
          "output_type": "stream",
          "name": "stdout",
          "text": [
            "How tall are you? 60\n",
            "You are tall enough to ride.\n"
          ]
        }
      ]
    },
    {
      "cell_type": "markdown",
      "source": [
        "### 05_random_numbers\n",
        "\n",
        "\n",
        "Generate and print 10 random numbers between 1 and 100, with a different sequence each run. Use randint from the random library for inclusive random values.\n",
        "\n",
        "value = random.randint(1, 6)"
      ],
      "metadata": {
        "id": "exkeOxlgBoUN"
      }
    },
    {
      "cell_type": "code",
      "source": [
        "# 05_random_numbers\n",
        "\n",
        "import random\n",
        "\n",
        "N_NUMBERS : int = 10\n",
        "MIN_VALUE : int = 1\n",
        "MAX_VALUE : int = 100\n",
        "\n",
        "def main():\n",
        "\n",
        "  for i in range(N_NUMBERS):\n",
        "    print(random.randint(MIN_VALUE, MAX_VALUE))\n",
        "\n",
        "\n",
        "\n",
        "if __name__ == '__main__':\n",
        "  main()\n",
        "\n",
        "\n"
      ],
      "metadata": {
        "colab": {
          "base_uri": "https://localhost:8080/"
        },
        "id": "YoLZwUhJCFaD",
        "outputId": "2aeda2d5-df66-4a7b-f84c-c2136285cbda"
      },
      "execution_count": null,
      "outputs": [
        {
          "output_type": "stream",
          "name": "stdout",
          "text": [
            "27\n",
            "92\n",
            "53\n",
            "16\n",
            "21\n",
            "89\n",
            "22\n",
            "17\n",
            "98\n",
            "8\n"
          ]
        }
      ]
    },
    {
      "cell_type": "markdown",
      "source": [
        "## 04_dictionaries"
      ],
      "metadata": {
        "id": "KA3xl6T-fSAE"
      }
    },
    {
      "cell_type": "markdown",
      "source": [
        "### 00_count_nums\n",
        "\n",
        "This program counts occurrences of each number in a list using a dictionary. Example:\n",
        "Input numbers: 3, 4, 3, 6, 4, 3, 12\n",
        "Output: \"3 appears 3 times. 4 appears 2 times. 6 appears 1 time. 12 appears 1 time.\""
      ],
      "metadata": {
        "id": "x911rWpifhEz"
      }
    },
    {
      "cell_type": "code",
      "source": [
        "# 00_count_nums\n",
        "\n",
        "def get_user_numbers():\n",
        "    \"\"\"\n",
        "    Create an empty list.\n",
        "    Ask the user to input numbers and store them in a list.\n",
        "    Once they enter a blank line, break out of the loop and return the list.\n",
        "    \"\"\"\n",
        "\n",
        "    user_numbers = []\n",
        "    while True:\n",
        "        user_input = input(\"Enter a number :\")\n",
        "\n",
        "       # If the user enters a blank line, break out of the loop and stop asking for input\n",
        "        if user_input == \"\":\n",
        "            break\n",
        "\n",
        "      # convert the user input to an integer and add it to the list\n",
        "        num = int(user_input)\n",
        "        user_numbers.append(num)\n",
        "\n",
        "    return user_numbers\n",
        "\n",
        "def count_nums(num_lst):\n",
        "    \"\"\"\n",
        "    Create an empty dictionary.\n",
        "    Loop over the list of numbers.\n",
        "    If the number is not in the dictionary, add it as a key with a value of 1.\n",
        "    If the number is in the dictionary, increment its value by 1.\n",
        "    \"\"\"\n",
        "    num_dict = {}\n",
        "    for num in num_lst:\n",
        "        if num not in num_dict:\n",
        "          num_dict[num] = 1\n",
        "        else:\n",
        "          num_dict[num] += 1\n",
        "    return num_dict\n",
        "\n",
        "def print_counts(num_dict):\n",
        "    \"\"\"\n",
        "    Loop over the dictionary and print out each key and its value.\n",
        "    \"\"\"\n",
        "    for num in num_dict4:\n",
        "        print(str(num) + \" appears \" + str(num_dict[num]) + \" times.\")\n",
        "\n",
        "\n",
        "def main():\n",
        "  \"\"\"\n",
        "  Ask the user to input numbers and store them in a list. Once they print\n",
        "  out the numbers of times each numbers appeeas in the list.\n",
        "  \"\"\"\n",
        "  user_numbers = get_user_numbers()\n",
        "  num_dict = count_nums(user_numbers)\n",
        "  print_counts(num_dict)\n",
        "\n",
        "  # Python boilerplate\n",
        "if __name__ == '__main__':\n",
        "    main()"
      ],
      "metadata": {
        "id": "ZM3oMJSZfWMy",
        "colab": {
          "base_uri": "https://localhost:8080/"
        },
        "outputId": "237fc94c-282e-464d-fdd1-2d401760d35d"
      },
      "execution_count": null,
      "outputs": [
        {
          "output_type": "stream",
          "name": "stdout",
          "text": [
            "Enter a number :3\n",
            "Enter a number :4\n",
            "Enter a number :5\n",
            "Enter a number :4\n",
            "Enter a number :3\n",
            "Enter a number :12\n",
            "Enter a number :\n",
            "3 appears 2 times.\n",
            "4 appears 2 times.\n",
            "5 appears 1 times.\n",
            "12 appears 1 times.\n"
          ]
        }
      ]
    },
    {
      "cell_type": "markdown",
      "source": [
        "### 01_phonebook\n",
        "\n",
        "In this program we show an example of using dictionaries to keep track of information in a phonebook."
      ],
      "metadata": {
        "id": "6qFlxQnZrI12"
      }
    },
    {
      "cell_type": "code",
      "source": [
        "# 01_phonebook\n",
        "\n",
        "def read_phone_numbers():\n",
        "  \"\"\"\n",
        "  Ask the user for names/numbers to story in a phonebook (dictionary).\n",
        "  Returns the phonebook.\n",
        "  \"\"\"\n",
        "  phonebook = {}\n",
        "\n",
        "  while True:\n",
        "    name = input(\"Name: \")\n",
        "    if name == \"\":\n",
        "      break\n",
        "    number = input(\"Number: \")\n",
        "    phonebook[name] = number\n",
        "\n",
        "  return phonebook\n",
        "\n",
        "def print_phonebook(phonebook):\n",
        "  \"\"\"\n",
        "  Prints out all the names and numbers in the phonebook.\n",
        "  \"\"\"\n",
        "  for name in phonebook:\n",
        "    print(str(name) + \" -> \" + str(phonebook[name]))\n",
        "\n",
        "def lookup_numbers(phonebook):\n",
        "  \"\"\"\n",
        "  Allow the user to look up phonenumbers in the phonebook\n",
        "  by looking up the number associated with a name.\n",
        "  \"\"\"\n",
        "  while True:\n",
        "    name = input(\"Enter name to lookup: \")\n",
        "    if name == \"\":\n",
        "      break\n",
        "    if name not in phonebook:\n",
        "      print(name + \" is not in the phonebook. \")\n",
        "    else:\n",
        "      print(phonebook[name])\n",
        "\n",
        "def main():\n",
        "  phonebook = read_phone_numbers()\n",
        "  print_phonebook(phonebook)\n",
        "  lookup_numbers(phonebook)\n",
        "\n",
        "  # Python boilerplate\n",
        "if __name__ == '__main__':\n",
        "    main()"
      ],
      "metadata": {
        "colab": {
          "base_uri": "https://localhost:8080/"
        },
        "id": "ORMJhosDrPht",
        "outputId": "c0fdf39f-40a9-4e61-dd30-b287d5bc15d3"
      },
      "execution_count": null,
      "outputs": [
        {
          "name": "stdout",
          "output_type": "stream",
          "text": [
            "Name: Tasneem\n",
            "Number: 0333\n",
            "Name: Areej\n",
            "Number: 0987\n",
            "Name: Fatima\n",
            "Number: 6543\n",
            "Name: \n",
            "Tasneem -> 0333\n",
            "Areej -> 0987\n",
            "Fatima -> 6543\n",
            "Enter name to lookup: Tasneem\n",
            "0333\n",
            "Enter name to lookup: Areej\n",
            "0987\n",
            "Enter name to lookup: Fatima\n",
            "6543\n",
            "Enter name to lookup: \n"
          ]
        }
      ]
    },
    {
      "cell_type": "markdown",
      "source": [
        "### 02_pop_up_shop\n",
        "\n",
        "Write a program that calculates the total cost of fruit based on quantities entered by the user from a given price list. Prompt for each fruit’s quantity, then print the combined cost."
      ],
      "metadata": {
        "id": "waaGiMt20nSb"
      }
    },
    {
      "cell_type": "code",
      "source": [
        "# 02_pop_up_shop\n",
        "\n",
        "def main():\n",
        "    fruits = {'apple': 1.5, 'durian': 50, 'jackfruit': 80, 'kiwi': 1, 'rambutan': 1.5, 'mango': 5}\n",
        "\n",
        "    total_cost = 0\n",
        "    for fruit_name in fruits:\n",
        "        price = fruits[fruit_name]\n",
        "        amount_bought = int(input(\"How many (\" + fruit_name + \") do you want to buy?: \"))\n",
        "        total_cost += (price * amount_bought)\n",
        "\n",
        "    print(\"Your total is $\" + str(total_cost))\n",
        "\n",
        "\n",
        "# There is no need to edit code beyond this point\n",
        "\n",
        "if __name__ == '__main__':\n",
        "    main()"
      ],
      "metadata": {
        "id": "lwfcW0y70qOr"
      },
      "execution_count": null,
      "outputs": []
    },
    {
      "cell_type": "markdown",
      "source": [
        "### 03_powerful_passwords\n",
        "\n",
        "Program that verifies passwords for websites by comparing stored password hashes, without storing actual passwords. Use the provided hash_password(...) function to hash password_to_check and return True if it matches the stored hash for the given email in stored_logins. (Hint: hash_password(...) returns a password hash.)"
      ],
      "metadata": {
        "id": "67TXx0NI-Kmk"
      }
    },
    {
      "cell_type": "code",
      "source": [
        "# 03_powerful_passwords\n",
        "\n",
        "from hashlib import sha256\n",
        "\n",
        "def login(email, stored_logins, password_to_check):\n",
        "    \"\"\"\n",
        "    Returns True if the hash of the password we are checking matches the one in stored_logins\n",
        "    for a specific email. Otherwise, returns False.\n",
        "\n",
        "    email: the email we are checking the password for\n",
        "    stored_logins: a dictionary pointing from an email to its hashed password\n",
        "    password_to_check: a password we want to test alongside the email to login with\n",
        "    \"\"\"\n",
        "\n",
        "    if stored_logins[email] == hash_password(password_to_check):\n",
        "        return True\n",
        "\n",
        "    return False\n",
        "\n",
        "# There is no need to edit code beyond this point\n",
        "\n",
        "def hash_password(password):\n",
        "    \"\"\"\n",
        "    Takes in a password and returns the SHA256 hashed value for that specific password.\n",
        "\n",
        "    Inputs:\n",
        "        password: the password we want\n",
        "\n",
        "    Outputs:\n",
        "        the hashed form of the input password\n",
        "    \"\"\"\n",
        "\n",
        "    return sha256(password.encode()).hexdigest()\n",
        "\n",
        "def main():\n",
        "    # stored_logins is a dictionary with emails as keys and hashed passwords as values\n",
        "    stored_logins = {\n",
        "        \"example@gmail.com\": \"5e884898da28047151d0e56f8dc6292773603d0d6aabbdd62a11ef721d1542d8\",\n",
        "        \"code_in_placer@cip.org\": \"973607a4ae7b4cf7d96a100b0fb07e8519cc4f70441d41214a9f811577bb06cc\",\n",
        "        \"student@stanford.edu\": \"882c6df720fd99f5eebb1581a1cf975625cea8a160283011c0b9512bb56c95fb\"\n",
        "    }\n",
        "\n",
        "    print(login(\"example@gmail.com\", stored_logins, \"word\"))\n",
        "    print(login(\"example@gmail.com\", stored_logins, \"password\"))\n",
        "\n",
        "    print(login(\"code_in_placer@cip.org\", stored_logins, \"Karel\"))\n",
        "    print(login(\"code_in_placer@cip.org\", stored_logins, \"karel\"))\n",
        "\n",
        "    print(login(\"student@stanford.edu\", stored_logins, \"password\"))\n",
        "    print(login(\"student@stanford.edu\", stored_logins, \"123!456?789\"))\n",
        "\n",
        "\n",
        "if __name__ == '__main__':\n",
        "    main()"
      ],
      "metadata": {
        "id": "fPU25bT_-Qtu"
      },
      "execution_count": null,
      "outputs": []
    },
    {
      "cell_type": "markdown",
      "source": [
        "## 05_loops_control_flow"
      ],
      "metadata": {
        "id": "JPLtLxOFrlsK"
      }
    },
    {
      "cell_type": "markdown",
      "source": [
        "### 00_guess_my_number\n",
        "\n",
        "Guess My Number\" game where you guess a number between 0 and 99. The program gives feedback whether the guess is too high, too low, or correct, until you guess the right number."
      ],
      "metadata": {
        "id": "V5BpHU3mrtmh"
      }
    },
    {
      "cell_type": "code",
      "source": [
        "import random\n",
        "\n",
        "def main():\n",
        "    # Generate the secret number at random!\n",
        "    secret_number = random.randint(1, 99)\n",
        "\n",
        "    print(\"I am thinking of a number between 1 and 99...\")\n",
        "\n",
        "    # Get user's guess\n",
        "    guess = int(input(\"Enter a guess: \"))\n",
        "    # True if guess is not equal to secret number\n",
        "    while guess != secret_number:\n",
        "        if guess < secret_number:  # If-statement is True if guess is less than secret number\n",
        "            print(\"Your guess is too low\")\n",
        "        else:\n",
        "            print(\"Your guess is too high\")\n",
        "\n",
        "        print() # Print an empty line to tidy up the console for new guesses\n",
        "        guess = int(input(\"Enter a new guess: \"))  # Get a new guess from the user\n",
        "\n",
        "    print(\"Congrats! The number was: \" + str(secret_number))\n",
        "\n",
        "if __name__ == '__main__':\n",
        "    main()"
      ],
      "metadata": {
        "colab": {
          "base_uri": "https://localhost:8080/"
        },
        "id": "tte1UJzornsN",
        "outputId": "41af117f-80bd-4059-88a6-3ce86d831c7d"
      },
      "execution_count": null,
      "outputs": [
        {
          "output_type": "stream",
          "name": "stdout",
          "text": [
            "I am thinking of a number between 1 and 99...\n",
            "Enter a guess: 5\n",
            "Your guess is too low\n",
            "\n",
            "Enter a new guess: 9\n",
            "Your guess is too low\n",
            "\n",
            "Enter a new guess: 78\n",
            "Your guess is too high\n",
            "\n",
            "Enter a new guess: 40\n",
            "Your guess is too low\n",
            "\n",
            "Enter a new guess: 48\n",
            "Your guess is too low\n",
            "\n",
            "Enter a new guess: 50\n",
            "Your guess is too low\n",
            "\n",
            "Enter a new guess: 60\n",
            "Your guess is too high\n",
            "\n",
            "Enter a new guess: 55\n",
            "Your guess is too high\n",
            "\n",
            "Enter a new guess: 51\n",
            "Congrats! The number was: 51\n"
          ]
        }
      ]
    },
    {
      "cell_type": "markdown",
      "source": [
        "### 01_fibonacci\n",
        "\n",
        "Write a program that prints Fibonacci sequence terms starting from 0 and 1, continuing until the terms exceed 10,000. The program should display the terms as follows: 0 1 1 2 3 5 8 13 21 34 55 89 144 233 377 610 987 1597 2584 4181 6765."
      ],
      "metadata": {
        "id": "vNTOuUfVuc0D"
      }
    },
    {
      "cell_type": "code",
      "source": [
        "# 01_fibonacci\n",
        "\n",
        "MAX_TERM_VALUE : int = 1000\n",
        "\n",
        "def main():\n",
        "    curr_term = 0 # The 0th Fibonacci Number\n",
        "    next_term = 1 # The 1st Fibonacci Number\n",
        "    while curr_term <= MAX_TERM_VALUE:\n",
        "        print(curr_term)\n",
        "        term_after_next = curr_term + next_term\n",
        "        curr_term = next_term\n",
        "        next_term = term_after_next\n",
        "if __name__ == '__main__':\n",
        "    main()\n",
        "#"
      ],
      "metadata": {
        "colab": {
          "base_uri": "https://localhost:8080/"
        },
        "id": "bxaZ1txTugCB",
        "outputId": "1819daff-c8cb-45ce-c425-00891c3b14dd"
      },
      "execution_count": null,
      "outputs": [
        {
          "output_type": "stream",
          "name": "stdout",
          "text": [
            "0\n",
            "1\n",
            "1\n",
            "2\n",
            "3\n",
            "5\n",
            "8\n",
            "13\n",
            "21\n",
            "34\n",
            "55\n",
            "89\n",
            "144\n",
            "233\n",
            "377\n",
            "610\n",
            "987\n"
          ]
        }
      ]
    },
    {
      "cell_type": "markdown",
      "source": [
        "### 02_print_events\n",
        "\n",
        "A program that prints the first 20 even numbers. There are several correct approaches, but they all use a loop of some sort.\n",
        "\n",
        "The first even number is 0:\n",
        "\n",
        "0 2 4 6 8 10 12 14 16 18 20 22 24 26 28 30 32 34 36 38\n",
        "\n"
      ],
      "metadata": {
        "id": "AEdE0qANw7RA"
      }
    },
    {
      "cell_type": "code",
      "source": [
        "# 02_print_events\n",
        "\n",
        "def main():\n",
        "    # This for-loop start at 0 and counts up to 19 (for a total of 20 numbers)\n",
        "    for i in range(20):\n",
        "        print(i * 2)  # Use the 'i' value inside the for-loop\n",
        "\n",
        "# Call the main function when \"run\", no need to edit anything below!\n",
        "if __name__ == \"__main__\":\n",
        "    main()"
      ],
      "metadata": {
        "colab": {
          "base_uri": "https://localhost:8080/"
        },
        "id": "T3uQqT6PxAHk",
        "outputId": "90813abe-4ecd-43fd-c21e-fc5f475046ad"
      },
      "execution_count": null,
      "outputs": [
        {
          "output_type": "stream",
          "name": "stdout",
          "text": [
            "0\n",
            "2\n",
            "4\n",
            "6\n",
            "8\n",
            "10\n",
            "12\n",
            "14\n",
            "16\n",
            "18\n",
            "20\n",
            "22\n",
            "24\n",
            "26\n",
            "28\n",
            "30\n",
            "32\n",
            "34\n",
            "36\n",
            "38\n"
          ]
        }
      ]
    },
    {
      "cell_type": "markdown",
      "source": [
        "### 03_wholesome_machine\n",
        "\n",
        " A program that repeatedly prompts the user to type the affirmation \"I am capable of doing anything I put my mind to.\" until they type it correctly. The program will acknowledge the correct input with \"That's right! :)\" after the user enters it.\n",
        "\n",
        "\n",
        "\n",
        "\n",
        "\n",
        "\n"
      ],
      "metadata": {
        "id": "PBMXBZ61xmet"
      }
    },
    {
      "cell_type": "code",
      "source": [
        "# 03_wholesome_machine\n",
        "\n",
        "AFFIRMATION : str = \"I am capable of doing anything I put my mind to.\"\n",
        "\n",
        "def main():\n",
        "  print(\"Please type the following affirmation: \" + AFFIRMATION)\n",
        "\n",
        "  user_feedback = input() # Get user's input\n",
        "  while user_feedback != AFFIRMATION:   # While the user's input isn't the affirmation\n",
        "\n",
        "    # Tell the user that they did not type the affirmation correctly\n",
        "    print(\"That was not the affirmation.\")\n",
        "\n",
        "    # Ask the user to type the affirmation again!\n",
        "    print(\"Please type the following affirmation: \" + AFFIRMATION)\n",
        "    user_feedback = input()\n",
        "\n",
        "  print(\"That's right! :)\")\n",
        "\n",
        "if __name__ == '__main__':\n",
        "  main()\n",
        "\n"
      ],
      "metadata": {
        "colab": {
          "base_uri": "https://localhost:8080/"
        },
        "id": "mo0Ch0Asxnss",
        "outputId": "bec4b37f-89d2-4d3e-e7cc-15fcdba67cf5"
      },
      "execution_count": null,
      "outputs": [
        {
          "output_type": "stream",
          "name": "stdout",
          "text": [
            "Please type the following affirmation: I am capable of doing anything I put my mind to.\n",
            "I am capable of doing anything I put my mind to.\n",
            "That's right! :)\n"
          ]
        }
      ]
    },
    {
      "cell_type": "markdown",
      "source": [
        "### 04_liftoff\n",
        "A program that counts down from 10 to 1 and then prints \"Liftoff!\" using a for loop. The loop will print the numbers from 10 to 1 in descending order, followed by the message \"Liftoff!\"."
      ],
      "metadata": {
        "id": "SERABbfOzw2E"
      }
    },
    {
      "cell_type": "code",
      "source": [
        "# 04_liftoff\n",
        "\n",
        "def main():\n",
        "    # Countdown from 10 to 1\n",
        "    for i in range(10, 0, -1):  # Start from 10, go down to 1, decrement by 1 each time\n",
        "        print(i, end=\" \")       # Print the countdown numbers on the same line with a space\n",
        "    print(\"Liftoff!\")           # Print \"Liftoff!\" after the countdown is complete\n",
        "\n",
        "# This line is required at the end of the Python file to call the main() function.\n",
        "if __name__ == '__main__':\n",
        "    main()\n"
      ],
      "metadata": {
        "colab": {
          "base_uri": "https://localhost:8080/"
        },
        "id": "Mt_Sk9Bsx37E",
        "outputId": "e1c692f9-0ef1-492c-95e2-4d5f82c258eb"
      },
      "execution_count": null,
      "outputs": [
        {
          "output_type": "stream",
          "name": "stdout",
          "text": [
            "10 9 8 7 6 5 4 3 2 1 Liftoff!\n"
          ]
        }
      ]
    },
    {
      "cell_type": "markdown",
      "source": [
        "### 05_double_it\n",
        "\n",
        "A program that asks the user to enter a number, then repeatedly doubles it until the value reaches 100 or more. The program prints the results at each step. Use a while loop to continue doubling the value as long as it is less than 100.\n",
        "\n",
        "\n",
        "\n",
        "\n",
        "\n",
        "\n"
      ],
      "metadata": {
        "id": "D4zBAv7F1Mn5"
      }
    },
    {
      "cell_type": "code",
      "source": [
        "# 05_double_it\n",
        "\n",
        "def main():\n",
        "    # Ask the user to enter a number\n",
        "    curr_value = int(input(\"Enter a number: \"))\n",
        "\n",
        "    # Use a while loop to double the number until it's 100 or more\n",
        "    while curr_value < 100:\n",
        "        curr_value = curr_value * 2  # Double the current value\n",
        "        print(curr_value, end=\" \")   # Print the doubled value on the same line\n",
        "\n",
        "# This line is required at the end of the Python file to call the main() function.\n",
        "if __name__ == '__main__':\n",
        "    main()\n"
      ],
      "metadata": {
        "colab": {
          "base_uri": "https://localhost:8080/"
        },
        "id": "eO1rAKTl1JuU",
        "outputId": "0171cc95-5c5e-4c84-a35a-c6b29e2915ef"
      },
      "execution_count": null,
      "outputs": [
        {
          "output_type": "stream",
          "name": "stdout",
          "text": [
            "Enter a number: 5\n",
            "10 20 40 80 160 "
          ]
        }
      ]
    },
    {
      "cell_type": "code",
      "source": [],
      "metadata": {
        "id": "WPJNvIRM1kzV"
      },
      "execution_count": null,
      "outputs": []
    },
    {
      "cell_type": "markdown",
      "source": [
        "## 06_functions"
      ],
      "metadata": {
        "id": "sQ05D6qIYFaa"
      }
    },
    {
      "cell_type": "markdown",
      "source": [
        "### 00_averages\n",
        "\n",
        "A function that takes two numbers and finds the average between the two.\n",
        "\n"
      ],
      "metadata": {
        "id": "XFGmTwFmYYlh"
      }
    },
    {
      "cell_type": "code",
      "source": [
        "# 00_averages\n",
        "\n",
        "def average(a: float, b: float):\n",
        "  \"\"\"\n",
        "  Return the number which is half way between a and b\n",
        "  \"\"\"\n",
        "  sum = a + b\n",
        "  return sum / 2\n",
        "\n",
        "def main():\n",
        "  avg_1 = average(0, 10)\n",
        "  avg_2 = average(8, 10)\n",
        "\n",
        "  final = average(avg_1, avg_2)\n",
        "  print(\"avg_1\", avg_1)\n",
        "  print(\"avg_2\", avg_2)\n",
        "  print(\"final\", final)\n",
        "\n",
        "if __name__ == '__main__':\n",
        "    main()"
      ],
      "metadata": {
        "colab": {
          "base_uri": "https://localhost:8080/"
        },
        "id": "LuBqxj51YeAD",
        "outputId": "2d3a3a8e-9f49-4606-b05e-087c39701a37"
      },
      "execution_count": null,
      "outputs": [
        {
          "output_type": "stream",
          "name": "stdout",
          "text": [
            "avg_1 5.0\n",
            "avg_2 9.0\n",
            "final 7.0\n"
          ]
        }
      ]
    },
    {
      "cell_type": "markdown",
      "source": [
        "### 01_chaotic_counting\n",
        "\n",
        "Create a function chaotic_counting() that prints numbers 1 to 10 but stops randomly based on done() returning True. If it stops early, control returns to main(), which prints \"I'm done.\" Example: \"1 2 3 I'm done.\""
      ],
      "metadata": {
        "id": "ac54_Sjmaz9E"
      }
    },
    {
      "cell_type": "code",
      "source": [
        "# 01_chaotic_counting\n",
        "\n",
        "import random\n",
        "\n",
        "# Define the likelihood of stopping early (adjust this between 0 and 1 if needed)\n",
        "DONE_LIKELIHOOD = 0.3\n",
        "\n",
        "def chaotic_counting():\n",
        "  for i in range(10):\n",
        "    curr_num = i + 1\n",
        "    if done():\n",
        "        return # this ends the function execution, so we'll get back to the main()\n",
        "    print(curr_num)\n",
        "\n",
        "def done():\n",
        "  \"\"\" Returns True with a probability of DONE_LIKELIHOOD \"\"\"\n",
        "  if random.random() < DONE_LIKELIHOOD:\n",
        "    return True\n",
        "  return False\n",
        "\n",
        "def main():\n",
        "  print(\"I'm going to count until 10 or until I feel like stopping, whichever comes first.\")\n",
        "  chaotic_counting()\n",
        "  print(\"I'm done\")\n",
        "\n",
        "if __name__ == '__main__':\n",
        "  main()"
      ],
      "metadata": {
        "colab": {
          "base_uri": "https://localhost:8080/"
        },
        "id": "rXVhengNa84E",
        "outputId": "484d5cff-d7c1-46f8-e874-fd267b4e237b"
      },
      "execution_count": null,
      "outputs": [
        {
          "output_type": "stream",
          "name": "stdout",
          "text": [
            "I'm going to count until 10 or until I feel like stopping, whichever comes first.\n",
            "I'm done\n"
          ]
        }
      ]
    },
    {
      "cell_type": "markdown",
      "source": [
        "### 02_count_even\n",
        "\n",
        "Define count_even(lst) to:\n",
        "\n",
        "Prompt the user to enter integers until pressing enter.\n",
        "Count and print the number of even numbers in the list.\n",
        "Use the provided input prompt: \"Enter an integer or press enter to stop: \"."
      ],
      "metadata": {
        "id": "Drx69H-GfCRy"
      }
    },
    {
      "cell_type": "code",
      "source": [
        "# 02_count_even\n",
        "\n",
        "def count_even(lst):\n",
        "  \"\"\"\n",
        "  Returns number of even numbers in the list.\n",
        "  >>> count_even([1, 2, 3, 4])\n",
        "  2\n",
        "  >>> count_even([1, 3, 5, 7])\n",
        "  0\n",
        "  \"\"\"\n",
        "\n",
        "  count = 0\n",
        "  for num in lst:\n",
        "    if num % 2 == 0:\n",
        "      count += 1\n",
        "\n",
        " # Here's another way to do this same thing, with a different kind of for-loop:\n",
        "    # for i in range(len(lst)):\n",
        "    #     num = lst[i]\n",
        "    #     if num % 2 == 0:\n",
        "    #         count += 1\n",
        "\n",
        "    print(count)\n",
        "\n",
        "def get_list_of_ints():\n",
        "    \"\"\"\n",
        "    Read in integers until the user pressess and return the resulting list\n",
        "    \"\"\"\n",
        "    lst = []\n",
        "    user_input = input(\"Enter an integer or press enter to stop: \")  # Get user input for an integer\n",
        "    while user_input != \"\":  # While the user doesn't enter nothing...\n",
        "        lst.append(int(user_input))  # Cast the user input into an integer and add it to our list\n",
        "        user_input = input(\"Enter an integer or press enter to stop: \")  # Get the next user input\n",
        "\n",
        "    return lst\n",
        "\n",
        "    def main():\n",
        "      lst = get_list_of_ints()\n",
        "      count_even(lst)\n",
        "\n",
        "if __name__ == '__main__':\n",
        "    main()\n"
      ],
      "metadata": {
        "colab": {
          "base_uri": "https://localhost:8080/"
        },
        "id": "6hjay8Ywftlg",
        "outputId": "a049c2a2-a805-4301-9fd0-4b181644393d"
      },
      "execution_count": null,
      "outputs": [
        {
          "output_type": "stream",
          "name": "stdout",
          "text": [
            "I'm going to count until 10 or until I feel like stopping, whichever comes first.\n",
            "1\n",
            "2\n",
            "3\n",
            "I'm done\n"
          ]
        }
      ]
    },
    {
      "cell_type": "markdown",
      "source": [
        "### 04_double\n",
        "\n",
        "Fill out the double(num) function to return the result of multiplying num by 2. We've written a main() function for you which asks the user for a number, calls your code for double(num) , and prints the result.\n",
        "\n",
        "Here's a sample run of the program (user input in bold italics):\n",
        "\n",
        "Enter a number: 2 Double that is 4"
      ],
      "metadata": {
        "id": "J90Wuqi1jknv"
      }
    },
    {
      "cell_type": "code",
      "source": [
        "# 04_double\n",
        "\n",
        "def double(num: int):\n",
        "  return num * 2\n",
        "\n",
        "def main():\n",
        "  num = int(input(\"Enter a number: \"))\n",
        "  num_times_2 = double(num)\n",
        "  print(\"Double that is\", num_times_2)\n",
        "\n",
        "if __name__ == '__main__':\n",
        "  main()"
      ],
      "metadata": {
        "colab": {
          "base_uri": "https://localhost:8080/"
        },
        "id": "sZFLpROIfrX6",
        "outputId": "aa2eb723-5053-433e-b2f5-9142fb58dc2f"
      },
      "execution_count": null,
      "outputs": [
        {
          "output_type": "stream",
          "name": "stdout",
          "text": [
            "Enter a number: 3\n",
            "Double that is 6\n"
          ]
        }
      ]
    },
    {
      "cell_type": "markdown",
      "source": [
        "### 05_get_name\n",
        "\n",
        "Complete get_name() to return your name as a string (use \"Sophia\" for autograder). main() prints a greeting using this function."
      ],
      "metadata": {
        "id": "vSj-IQVLktH6"
      }
    },
    {
      "cell_type": "code",
      "source": [
        "# 05_get_name\n",
        "\n",
        "def get_name():\n",
        "  return \"Sophia\"\n",
        "\n",
        "def main():\n",
        "  name = get_name()\n",
        "  print(\"Howdy\", name, \"!🙂\")\n",
        "\n",
        "if __name__ == '__main__':\n",
        "  main()"
      ],
      "metadata": {
        "colab": {
          "base_uri": "https://localhost:8080/"
        },
        "id": "eHd_rpFdk3sI",
        "outputId": "d885bdf4-8557-40c2-dca8-82c4d72185d4"
      },
      "execution_count": null,
      "outputs": [
        {
          "output_type": "stream",
          "name": "stdout",
          "text": [
            "Howdy Sophia !🙂\n"
          ]
        }
      ]
    },
    {
      "cell_type": "markdown",
      "source": [
        "### 06_is_odd\n",
        "\n",
        "10 even 11 odd 12 even 13 odd 14 even 15 odd 16 even 17 odd 18 even 19 odd"
      ],
      "metadata": {
        "id": "OM6_lXDDpHy0"
      }
    },
    {
      "cell_type": "code",
      "source": [
        "# 06_is_odd\n",
        "\n",
        "def main():\n",
        "  for i in range(10):\n",
        "    if is_odd(i):\n",
        "      print('odd')\n",
        "    else:\n",
        "      print('even')\n",
        "\n",
        "def is_odd(value:int):\n",
        "  \"\"\"\n",
        "  Check to see if a value is odd. if it's , resume true.\n",
        "  \"\"\"\n",
        "  remainder = value % 2 # 0 if value is divisible by 2, 1 if it isn't\n",
        "  return remainder == 1\n",
        "\n",
        "if __name__ == '__main__':\n",
        "  main()\n"
      ],
      "metadata": {
        "colab": {
          "base_uri": "https://localhost:8080/"
        },
        "id": "Ha7EVhDSpNR4",
        "outputId": "4a474955-6e9c-426f-c781-2ca986047470"
      },
      "execution_count": null,
      "outputs": [
        {
          "output_type": "stream",
          "name": "stdout",
          "text": [
            "even\n",
            "odd\n",
            "even\n",
            "odd\n",
            "even\n",
            "odd\n",
            "even\n",
            "odd\n",
            "even\n",
            "odd\n"
          ]
        }
      ]
    },
    {
      "cell_type": "markdown",
      "source": [
        "### 07_print_divisor\n",
        "\n",
        "Define print_divisors(num) to print all divisors of num from 1 to num. Call it in main() to display divisors based on user input."
      ],
      "metadata": {
        "id": "8DR6O1NoASr6"
      }
    },
    {
      "cell_type": "code",
      "source": [
        "def print_divisors(num: int):\n",
        "  print(\"Here are the divisors of \", num )\n",
        "  for i in range(num):\n",
        "    curr_divisor = i + 1\n",
        "    if num % curr_divisor == 0:\n",
        "      print(curr_divisor)\n",
        "\n",
        "def main():\n",
        "  num = int(input(\"Enter a number: \"))\n",
        "  print_divisors(num)\n",
        "\n",
        "if __name__ == '__main__':\n",
        "  main()"
      ],
      "metadata": {
        "colab": {
          "base_uri": "https://localhost:8080/"
        },
        "id": "kEXUTZl_Apji",
        "outputId": "eab00891-699f-4363-d982-7ccf3b856451"
      },
      "execution_count": null,
      "outputs": [
        {
          "output_type": "stream",
          "name": "stdout",
          "text": [
            "Enter a number: 50\n",
            "Here are the divisors of  50\n",
            "1\n",
            "2\n",
            "5\n",
            "10\n",
            "25\n",
            "50\n"
          ]
        }
      ]
    },
    {
      "cell_type": "markdown",
      "source": [
        "### 08_print_multiple\n",
        "\n",
        "\n",
        "Define print_multiple(message, repeats) to print message exactly repeats times. Use it in main() to handle user input and display the repeated message."
      ],
      "metadata": {
        "id": "ibfSOQlPBoFo"
      }
    },
    {
      "cell_type": "code",
      "source": [
        "def print_multiple(message, repeats):\n",
        "    for _ in range(repeats):\n",
        "        print(message)\n",
        "\n",
        "def main():\n",
        "    message = input(\"Please type a message: \")\n",
        "    repeats = int(input(\"Enter a number of times to repeat your message: \"))\n",
        "    print_multiple(message, repeats)\n",
        "\n",
        "if __name__ == '__main__':\n",
        "    main()\n"
      ],
      "metadata": {
        "colab": {
          "base_uri": "https://localhost:8080/"
        },
        "id": "YNPE3aHJB5wF",
        "outputId": "fb96a70c-15a7-4ffc-ebb4-370e911ac2e9"
      },
      "execution_count": null,
      "outputs": [
        {
          "output_type": "stream",
          "name": "stdout",
          "text": [
            "Please type a message: Hello World\n",
            "Enter a number of times to repeat your message: 4\n",
            "Hello World\n",
            "Hello World\n",
            "Hello World\n",
            "Hello World\n"
          ]
        }
      ]
    },
    {
      "cell_type": "markdown",
      "source": [
        "### 09_sentence_generator\n",
        "\n",
        "Define make_sentence(word, part_of_speech) to print a sentence based on part_of_speech:\n",
        "\n",
        "If part_of_speech is 0, we will assume the word is a noun and use the template: \"I am excited to add this ____ to my vast collection of them!\"\n",
        "\n",
        "If part_of_speech is 1, we will assume the word is a verb use the template: \"It's so nice outside today it makes me want to ____!\"\n",
        "\n",
        "If part_of_speech is 2, we will assume the word is an adjective and use the template: \"Looking out my window, the sky is big and ____!\" make_sentence(word, part_of_speech) should not return anything, just print the correct sentence with the word filled in the blank.\n",
        "\n",
        "Here's a sample run of the program (user input is in blue):\n",
        "\n",
        "Please type a noun, verb, or adjective: groovy Is this a noun, verb, or adjective? Type 0 for noun, 1 for verb, 2 for adjective: 2 Looking out my window, the sky is big and groovy!"
      ],
      "metadata": {
        "id": "IlSzEUcqCzKG"
      }
    },
    {
      "cell_type": "code",
      "source": [
        "# 09_sentence_generator\n",
        "\n",
        "def make_sentence(word, part_of_speech):\n",
        "  if part_of_speech == 0:\n",
        "    # noun\n",
        "    print(\"I am excited to add this \"+ word + \" to my vast collection of them!\")\n",
        "  elif part_of_speech == 1:\n",
        "    # verb\n",
        "    print (\"It's so nice outside today it makes me want to \" + word + \"!\")\n",
        "  elif part_of_speech == 2:\n",
        "    # adjective\n",
        "    print(\"Looking out my window, the sky is big and \" + word + \"!\")\n",
        "  else:\n",
        "    # part_of_speech is invalid (not 0, 1, or 2)\n",
        "    print(\"Part of speech must be 0, 1, or 2! Can't make a sentence. \")\n",
        "def main():\n",
        "  word : str = input(\"Please type a noun, verb, or adjective \")\n",
        "  print(\"Is this a noun, verb or adjective? \")\n",
        "  part_of_speech =int(input(\"Type 0 for noun, 1 for verb, 2 for adjective \"))\n",
        "  make_sentence(word, part_of_speech)\n",
        "\n",
        "if __name__ == '__main__':\n",
        "  main()"
      ],
      "metadata": {
        "colab": {
          "base_uri": "https://localhost:8080/"
        },
        "id": "T-UbTz2mRGso",
        "outputId": "5e490fac-9f92-49c1-acf6-450ed1bdddcc"
      },
      "execution_count": null,
      "outputs": [
        {
          "output_type": "stream",
          "name": "stdout",
          "text": [
            "Please type a noun, verb, or adjective bright\n",
            "Is this a noun, verb or adjective? \n",
            "Type 0 for noun, 1 for verb, 2 for adjective 2\n",
            "Looking out my window, the sky is big and bright!\n"
          ]
        }
      ]
    },
    {
      "cell_type": "markdown",
      "source": [
        "### 10_print_ones_digit\n",
        "\n",
        "A function called print_ones_digit , which takes as a parameter an integer num and prints its ones digit. The modulo (remainder) operator, %, should be helpful to you here. Call your function from main()!\n",
        "\n",
        "Here's a sample run (user input is in blue):\n",
        "\n",
        "Enter a number: 42 The ones digit is 2\n"
      ],
      "metadata": {
        "id": "fx04tn5AV3fz"
      }
    },
    {
      "cell_type": "code",
      "source": [
        "#10_print_ones_digit\n",
        "\n",
        "def print_ones_digit(num):\n",
        "  print(\"The ones digit is \", num % 10)\n",
        "\n",
        "def main():\n",
        "  num = int(input(\"Enter a number: \"))\n",
        "  print_ones_digit(num)\n",
        "\n",
        "\n",
        "if __name__ == '__main__':\n",
        "  main()"
      ],
      "metadata": {
        "colab": {
          "base_uri": "https://localhost:8080/"
        },
        "id": "ZgZnXXxeVZWG",
        "outputId": "184e1b42-8286-4488-f30d-959ef4292f76"
      },
      "execution_count": null,
      "outputs": [
        {
          "output_type": "stream",
          "name": "stdout",
          "text": [
            "Enter a number: 368\n",
            "The ones digit number is  8\n"
          ]
        }
      ]
    },
    {
      "cell_type": "markdown",
      "source": [
        "## 07_information_flow"
      ],
      "metadata": {
        "id": "aA7VpTwVWQNS"
      }
    },
    {
      "cell_type": "markdown",
      "source": [
        "### 00_choosing_returns\n",
        "\n",
        "Fill out is_adult(age) to return True if age >= ADULT_AGE, otherwise return False. Here's a sample:\n",
        "\n",
        "Input: 35 → Output: True\n",
        "Input: 7 → Output: False"
      ],
      "metadata": {
        "id": "nIth3VznWXBF"
      }
    },
    {
      "cell_type": "code",
      "source": [
        "# 00_choosing_returns\n",
        "\n",
        "ADULT_AGE : int = 18\n",
        "\n",
        "def is_adult(age: int):\n",
        "  if age >= ADULT_AGE:\n",
        "    return True\n",
        "  return False\n",
        "\n",
        "def main():\n",
        "  age : str = int(input(\"How old is the person?:\"))\n",
        "  print(is_adult(age))\n",
        "\n",
        "if __name__ == '__main__':\n",
        "    main()"
      ],
      "metadata": {
        "colab": {
          "base_uri": "https://localhost:8080/"
        },
        "id": "BtDAOpN4WwXD",
        "outputId": "8f5a79d2-5cc8-49ce-b31c-4783fa956139"
      },
      "execution_count": null,
      "outputs": [
        {
          "output_type": "stream",
          "name": "stdout",
          "text": [
            "How old is the person?:32\n",
            "True\n"
          ]
        }
      ]
    },
    {
      "cell_type": "markdown",
      "source": [
        "### 01_greetings\n",
        "\n",
        "\n",
        "Use greet(name) to print a greeting. In main(), prompt the user for their name and call greet(name).\n",
        "\n",
        "Sample:\n",
        "Input: Sophia → Output: Greetings Sophia!"
      ],
      "metadata": {
        "id": "McX4CAOzX0bK"
      }
    },
    {
      "cell_type": "code",
      "source": [
        "# 01_greetings\n",
        "\n",
        "def main():\n",
        "  name : str = input(\"What's your name? \")\n",
        "  print(greet(name))\n",
        "\n",
        "def greet(name: str):\n",
        "  return \"Greetings \" + name + \"!\"\n",
        "\n",
        "if __name__ == '__main__':\n",
        "  main()"
      ],
      "metadata": {
        "colab": {
          "base_uri": "https://localhost:8080/"
        },
        "id": "IV26J7pD-GaL",
        "outputId": "b531dbac-d217-4bff-f5af-ff7529cc10cb"
      },
      "execution_count": null,
      "outputs": [
        {
          "output_type": "stream",
          "name": "stdout",
          "text": [
            "What's your name? Tas\n",
            "Greetings Tas!\n"
          ]
        }
      ]
    },
    {
      "cell_type": "markdown",
      "source": [
        "### 02_in_range\n",
        "\n",
        "Implement the following function which takes in 3 integers as parameters:\n",
        "\n",
        "def in_range(n, low, high) \"\"\" Returns True if n is between low and high, inclusive. high is guaranteed to be greater than low. \"\"\""
      ],
      "metadata": {
        "id": "NvvtUsRr919-"
      }
    },
    {
      "cell_type": "code",
      "source": [
        "def in_range(n, low, high):\n",
        "    \"\"\"\n",
        "    Returns True if n is between low and high, inclusive.\n",
        "    high is guaranteed to be greater than low.\n",
        "    \"\"\"\n",
        "    return low <= n <= high  # Checks if n is within the inclusive range of low and high\n",
        "\n",
        "def main():\n",
        "    # Testing the in_range function with various inputs\n",
        "    print(\"Testing in_range function:\")\n",
        "    print(in_range(5, 1, 10))    # Expected output: True, because 5 is between 1 and 10\n",
        "    print(in_range(0, 1, 10))    # Expected output: False, because 0 is outside the range 1 to 10\n",
        "    print(in_range(10, 1, 10))   # Expected output: True, because 10 is within the range 1 to 10\n",
        "    print(in_range(1, 1, 10))    # Expected output: True, because 1 is within the range 1 to 10\n",
        "\n",
        "# This line is required to call the main() function when the script is run directly\n",
        "if __name__ == '__main__':\n",
        "    main()"
      ],
      "metadata": {
        "colab": {
          "base_uri": "https://localhost:8080/"
        },
        "id": "hrumcZ-vDxfy",
        "outputId": "39674afa-856a-47ef-85d6-8c5a883afe42"
      },
      "execution_count": null,
      "outputs": [
        {
          "output_type": "stream",
          "name": "stdout",
          "text": [
            "Testing in_range function:\n",
            "True\n",
            "False\n",
            "True\n",
            "True\n"
          ]
        }
      ]
    },
    {
      "cell_type": "markdown",
      "source": [
        "### 03_in_stock\n",
        "\n",
        "Sophia's fruit store has a function num_in_stock(fruit) that returns the stock of a given fruit. In main(), prompt the user to input a fruit, check its stock, Call num_in_stock(fruit) to get the number of that fruit that Sophia has in stock and print the result:\n",
        "\n",
        "If stock > 0: print the quantity.\n",
        "Otherwise: print \"This fruit is not in stock.\"\n",
        "Example Runs:\n",
        "\n",
        "Input: pear\n",
        "Output:\n",
        "This fruit is in stock! Here is how many:\n",
        "1000\n",
        "\n",
        "Input: lychee\n",
        "Output:\n",
        "This fruit is not in stock."
      ],
      "metadata": {
        "id": "HPwHcayr-Dcf"
      }
    },
    {
      "cell_type": "code",
      "source": [
        "# 03_in_stock\n",
        "\n",
        "def main():\n",
        "  fruit : str = input(\"Enter a fruit: \")\n",
        "  stock = num_in_stock(fruit)\n",
        "  if stock == 0:\n",
        "        print(\"This fruit is not in stock.\")\n",
        "  else:\n",
        "        print(\"This fruit is in stock! Here is how many: \")\n",
        "        print(stock)\n",
        "\n",
        "def num_in_stock(fruit):\n",
        "  \"\"\"\n",
        "\tThis function returns the number of fruit Sophia has in stock.\n",
        "\t\"\"\"\n",
        "  if fruit == 'apple':\n",
        "    return 2\n",
        "  if fruit == 'durian':\n",
        "    return 4\n",
        "  if fruit == 'pear':\n",
        "    return 1000\n",
        "  else:\n",
        "\t\t# this fruit is not in stock.\n",
        "\t\t    return 0\n",
        "\n",
        "if __name__ == '__main__':\n",
        "  main()"
      ],
      "metadata": {
        "id": "LDk6sCZA-O6a",
        "colab": {
          "base_uri": "https://localhost:8080/"
        },
        "outputId": "373a38d1-1791-445c-ad01-c6c663570c71"
      },
      "execution_count": null,
      "outputs": [
        {
          "output_type": "stream",
          "name": "stdout",
          "text": [
            "Enter a fruit: apple\n",
            "This fruit is in stock! Here is how many: \n",
            "2\n"
          ]
        }
      ]
    },
    {
      "cell_type": "markdown",
      "source": [
        "### 04_multiple_returns\n",
        "\n",
        "Task: Fill out the get_user_data() function to collect user information.\n",
        "Prompt the user for:\n",
        "\n",
        "First name: Store in first_name.\n",
        "Last name: Store in last_name.\n",
        "Email address: Store in email.\n",
        "Return all three values as a tuple: (first_name, last_name, email)."
      ],
      "metadata": {
        "id": "n4b4QNy4-PsS"
      }
    },
    {
      "cell_type": "code",
      "source": [
        "# 04_multiple_returns\n",
        "\n",
        "def get_user_data():\n",
        "  first_name: str = input(\"What is your first name?: \")\n",
        "  last_name: str = input(\"What is your last name?: \")\n",
        "  email_adress: str = input(\"What is your email address?: \")\n",
        "  return first_name, last_name, email_address\n",
        "\n",
        "def main():\n",
        "    user_data = get_user_info()\n",
        "    print(\"Received the following user data:\", user_data)\n",
        "\n",
        "if __name__ == '__main__':\n",
        "  main()"
      ],
      "metadata": {
        "id": "l5Seccli-TfA",
        "colab": {
          "base_uri": "https://localhost:8080/"
        },
        "outputId": "c079768a-c6b2-422d-f9ba-8ed972bfbd46"
      },
      "execution_count": null,
      "outputs": [
        {
          "output_type": "stream",
          "name": "stdout",
          "text": [
            "What is your first name?: Tas\n",
            "What is your last name?: Ibm\n",
            "What is your email address?: tas@gamil.com\n",
            "Received the following user data: ('Tas', 'Ibm', 'tas@gamil.com')\n"
          ]
        }
      ]
    },
    {
      "cell_type": "markdown",
      "source": [
        "### 05_subtract_7\n",
        "\n",
        "Fill out the subtract_seven helper function to subtract 7 from num, and fill out the main() method to call the subtract_seven helper function! If you're stuck, revisit the add_five example from lecture."
      ],
      "metadata": {
        "id": "v9nwfpT2-X4F"
      }
    },
    {
      "cell_type": "code",
      "source": [
        "# 05_subtract_7\n",
        "\n",
        "def subtract_seven(num):\n",
        "    \"\"\"Subtracts 7 from the given number.\"\"\"\n",
        "    return num - 7\n",
        "\n",
        "def main():\n",
        "    # Example usage of subtract_seven\n",
        "    num = int(input(\"Enter a number: \"))\n",
        "    result = subtract_seven(num)\n",
        "    print(f\"Result after subtracting 7: {result}\")\n",
        "\n",
        "# This provided line is required at the end of\n",
        "# Python file to call the main() function.\n",
        "if __name__ == '__main__':\n",
        "    main()\n"
      ],
      "metadata": {
        "colab": {
          "base_uri": "https://localhost:8080/"
        },
        "id": "yeEY5wyV3QZt",
        "outputId": "df5d85cd-c4f1-42c3-e75f-3a86a8061900"
      },
      "execution_count": null,
      "outputs": [
        {
          "output_type": "stream",
          "name": "stdout",
          "text": [
            "Enter a number: 3\n",
            "Result after subtracting 7: -4\n"
          ]
        }
      ]
    },
    {
      "cell_type": "code",
      "source": [
        "# 05_subtract_7\n",
        "\n",
        "def main():\n",
        "\tnum: int = 7\n",
        "\tnum = subtract_seven(num)\n",
        "\tprint(\"this should be zero: \", num)\n",
        "\n",
        "def subtract_seven(num):\n",
        "\tnum = num - 7\n",
        "\treturn num\n",
        "\n",
        "\n",
        "# There is no need to edit code beyond this point\n",
        "\n",
        "if __name__ == '__main__':\n",
        "    main()"
      ],
      "metadata": {
        "colab": {
          "base_uri": "https://localhost:8080/"
        },
        "id": "GuE7wgvR25q9",
        "outputId": "1c1c24e1-736e-4ce5-b81c-f73a3fe6dd56"
      },
      "execution_count": null,
      "outputs": [
        {
          "output_type": "stream",
          "name": "stdout",
          "text": [
            "this should be zero:  0\n"
          ]
        }
      ]
    },
    {
      "cell_type": "code",
      "source": [],
      "metadata": {
        "colab": {
          "base_uri": "https://localhost:8080/"
        },
        "id": "nBb0Ned62cti",
        "outputId": "a6a92811-c05b-4b57-81b3-a38d78873ddc"
      },
      "execution_count": null,
      "outputs": [
        {
          "output_type": "stream",
          "name": "stdout",
          "text": [
            "Enter a number: 4\n",
            "Result after subtracting 7: -3\n"
          ]
        }
      ]
    }
  ]
}
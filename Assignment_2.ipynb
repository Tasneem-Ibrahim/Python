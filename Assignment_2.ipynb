{
  "nbformat": 4,
  "nbformat_minor": 0,
  "metadata": {
    "colab": {
      "provenance": [],
      "include_colab_link": true
    },
    "kernelspec": {
      "name": "python3",
      "display_name": "Python 3"
    },
    "language_info": {
      "name": "python"
    }
  },
  "cells": [
    {
      "cell_type": "markdown",
      "metadata": {
        "id": "view-in-github",
        "colab_type": "text"
      },
      "source": [
        "<a href=\"https://colab.research.google.com/github/Tasneem-Ibrahim/Python/blob/main/Assignment_2.ipynb\" target=\"_parent\"><img src=\"https://colab.research.google.com/assets/colab-badge.svg\" alt=\"Open In Colab\"/></a>"
      ]
    },
    {
      "cell_type": "markdown",
      "source": [
        "## Python Programming Assignment 02 – Summary and Analysis\n"
      ],
      "metadata": {
        "id": "LcrXDODbYA_-"
      }
    },
    {
      "cell_type": "markdown",
      "source": [
        "### Question 1: Data Types & Basic Operations\n",
        "Summary:\n",
        "\n",
        "Input for string, integer, float, and boolean types, manipulate and process them based on their types (uppercase string, even/odd check, float multiplication, etc.)."
      ],
      "metadata": {
        "id": "enlsQ_42X4Ar"
      }
    },
    {
      "cell_type": "code",
      "source": [
        "# Accept inputs\n",
        "user_string = input(\"Enter a string: \")\n",
        "user_integer = int(input(\"Enter an integer: \"))\n",
        "user_float = float(input(\"Enter a float: \"))\n",
        "user_boolean_input = input(\"Enter a boolean (True/False): \")\n",
        "\n",
        "# Convert string boolean to actual Boolean\n",
        "user_boolean = True if user_boolean_input.lower() == 'true' else False\n",
        "\n",
        "# Print all variables\n",
        "print(\"String:\", user_string)\n",
        "print(\"Integer:\", user_integer)\n",
        "print(\"Float:\", user_float)\n",
        "print(\"Boolean:\", user_boolean)\n",
        "\n",
        "# Convert string to uppercase\n",
        "print(\"Uppercase String:\", user_string.upper())\n",
        "\n",
        "# Check even or odd\n",
        "if user_integer % 2 == 0:\n",
        "    print(f\"The number {user_integer} is Even\")\n",
        "else:\n",
        "    print(f\"The number {user_integer} is Odd\")\n",
        "\n",
        "# Multiply float by 2\n",
        "print(\"Doubled float:\", user_float * 2)\n"
      ],
      "metadata": {
        "colab": {
          "base_uri": "https://localhost:8080/"
        },
        "id": "YroFBGrZX78W",
        "outputId": "c1df8991-0a10-447f-9c3a-37379a1ba004"
      },
      "execution_count": null,
      "outputs": [
        {
          "output_type": "stream",
          "name": "stdout",
          "text": [
            "Enter a string: Pakistan\n",
            "Enter an integer: 1987\n",
            "Enter a float: 881.640\n",
            "Enter a boolean (True/False): True\n",
            "String: Pakistan\n",
            "Integer: 1987\n",
            "Float: 881.64\n",
            "Boolean: True\n",
            "Uppercase String: PAKISTAN\n",
            "The number 1987 is Odd\n",
            "Doubled float: 1763.28\n"
          ]
        }
      ]
    },
    {
      "cell_type": "markdown",
      "source": [
        "### Question 2: Operators\n",
        "Summary:\n",
        "\n",
        "Perform all arithmetic operations, comparison checks, and logical operations on two numbers input by the user."
      ],
      "metadata": {
        "id": "e-2Ym43UZ3gn"
      }
    },
    {
      "cell_type": "code",
      "source": [
        "# Accept two numbers\n",
        "num1 = float(input(\"Enter the first number: \"))\n",
        "num2 = float(input(\"Enter the second number: \"))\n",
        "\n",
        "# Arithmetic Operations\n",
        "print(\"Addition:\", num1 + num2)\n",
        "print(\"Subtraction:\", num1 - num2)\n",
        "print(\"Multiplication:\", num1 * num2)\n",
        "print(\"Division:\", num1 / num2 if num2 != 0 else \"Cannot divide by zero\")\n",
        "print(\"Modulus:\", num1 % num2 if num2 != 0 else \"Cannot modulus by zero\")\n",
        "print(\"Floor Division:\", num1 // num2 if num2 != 0 else \"Cannot floor divide by zero\")\n",
        "\n",
        "# Comparison Operations\n",
        "print(\"First number greater than second: \", num1 > num2)\n",
        "print(\"First number is equal to second: \", num1 == num2)\n",
        "\n",
        "# Logical Operations\n",
        "condition_result=(num1>num2) and (num2<10)\n",
        "print(\"Both conditions are true: \", condition_result )\n"
      ],
      "metadata": {
        "colab": {
          "base_uri": "https://localhost:8080/"
        },
        "id": "mma8zdYYaVEC",
        "outputId": "5a464303-ba0c-4835-a3c2-fb9255ec718b"
      },
      "execution_count": null,
      "outputs": [
        {
          "output_type": "stream",
          "name": "stdout",
          "text": [
            "Enter the first number: 10\n",
            "Enter the second number: 3\n",
            "Addition: 13.0\n",
            "Subtraction: 7.0\n",
            "Multiplication: 30.0\n",
            "Division: 3.3333333333333335\n",
            "Modulus: 1.0\n",
            "Floor Division: 3.0\n",
            "First number greater than second:  True\n",
            "First number is equal to second:  False\n",
            "Both conditions are true:  True\n"
          ]
        }
      ]
    },
    {
      "cell_type": "markdown",
      "source": [
        "### Question 3: Loops with Conditions\n",
        "Summary:\n",
        "\n",
        "A list of integers from the user, then iterate through them, skipping any number greater than 10, and stopping completely if 20 is encountered."
      ],
      "metadata": {
        "id": "4LlLMxquacCf"
      }
    },
    {
      "cell_type": "code",
      "source": [
        "# Accept list of integers\n",
        "user_input = input(\"Enter a list of integers separated by spaces: \")\n",
        "num_list = [int(num)for num in user_input.split()]\n",
        "\n",
        "# Loop through list\n",
        "for num in num_list:\n",
        "    if num > 10 and num !=20:\n",
        "      print(f\"skipping {num}\")\n",
        "      continue\n",
        "    if num == 20:\n",
        "      print(\"Breaking at 20\")\n",
        "      break\n",
        "    print(\"Number:\", num)\n",
        "else:\n",
        "    print(\"Loop ended naturally.\")\n"
      ],
      "metadata": {
        "colab": {
          "base_uri": "https://localhost:8080/"
        },
        "id": "q6y2bRqcahDx",
        "outputId": "a26b4ab2-2bea-46e4-acc1-af0e0ea25da8"
      },
      "execution_count": null,
      "outputs": [
        {
          "output_type": "stream",
          "name": "stdout",
          "text": [
            "Enter a list of integers separated by spaces: 5 10 12 15 8\n",
            "Number: 5\n",
            "Number: 10\n",
            "skipping 12\n",
            "skipping 15\n",
            "Number: 8\n",
            "Loop ended naturally.\n"
          ]
        }
      ]
    }
  ]
}
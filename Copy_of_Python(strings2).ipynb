{
  "cells": [
    {
      "cell_type": "markdown",
      "metadata": {
        "id": "view-in-github",
        "colab_type": "text"
      },
      "source": [
        "<a href=\"https://colab.research.google.com/github/Tasneem-Ibrahim/Python/blob/main/Copy_of_Python(strings2).ipynb\" target=\"_parent\"><img src=\"https://colab.research.google.com/assets/colab-badge.svg\" alt=\"Open In Colab\"/></a>"
      ]
    },
    {
      "cell_type": "markdown",
      "metadata": {
        "id": "ceec5D0sJjSK"
      },
      "source": [
        "## **Python**\n"
      ]
    },
    {
      "cell_type": "markdown",
      "metadata": {
        "id": "_Oexbse-JW63"
      },
      "source": [
        "### Python String\n",
        "A Python string is a sequence of characters used to store and manipulate text data. In Python, strings are enclosed in quotes (' ', \" \", ''' ''', or \"\"\" \"\"\") and can include letters, digits, punctuation, and special characters.\n",
        "\n",
        " *Example:*\n",
        "\"Hello, World!\" is a string in Python.\n",
        "\n"
      ]
    },
    {
      "cell_type": "markdown",
      "metadata": {
        "id": "3IzBX6rHhuYe"
      },
      "source": [
        "### Python String Methods\n",
        "Python string methods are built-in functions that operate on string objects, allowing you to perform various text manipulation tasks. These methods can modify, query, or perform operations on strings, often returning a new string without altering the original one.\n",
        "\n",
        " *Example:*\n",
        " Methods like capitalize(), lower(), find(), and replace() are used to manipulate and query strings."
      ]
    },
    {
      "cell_type": "markdown",
      "metadata": {
        "id": "DeTwoFJr-fEH"
      },
      "source": [
        "## Python String Methods"
      ]
    },
    {
      "cell_type": "markdown",
      "metadata": {
        "id": "4_QjnjtuJoLs"
      },
      "source": [
        "### capitalize()\n",
        "Converts the first character of a string to uppercase, while the rest remain lowercase."
      ]
    },
    {
      "cell_type": "code",
      "execution_count": null,
      "metadata": {
        "colab": {
          "base_uri": "https://localhost:8080/",
          "height": 35
        },
        "id": "zBD9sjRgJu_g",
        "outputId": "4ce92864-8948-4cb9-da82-8d9b265d4aff"
      },
      "outputs": [
        {
          "data": {
            "application/vnd.google.colaboratory.intrinsic+json": {
              "type": "string"
            },
            "text/plain": [
              "'Hello world'"
            ]
          },
          "execution_count": 1,
          "metadata": {},
          "output_type": "execute_result"
        }
      ],
      "source": [
        "# Capitalize the first letter of the string\n",
        "\"hello world\".capitalize()\n"
      ]
    },
    {
      "cell_type": "markdown",
      "metadata": {
        "id": "57ys4z5AJ2yz"
      },
      "source": [
        "### casefold()\n",
        "Converts all characters in a string to lowercase, using more aggressive conversion rules."
      ]
    },
    {
      "cell_type": "code",
      "execution_count": null,
      "metadata": {
        "colab": {
          "base_uri": "https://localhost:8080/",
          "height": 35
        },
        "id": "FmZlS0eDJ7V2",
        "outputId": "7790917e-d195-491f-f814-aed93b481a13"
      },
      "outputs": [
        {
          "data": {
            "application/vnd.google.colaboratory.intrinsic+json": {
              "type": "string"
            },
            "text/plain": [
              "'hello world'"
            ]
          },
          "execution_count": 5,
          "metadata": {},
          "output_type": "execute_result"
        }
      ],
      "source": [
        "# Casefold the string for case-insensitive comparisons\n",
        "\"Hello World\".casefold()\n"
      ]
    },
    {
      "cell_type": "markdown",
      "metadata": {
        "id": "DbdWQamvJ_Mo"
      },
      "source": [
        "### center()\n",
        "Centers a string within a specified width, padding it with spaces or a specified character."
      ]
    },
    {
      "cell_type": "code",
      "execution_count": null,
      "metadata": {
        "colab": {
          "base_uri": "https://localhost:8080/",
          "height": 35
        },
        "id": "lJn2W9wjKD_6",
        "outputId": "802fbfd0-99fe-4091-ad88-c25d68943861"
      },
      "outputs": [
        {
          "data": {
            "application/vnd.google.colaboratory.intrinsic+json": {
              "type": "string"
            },
            "text/plain": [
              "'-------hello--------'"
            ]
          },
          "execution_count": 4,
          "metadata": {},
          "output_type": "execute_result"
        }
      ],
      "source": [
        "# Center the string within a width of 20\n",
        "\"hello\".center(20, '-')\n"
      ]
    },
    {
      "cell_type": "markdown",
      "metadata": {
        "id": "RC3QjdY1KMCq"
      },
      "source": [
        "### count()\n",
        "Counts the number of occurrences of a substring within a string."
      ]
    },
    {
      "cell_type": "code",
      "execution_count": null,
      "metadata": {
        "colab": {
          "base_uri": "https://localhost:8080/"
        },
        "id": "FvkH_WD1KPxl",
        "outputId": "5d59147a-0a62-4667-d482-b5c0402c1ee1"
      },
      "outputs": [
        {
          "data": {
            "text/plain": [
              "2"
            ]
          },
          "execution_count": 2,
          "metadata": {},
          "output_type": "execute_result"
        }
      ],
      "source": [
        "# Count occurrences of 'l' in the string\n",
        "\"hello\".count('l')\n"
      ]
    },
    {
      "cell_type": "markdown",
      "metadata": {
        "id": "FjkVkbYwKdnq"
      },
      "source": [
        "### encode()\n",
        "Encodes the string using the specified encoding scheme, returning a bytes object."
      ]
    },
    {
      "cell_type": "code",
      "execution_count": null,
      "metadata": {
        "colab": {
          "base_uri": "https://localhost:8080/"
        },
        "id": "fG0nThY7Khc3",
        "outputId": "69f1f62b-f36b-4821-8e15-07675ee94bc9"
      },
      "outputs": [
        {
          "data": {
            "text/plain": [
              "b'hello'"
            ]
          },
          "execution_count": 8,
          "metadata": {},
          "output_type": "execute_result"
        }
      ],
      "source": [
        "# Encode the string in UTF-8\n",
        "# \"hello\".encode('utf-8') converts the string \"hello\" into a bytes object, using UTF-8 encoding.\n",
        "\n",
        "\"hello\".encode('utf-8')\n"
      ]
    },
    {
      "cell_type": "markdown",
      "metadata": {
        "id": "8gFMnLscKokN"
      },
      "source": [
        "### endswith()\n",
        "Checks if a string ends with the specified suffix, returning True or False."
      ]
    },
    {
      "cell_type": "code",
      "execution_count": null,
      "metadata": {
        "colab": {
          "base_uri": "https://localhost:8080/"
        },
        "id": "aGhIttf5Ksm2",
        "outputId": "927817cc-a8d4-4f32-847c-5d9c1ecfc66a"
      },
      "outputs": [
        {
          "data": {
            "text/plain": [
              "True"
            ]
          },
          "execution_count": 3,
          "metadata": {},
          "output_type": "execute_result"
        }
      ],
      "source": [
        "# Check if the string ends with 'world'\n",
        "\"hello world\".endswith('world')\n"
      ]
    },
    {
      "cell_type": "markdown",
      "metadata": {
        "id": "DJKFXM6FKyL8"
      },
      "source": [
        "### expandtabs()\n",
        "Replaces all tab characters in a string with spaces, using a default or specified tab size."
      ]
    },
    {
      "cell_type": "code",
      "execution_count": null,
      "metadata": {
        "colab": {
          "base_uri": "https://localhost:8080/",
          "height": 35
        },
        "id": "5THduVA3K0HV",
        "outputId": "5fc29ab4-66b9-43c2-f6ac-84e536715228"
      },
      "outputs": [
        {
          "data": {
            "application/vnd.google.colaboratory.intrinsic+json": {
              "type": "string"
            },
            "text/plain": [
              "'hello   world'"
            ]
          },
          "execution_count": 10,
          "metadata": {},
          "output_type": "execute_result"
        }
      ],
      "source": [
        "# Expand tabs in the string with a tab size of 4\n",
        "\"hello\\tworld\".expandtabs(4)\n"
      ]
    },
    {
      "cell_type": "markdown",
      "metadata": {
        "id": "1bWuJ6QVK4ep"
      },
      "source": [
        "### find()\n",
        "Returns the lowest index of a substring within a string, or -1 if not found."
      ]
    },
    {
      "cell_type": "code",
      "execution_count": null,
      "metadata": {
        "colab": {
          "base_uri": "https://localhost:8080/"
        },
        "id": "19zz48oAK8iY",
        "outputId": "ddea4bf8-c4fd-4ea5-8e6c-aac5519b848d"
      },
      "outputs": [
        {
          "data": {
            "text/plain": [
              "2"
            ]
          },
          "execution_count": 11,
          "metadata": {},
          "output_type": "execute_result"
        }
      ],
      "source": [
        "# Find the index of 'l' in the string\n",
        "\"hello\".find('l')\n"
      ]
    },
    {
      "cell_type": "markdown",
      "metadata": {
        "id": "Mt0VrRjsLC7c"
      },
      "source": [
        "### format()\n",
        "\n",
        "Formats a string using placeholders {}, allowing for dynamic value insertion."
      ]
    },
    {
      "cell_type": "code",
      "execution_count": null,
      "metadata": {
        "colab": {
          "base_uri": "https://localhost:8080/",
          "height": 35
        },
        "id": "OqmRTmXsLGZy",
        "outputId": "a3f0b5c4-70e3-4b8a-89d0-f0bf42a5c065"
      },
      "outputs": [
        {
          "data": {
            "application/vnd.google.colaboratory.intrinsic+json": {
              "type": "string"
            },
            "text/plain": [
              "'Hello, World'"
            ]
          },
          "execution_count": 12,
          "metadata": {},
          "output_type": "execute_result"
        }
      ],
      "source": [
        "# Format the string with dynamic values\n",
        "\"Hello, {}\".format(\"World\")\n"
      ]
    },
    {
      "cell_type": "markdown",
      "metadata": {
        "id": "Y5t_4V36LS8Q"
      },
      "source": [
        "### index()\n",
        "Returns the lowest index of a substring within a string, raising an error if the substring is not found."
      ]
    },
    {
      "cell_type": "code",
      "execution_count": null,
      "metadata": {
        "colab": {
          "base_uri": "https://localhost:8080/"
        },
        "id": "aTbSb73uLU10",
        "outputId": "bd204268-060e-4e50-9135-7cc1bc069b45"
      },
      "outputs": [
        {
          "data": {
            "text/plain": [
              "2"
            ]
          },
          "execution_count": 13,
          "metadata": {},
          "output_type": "execute_result"
        }
      ],
      "source": [
        "# Find the index of 'l' in the string\n",
        "\"hello\".index('l')\n"
      ]
    },
    {
      "cell_type": "markdown",
      "metadata": {
        "id": "qpX26fXPLcSl"
      },
      "source": [
        "### isalnum()\n",
        "Checks if all characters in a string are alphanumeric (letters and numbers)."
      ]
    },
    {
      "cell_type": "code",
      "execution_count": null,
      "metadata": {
        "colab": {
          "base_uri": "https://localhost:8080/"
        },
        "id": "WWwRUtfeLdcO",
        "outputId": "65a03a6b-7a5b-4bc4-81d7-00304e39f9bc"
      },
      "outputs": [
        {
          "data": {
            "text/plain": [
              "True"
            ]
          },
          "execution_count": 14,
          "metadata": {},
          "output_type": "execute_result"
        }
      ],
      "source": [
        "# Check if the string is alphanumeric\n",
        "\"Hello123\".isalnum()\n"
      ]
    },
    {
      "cell_type": "markdown",
      "metadata": {
        "id": "BRjlUT_7Lkyo"
      },
      "source": [
        "### isalpha()\n",
        "Checks if all characters in a string are alphabetic."
      ]
    },
    {
      "cell_type": "code",
      "execution_count": null,
      "metadata": {
        "colab": {
          "base_uri": "https://localhost:8080/"
        },
        "id": "xCfyDRuOLral",
        "outputId": "3fe558b2-83cc-4056-a178-0d609e2ca37c"
      },
      "outputs": [
        {
          "data": {
            "text/plain": [
              "True"
            ]
          },
          "execution_count": 15,
          "metadata": {},
          "output_type": "execute_result"
        }
      ],
      "source": [
        "# Check if the string is alphabetic\n",
        "\"Hello\".isalpha()\n"
      ]
    },
    {
      "cell_type": "markdown",
      "metadata": {
        "id": "wnpR0rdrUeoF"
      },
      "source": [
        "### isascii()\n",
        "Description: Checks if all characters in the string are ASCII characters."
      ]
    },
    {
      "cell_type": "code",
      "execution_count": null,
      "metadata": {
        "colab": {
          "base_uri": "https://localhost:8080/"
        },
        "id": "lbvdTuICUf-z",
        "outputId": "c7e9cf21-a003-413c-c3c1-738517b5a605"
      },
      "outputs": [
        {
          "name": "stdout",
          "output_type": "stream",
          "text": [
            "True\n"
          ]
        }
      ],
      "source": [
        "# Check if the string contains only ASCII characters\n",
        "text = \"Hello\"\n",
        "print(text.isascii())\n"
      ]
    },
    {
      "cell_type": "markdown",
      "metadata": {
        "id": "62MxLjQ6Uk-l"
      },
      "source": [
        "### isdecimal()\n",
        "Description: Checks if all characters in the string are decimal characters."
      ]
    },
    {
      "cell_type": "code",
      "execution_count": null,
      "metadata": {
        "colab": {
          "base_uri": "https://localhost:8080/"
        },
        "id": "5FsFPmJ4UmWI",
        "outputId": "2aa27d39-77b2-4de8-beab-862677d4c72b"
      },
      "outputs": [
        {
          "name": "stdout",
          "output_type": "stream",
          "text": [
            "True\n"
          ]
        }
      ],
      "source": [
        "# Check if the string is decimal\n",
        "text = \"12345\"\n",
        "print(text.isdecimal())\n"
      ]
    },
    {
      "cell_type": "markdown",
      "metadata": {
        "id": "KL1gULO2LuX8"
      },
      "source": [
        "### isdigit()\n",
        "Checks if all characters in a string are digits."
      ]
    },
    {
      "cell_type": "code",
      "execution_count": null,
      "metadata": {
        "colab": {
          "base_uri": "https://localhost:8080/"
        },
        "id": "_pQcSoPRLxxD",
        "outputId": "83467d59-73be-487f-a852-9369218f5c7b"
      },
      "outputs": [
        {
          "data": {
            "text/plain": [
              "True"
            ]
          },
          "execution_count": 16,
          "metadata": {},
          "output_type": "execute_result"
        }
      ],
      "source": [
        "# Check if the string is numeric\n",
        "\"12345\".isdigit()\n"
      ]
    },
    {
      "cell_type": "markdown",
      "metadata": {
        "id": "Steo-S1VUvER"
      },
      "source": [
        "### isidentifier()\n",
        "Checks if the string is a valid Python identifier."
      ]
    },
    {
      "cell_type": "code",
      "execution_count": null,
      "metadata": {
        "colab": {
          "base_uri": "https://localhost:8080/"
        },
        "id": "aT4aJHFtUwhE",
        "outputId": "91c294f7-7ce4-4c00-cff3-3c7063eef2ad"
      },
      "outputs": [
        {
          "name": "stdout",
          "output_type": "stream",
          "text": [
            "True\n"
          ]
        }
      ],
      "source": [
        "# Check if the string is a valid identifier\n",
        "text = \"variable_name\"\n",
        "print(text.isidentifier())\n"
      ]
    },
    {
      "cell_type": "markdown",
      "metadata": {
        "id": "VJucypy8U1JN"
      },
      "source": [
        "### islower()\n",
        "Checks if all characters in the string are lowercase."
      ]
    },
    {
      "cell_type": "code",
      "execution_count": null,
      "metadata": {
        "colab": {
          "base_uri": "https://localhost:8080/"
        },
        "id": "cemKy26eU2ZB",
        "outputId": "97d9f641-ebaf-4cfb-cf11-497139125e07"
      },
      "outputs": [
        {
          "name": "stdout",
          "output_type": "stream",
          "text": [
            "True\n"
          ]
        }
      ],
      "source": [
        "# Check if the string is in lowercase\n",
        "text = \"hello\"\n",
        "print(text.islower())\n"
      ]
    },
    {
      "cell_type": "markdown",
      "metadata": {
        "id": "fA7J7FQdU7fZ"
      },
      "source": [
        "### isnumeric()\n",
        "Checks if all characters in the string are numeric."
      ]
    },
    {
      "cell_type": "code",
      "execution_count": null,
      "metadata": {
        "colab": {
          "base_uri": "https://localhost:8080/"
        },
        "id": "_ekVVFamU9NJ",
        "outputId": "8b47baa5-317a-426a-be57-5e5847be7854"
      },
      "outputs": [
        {
          "name": "stdout",
          "output_type": "stream",
          "text": [
            "True\n"
          ]
        }
      ],
      "source": [
        "# Check if the string is numeric\n",
        "text = \"12345\"\n",
        "print(text.isnumeric())\n"
      ]
    },
    {
      "cell_type": "markdown",
      "metadata": {
        "id": "p-8Tx9WTVE9b"
      },
      "source": [
        "### isprintable()\n",
        "Checks if all characters in the string are printable or if the string is empty."
      ]
    },
    {
      "cell_type": "code",
      "execution_count": null,
      "metadata": {
        "colab": {
          "base_uri": "https://localhost:8080/"
        },
        "id": "8gCGQh__VHIy",
        "outputId": "5324df8d-f1b6-4045-ffb2-354549419352"
      },
      "outputs": [
        {
          "name": "stdout",
          "output_type": "stream",
          "text": [
            "True\n"
          ]
        }
      ],
      "source": [
        "# Check if the string is printable\n",
        "text = \"Hello\"\n",
        "print(text.isprintable())\n"
      ]
    },
    {
      "cell_type": "markdown",
      "metadata": {
        "id": "PmUjL7UtVMRU"
      },
      "source": [
        "### isspace()\n",
        " Checks if all characters in the string are whitespace characters."
      ]
    },
    {
      "cell_type": "code",
      "execution_count": null,
      "metadata": {
        "colab": {
          "base_uri": "https://localhost:8080/"
        },
        "id": "dfbVY3neVNnZ",
        "outputId": "f593a090-ab97-4003-f016-11ce8e668e1b"
      },
      "outputs": [
        {
          "name": "stdout",
          "output_type": "stream",
          "text": [
            "True\n"
          ]
        }
      ],
      "source": [
        "# Check if the string contains only whitespace\n",
        "text = \"   \"\n",
        "print(text.isspace())\n"
      ]
    },
    {
      "cell_type": "markdown",
      "metadata": {
        "id": "PQ7iUuPBVVls"
      },
      "source": [
        "### istitle()\n",
        "Checks if the string is title-cased (each word starts with an uppercase letter followed by lowercase)."
      ]
    },
    {
      "cell_type": "code",
      "execution_count": null,
      "metadata": {
        "colab": {
          "base_uri": "https://localhost:8080/"
        },
        "id": "i6yRspHRVX1q",
        "outputId": "c61ca641-4972-478f-d4ac-96bfb93b5895"
      },
      "outputs": [
        {
          "name": "stdout",
          "output_type": "stream",
          "text": [
            "True\n"
          ]
        }
      ],
      "source": [
        "# Check if the string is title-cased\n",
        "text = \"Hello World\"\n",
        "print(text.istitle())\n"
      ]
    },
    {
      "cell_type": "markdown",
      "metadata": {
        "id": "KMkT4_DhVfh-"
      },
      "source": [
        "### isupper()\n",
        "Checks if all characters in the string are uppercase."
      ]
    },
    {
      "cell_type": "code",
      "execution_count": null,
      "metadata": {
        "colab": {
          "base_uri": "https://localhost:8080/"
        },
        "id": "j8Fuq3c6VhvB",
        "outputId": "bd6ef303-37dc-4e9f-baa9-fbc4b13dead6"
      },
      "outputs": [
        {
          "name": "stdout",
          "output_type": "stream",
          "text": [
            "True\n"
          ]
        }
      ],
      "source": [
        "# Check if the string is in uppercase\n",
        "text = \"HELLO\"\n",
        "print(text.isupper())\n"
      ]
    },
    {
      "cell_type": "markdown",
      "metadata": {
        "id": "DrnItFJXL282"
      },
      "source": [
        "### join()\n",
        "Joins an iterable (e.g., list) of strings into a single string, separated by the original string."
      ]
    },
    {
      "cell_type": "code",
      "execution_count": null,
      "metadata": {
        "colab": {
          "base_uri": "https://localhost:8080/",
          "height": 35
        },
        "id": "q5VyHUfVL4Yc",
        "outputId": "9258c4e8-75dc-434f-816f-c7528f33a1cb"
      },
      "outputs": [
        {
          "data": {
            "application/vnd.google.colaboratory.intrinsic+json": {
              "type": "string"
            },
            "text/plain": [
              "'Hello-World'"
            ]
          },
          "execution_count": 17,
          "metadata": {},
          "output_type": "execute_result"
        }
      ],
      "source": [
        "# Join a list of strings with a hyphen\n",
        "\"-\".join([\"Hello\", \"World\"])\n"
      ]
    },
    {
      "cell_type": "markdown",
      "metadata": {
        "id": "uVFk-QFyxwlG"
      },
      "source": [
        "### ljust()\n",
        "Left-justifies the string within a specified width, padding with spaces or a specified character."
      ]
    },
    {
      "cell_type": "code",
      "execution_count": null,
      "metadata": {
        "colab": {
          "base_uri": "https://localhost:8080/"
        },
        "id": "xaY4soSax55f",
        "outputId": "04de5b19-c94a-4d2b-a20a-f3032dba9b6c"
      },
      "outputs": [
        {
          "name": "stdout",
          "output_type": "stream",
          "text": [
            "hello---------------\n"
          ]
        }
      ],
      "source": [
        "# Left-justify the string within a width of 20\n",
        "text = \"hello\"\n",
        "print(text.ljust(20, '-'))\n"
      ]
    },
    {
      "cell_type": "markdown",
      "metadata": {
        "id": "xt8NS8vsyEL_"
      },
      "source": [
        "### lower()\n",
        "Converts all characters in the string to lowercase."
      ]
    },
    {
      "cell_type": "code",
      "execution_count": null,
      "metadata": {
        "colab": {
          "base_uri": "https://localhost:8080/"
        },
        "id": "wGyC8aQKyJ0J",
        "outputId": "39eb4ce3-3b89-4f32-9b07-0a11f6cde632"
      },
      "outputs": [
        {
          "name": "stdout",
          "output_type": "stream",
          "text": [
            "hello\n"
          ]
        }
      ],
      "source": [
        "# Convert the string to lowercase\n",
        "text = \"HELLO\"\n",
        "print(text.lower())\n"
      ]
    },
    {
      "cell_type": "markdown",
      "metadata": {
        "id": "8U7tKXUxxwuT"
      },
      "source": [
        "### lstrip()\n",
        "Removes leading whitespace (or specified characters) from the string."
      ]
    },
    {
      "cell_type": "code",
      "execution_count": null,
      "metadata": {
        "colab": {
          "base_uri": "https://localhost:8080/"
        },
        "id": "BqXPmNixySPI",
        "outputId": "59480066-2225-4e5d-8b13-4b801d086721"
      },
      "outputs": [
        {
          "name": "stdout",
          "output_type": "stream",
          "text": [
            "hello\n"
          ]
        }
      ],
      "source": [
        "# Remove leading spaces from the string\n",
        "text = \"   hello\"\n",
        "print(text.lstrip())\n"
      ]
    },
    {
      "cell_type": "markdown",
      "metadata": {
        "id": "C83pds3cyW7I"
      },
      "source": [
        "### maketrans()\n",
        "Returns a translation table to be used with the translate() method."
      ]
    },
    {
      "cell_type": "code",
      "execution_count": null,
      "metadata": {
        "colab": {
          "base_uri": "https://localhost:8080/"
        },
        "id": "rORa9yEiydc8",
        "outputId": "ecf0aea6-87ca-4763-b720-610fc478cd8f"
      },
      "outputs": [
        {
          "name": "stdout",
          "output_type": "stream",
          "text": [
            "12c\n"
          ]
        }
      ],
      "source": [
        "# Create a translation table to replace 'a' with '1' and 'b' with '2'\n",
        "trans = str.maketrans('ab', '12')\n",
        "print(\"abc\".translate(trans))\n"
      ]
    },
    {
      "cell_type": "markdown",
      "metadata": {
        "id": "U46kb5UkyiQ8"
      },
      "source": [
        "### partition()\n",
        " Splits the string into a tuple of three parts: the part before the separator, the separator itself, and the part after."
      ]
    },
    {
      "cell_type": "code",
      "execution_count": null,
      "metadata": {
        "colab": {
          "base_uri": "https://localhost:8080/"
        },
        "id": "nAXI_3OOyltn",
        "outputId": "1bdc77b2-48bd-44f6-9e42-90f0732cc1bb"
      },
      "outputs": [
        {
          "name": "stdout",
          "output_type": "stream",
          "text": [
            "('hello ', 'world', ' example')\n"
          ]
        }
      ],
      "source": [
        "# Partition the string around 'world'\n",
        "text = \"hello world example\"\n",
        "print(text.partition('world'))\n"
      ]
    },
    {
      "cell_type": "markdown",
      "metadata": {
        "id": "t-Jm2_SIy6RL"
      },
      "source": [
        "### removeprefix()\n",
        " Removes the specified prefix from the string, if it starts with that prefix."
      ]
    },
    {
      "cell_type": "code",
      "execution_count": null,
      "metadata": {
        "colab": {
          "base_uri": "https://localhost:8080/"
        },
        "id": "kIs9wiIcy-h_",
        "outputId": "57b503ea-5992-47cc-cd3f-0e9974c98f46"
      },
      "outputs": [
        {
          "name": "stdout",
          "output_type": "stream",
          "text": [
            "World\n"
          ]
        }
      ],
      "source": [
        "# Remove the prefix 'Hello ' from the string\n",
        "text = \"Hello World\"\n",
        "print(text.removeprefix('Hello '))\n"
      ]
    },
    {
      "cell_type": "markdown",
      "metadata": {
        "id": "O5ajZbGmzDbp"
      },
      "source": [
        "### removesuffix()\n",
        "Removes the specified suffix from the string, if it ends with that suffix."
      ]
    },
    {
      "cell_type": "code",
      "execution_count": null,
      "metadata": {
        "colab": {
          "base_uri": "https://localhost:8080/"
        },
        "id": "cfoyLAOAzFki",
        "outputId": "013a9f5e-4a61-47da-a4c7-ac1486cb6144"
      },
      "outputs": [
        {
          "name": "stdout",
          "output_type": "stream",
          "text": [
            "Hello\n"
          ]
        }
      ],
      "source": [
        "# Remove the suffix ' World' from the string\n",
        "text = \"Hello World\"\n",
        "print(text.removesuffix(' World'))\n"
      ]
    },
    {
      "cell_type": "markdown",
      "metadata": {
        "id": "LZLW3RSZzL9d"
      },
      "source": [
        "### replace()\n",
        " Replaces all occurrences of a substring with another substring."
      ]
    },
    {
      "cell_type": "code",
      "execution_count": null,
      "metadata": {
        "colab": {
          "base_uri": "https://localhost:8080/"
        },
        "id": "_OO8vGcrzPLN",
        "outputId": "00693736-ddb0-4c70-aba2-f3ab2c089a24"
      },
      "outputs": [
        {
          "name": "stdout",
          "output_type": "stream",
          "text": [
            "hexxo\n"
          ]
        }
      ],
      "source": [
        "# Replace 'l' with 'x' in the string\n",
        "text = \"hello\"\n",
        "print(text.replace('l', 'x'))\n"
      ]
    },
    {
      "cell_type": "markdown",
      "metadata": {
        "id": "fZ_W_MyezU74"
      },
      "source": [
        "### rfind()\n",
        "Description: Returns the highest index of a substring within the string, or -1 if not found."
      ]
    },
    {
      "cell_type": "code",
      "execution_count": null,
      "metadata": {
        "colab": {
          "base_uri": "https://localhost:8080/"
        },
        "id": "N8z9bcYFzWeJ",
        "outputId": "5f31cbd1-a315-41a2-eb21-a98e1edd0b54"
      },
      "outputs": [
        {
          "name": "stdout",
          "output_type": "stream",
          "text": [
            "9\n"
          ]
        }
      ],
      "source": [
        "# Find the highest index of 'l' in the string\n",
        "text = \"hello world\"\n",
        "print(text.rfind('l'))\n"
      ]
    },
    {
      "cell_type": "markdown",
      "metadata": {
        "id": "WuTPqJWIzaiz"
      },
      "source": [
        "### rindex()\n",
        " Similar to rfind(), but raises a ValueError if the substring is not found."
      ]
    },
    {
      "cell_type": "code",
      "execution_count": null,
      "metadata": {
        "colab": {
          "base_uri": "https://localhost:8080/"
        },
        "id": "O-N0dEYLze80",
        "outputId": "8539ac33-226b-4a98-c914-e883810e2a81"
      },
      "outputs": [
        {
          "name": "stdout",
          "output_type": "stream",
          "text": [
            "9\n"
          ]
        }
      ],
      "source": [
        "# Find the highest index of 'l' in the string\n",
        "text = \"hello world\"\n",
        "print(text.rindex('l'))\n"
      ]
    },
    {
      "cell_type": "markdown",
      "metadata": {
        "id": "8RpEgMjCznDh"
      },
      "source": [
        "### rjust()\n",
        " Right-justifies the string within a specified width, padding with spaces or a specified character."
      ]
    },
    {
      "cell_type": "code",
      "execution_count": null,
      "metadata": {
        "colab": {
          "base_uri": "https://localhost:8080/"
        },
        "id": "Wm67XkEKzqz2",
        "outputId": "414a2b9b-b201-4981-caf9-cdba0d891578"
      },
      "outputs": [
        {
          "name": "stdout",
          "output_type": "stream",
          "text": [
            "---------------hello\n"
          ]
        }
      ],
      "source": [
        "# Right-justify the string within a width of 20\n",
        "text = \"hello\"\n",
        "print(text.rjust(20, '-'))\n"
      ]
    },
    {
      "cell_type": "markdown",
      "metadata": {
        "id": "SfAzBtcP0XA1"
      },
      "source": [
        "### rpartition()\n",
        " Splits the string into a tuple of three parts: the part before the last occurrence of the separator, the separator itself, and the part after."
      ]
    },
    {
      "cell_type": "code",
      "execution_count": null,
      "metadata": {
        "colab": {
          "base_uri": "https://localhost:8080/"
        },
        "id": "5kTW0y8H0drV",
        "outputId": "b704d1d0-c3d9-4daa-8b36-65be2928a45d"
      },
      "outputs": [
        {
          "name": "stdout",
          "output_type": "stream",
          "text": [
            "('hello world', ' ', 'example')\n"
          ]
        }
      ],
      "source": [
        "# Partition the string around the last occurrence of ' '\n",
        "text = \"hello world example\"\n",
        "print(text.rpartition(' '))\n"
      ]
    },
    {
      "cell_type": "markdown",
      "metadata": {
        "id": "dgWFQwgF0h06"
      },
      "source": [
        "### rsplit()\n",
        " Splits the string into a list of substrings from the right, based on a specified delimiter."
      ]
    },
    {
      "cell_type": "code",
      "execution_count": null,
      "metadata": {
        "colab": {
          "base_uri": "https://localhost:8080/"
        },
        "id": "ezbugA-b1Mnh",
        "outputId": "280d86bc-a61a-4003-aa77-9405f31071d3"
      },
      "outputs": [
        {
          "name": "stdout",
          "output_type": "stream",
          "text": [
            "['hello world', 'example']\n"
          ]
        }
      ],
      "source": [
        "# Split the string by spaces from the right\n",
        "text = \"hello world example\"\n",
        "print(text.rsplit(' ', 1))\n"
      ]
    },
    {
      "cell_type": "markdown",
      "metadata": {
        "id": "F2K6b4ef1RGX"
      },
      "source": [
        "### rstrip()\n",
        " Removes trailing whitespace (or specified characters) from the string."
      ]
    },
    {
      "cell_type": "code",
      "execution_count": null,
      "metadata": {
        "colab": {
          "base_uri": "https://localhost:8080/"
        },
        "id": "ADNibXUA1Vw-",
        "outputId": "5a714aa8-3e6f-4bad-b678-8337eee20e8d"
      },
      "outputs": [
        {
          "name": "stdout",
          "output_type": "stream",
          "text": [
            "hello\n"
          ]
        }
      ],
      "source": [
        "# Remove trailing spaces from the string\n",
        "text = \"hello   \"\n",
        "print(text.rstrip())\n"
      ]
    },
    {
      "cell_type": "markdown",
      "metadata": {
        "id": "MeqMk-L9MLd-"
      },
      "source": [
        "### split()\n",
        "Splits a string into a list of substrings based on a specified delimiter."
      ]
    },
    {
      "cell_type": "code",
      "execution_count": null,
      "metadata": {
        "colab": {
          "base_uri": "https://localhost:8080/"
        },
        "id": "V6mFos9AMM6Z",
        "outputId": "4f93d007-d8d8-4907-f197-7cac75b8d14b"
      },
      "outputs": [
        {
          "data": {
            "text/plain": [
              "['Hello', 'World']"
            ]
          },
          "execution_count": 15,
          "metadata": {},
          "output_type": "execute_result"
        }
      ],
      "source": [
        "# Split the string by spaces\n",
        "\"Hello World\".split(' ')\n"
      ]
    },
    {
      "cell_type": "markdown",
      "metadata": {
        "id": "YklXwk7h1u_t"
      },
      "source": [
        "### splitlines()\n",
        " Splits the string into a list of lines, breaking at line boundaries."
      ]
    },
    {
      "cell_type": "code",
      "execution_count": null,
      "metadata": {
        "colab": {
          "base_uri": "https://localhost:8080/"
        },
        "id": "DtHpYV7C1yDX",
        "outputId": "d4412487-8e01-45d9-a078-572a85a4173b"
      },
      "outputs": [
        {
          "name": "stdout",
          "output_type": "stream",
          "text": [
            "['hello', 'world', 'example']\n"
          ]
        }
      ],
      "source": [
        "# Split the string into lines\n",
        "text = \"hello\\nworld\\nexample\"\n",
        "print(text.splitlines())\n"
      ]
    },
    {
      "cell_type": "markdown",
      "metadata": {
        "id": "TQ0M7E601vJk"
      },
      "source": [
        "### startswith()\n",
        " Checks if the string starts with the specified prefix, returning True or False."
      ]
    },
    {
      "cell_type": "code",
      "execution_count": null,
      "metadata": {
        "colab": {
          "base_uri": "https://localhost:8080/"
        },
        "id": "0VUqRYl01-ax",
        "outputId": "6761a52e-98b3-40e8-c0b4-64800d3ea902"
      },
      "outputs": [
        {
          "name": "stdout",
          "output_type": "stream",
          "text": [
            "True\n"
          ]
        }
      ],
      "source": [
        "# Check if the string starts with 'hello'\n",
        "text = \"hello world\"\n",
        "print(text.startswith('hello'))\n"
      ]
    },
    {
      "cell_type": "markdown",
      "metadata": {
        "id": "dEOyvegD1vQm"
      },
      "source": [
        "### strip()\n",
        " Removes leading and trailing whitespace (or specified characters) from the string."
      ]
    },
    {
      "cell_type": "code",
      "execution_count": null,
      "metadata": {
        "colab": {
          "base_uri": "https://localhost:8080/"
        },
        "id": "kpqo5h-K2H1T",
        "outputId": "c8aaf041-a12e-48c4-c93f-0f99aa75640e"
      },
      "outputs": [
        {
          "name": "stdout",
          "output_type": "stream",
          "text": [
            "hello world\n"
          ]
        }
      ],
      "source": [
        "# Strip leading and trailing spaces from the string\n",
        "text = \"   hello world   \"\n",
        "print(text.strip())\n"
      ]
    },
    {
      "cell_type": "markdown",
      "metadata": {
        "id": "KLdERCbo1vV3"
      },
      "source": [
        "### swapcase()\n",
        " Swaps the case of all characters in the string."
      ]
    },
    {
      "cell_type": "code",
      "execution_count": null,
      "metadata": {
        "colab": {
          "base_uri": "https://localhost:8080/"
        },
        "id": "ougQRy1k2Pwj",
        "outputId": "47d6d618-8730-48f8-dc81-b792c71f8b27"
      },
      "outputs": [
        {
          "name": "stdout",
          "output_type": "stream",
          "text": [
            "hELLO wORLD\n"
          ]
        }
      ],
      "source": [
        "# Swap the case of all characters\n",
        "text = \"Hello World\"\n",
        "print(text.swapcase())\n"
      ]
    },
    {
      "cell_type": "markdown",
      "metadata": {
        "id": "yIBM0V0l1vbe"
      },
      "source": [
        "### title()\n",
        " Converts the string to title case, where each word starts with an uppercase letter."
      ]
    },
    {
      "cell_type": "code",
      "execution_count": null,
      "metadata": {
        "colab": {
          "base_uri": "https://localhost:8080/"
        },
        "id": "wdyA3DmE2X2U",
        "outputId": "df3d51fa-b766-4a6a-9c6e-203af528ec21"
      },
      "outputs": [
        {
          "name": "stdout",
          "output_type": "stream",
          "text": [
            "Hello World Example\n"
          ]
        }
      ],
      "source": [
        "# Convert the string to title case\n",
        "text = \"hello world example\"\n",
        "print(text.title())\n"
      ]
    },
    {
      "cell_type": "markdown",
      "metadata": {
        "id": "vau3b39Y1vhK"
      },
      "source": [
        "### translate()\n",
        " Translates the string using a translation table created with maketrans()."
      ]
    },
    {
      "cell_type": "code",
      "execution_count": null,
      "metadata": {
        "colab": {
          "base_uri": "https://localhost:8080/"
        },
        "id": "tb5Lwmlx4C-S",
        "outputId": "f9500dfb-d441-4723-ff14-1d9afea2f580"
      },
      "outputs": [
        {
          "name": "stdout",
          "output_type": "stream",
          "text": [
            "12c\n"
          ]
        }
      ],
      "source": [
        "# Create a translation table to replace 'a' with '1' and 'b' with '2'\n",
        "trans = str.maketrans('ab', '12')\n",
        "text = \"abc\"\n",
        "print(text.translate(trans))\n"
      ]
    },
    {
      "cell_type": "markdown",
      "metadata": {
        "id": "Mhw8HQNs1vlU"
      },
      "source": [
        "### upper()\n",
        " Converts all characters in the string to uppercase."
      ]
    },
    {
      "cell_type": "code",
      "execution_count": null,
      "metadata": {
        "colab": {
          "base_uri": "https://localhost:8080/"
        },
        "id": "XnkvBV1M4K47",
        "outputId": "044f2ed0-b180-419b-ce22-57827b032f1a"
      },
      "outputs": [
        {
          "name": "stdout",
          "output_type": "stream",
          "text": [
            "HELLO\n"
          ]
        }
      ],
      "source": [
        "# Convert the string to uppercase\n",
        "text = \"hello\"\n",
        "print(text.upper())\n"
      ]
    },
    {
      "cell_type": "markdown",
      "metadata": {
        "id": "MrCfQOyz4Q4P"
      },
      "source": [
        "### zfill()\n",
        " Pads the string with zeros on the left, up to the specified width."
      ]
    },
    {
      "cell_type": "code",
      "execution_count": null,
      "metadata": {
        "colab": {
          "base_uri": "https://localhost:8080/"
        },
        "id": "mPawnrR94VL5",
        "outputId": "127e2755-17ea-4bc2-97e3-a73b512718c8"
      },
      "outputs": [
        {
          "name": "stdout",
          "output_type": "stream",
          "text": [
            "0000000042\n"
          ]
        }
      ],
      "source": [
        "# Pad the string with zeros on the left to a width of 10\n",
        "text = \"42\"\n",
        "print(text.zfill(10))\n"
      ]
    },
    {
      "cell_type": "markdown",
      "metadata": {
        "id": "zD_Y-53P6vAa"
      },
      "source": [
        "# Assignment"
      ]
    },
    {
      "cell_type": "code",
      "execution_count": null,
      "metadata": {
        "colab": {
          "base_uri": "https://localhost:8080/"
        },
        "id": "VnOnBV0y6Ord",
        "outputId": "d7171e04-d851-49f6-c475-9ce49806247b"
      },
      "outputs": [
        {
          "name": "stdout",
          "output_type": "stream",
          "text": [
            "[1, 8, 9]\n"
          ]
        }
      ],
      "source": [
        "name = \"beach tree\"\n",
        "letter = 'e'\n",
        "indexes = []\n",
        "start = 0\n",
        "\n",
        "while True:\n",
        "    index = name.find(letter, start)\n",
        "    if index == -1:  # If no other match is found, exit the loop\n",
        "        break\n",
        "    indexes.append(index)\n",
        "    start = index + 1  # Start the search from the next character\n",
        "\n",
        "print(indexes)\n",
        "\n"
      ]
    },
    {
      "cell_type": "code",
      "execution_count": null,
      "metadata": {
        "colab": {
          "base_uri": "https://localhost:8080/"
        },
        "id": "tICc-tAUkGjB",
        "outputId": "522c8857-144b-4368-c44f-d1d634d263ff"
      },
      "outputs": [
        {
          "name": "stdout",
          "output_type": "stream",
          "text": [
            "[1, 8, 9]\n"
          ]
        }
      ],
      "source": [
        "name = \"beach tree\"\n",
        "letter = 'e'\n",
        "indexes = [i for i, char in enumerate(name) if char == letter]\n",
        "print(indexes)\n"
      ]
    },
    {
      "cell_type": "code",
      "execution_count": null,
      "metadata": {
        "colab": {
          "base_uri": "https://localhost:8080/"
        },
        "id": "WKh2XF8NO0At",
        "outputId": "4bfa6355-8c9e-45cb-8479-839ebf3d341d"
      },
      "outputs": [
        {
          "name": "stdout",
          "output_type": "stream",
          "text": [
            "First 'e' index: 1\n",
            "Second 'e' index: 8\n"
          ]
        }
      ],
      "source": [
        "name = \"beach tree\"\n",
        "first_index = name.index('e')\n",
        "second_index = name.index('e', first_index + 1)\n",
        "\n",
        "print(\"First 'e' index:\", first_index)\n",
        "print(\"Second 'e' index:\", second_index)\n"
      ]
    },
    {
      "cell_type": "markdown",
      "metadata": {
        "id": "5niyKrHXQD6S"
      },
      "source": []
    },
    {
      "cell_type": "code",
      "execution_count": null,
      "metadata": {
        "id": "ADE3k3OeOAgm"
      },
      "outputs": [],
      "source": [
        "# prompt: make an elephant image\n",
        "\n",
        "from IPython.display import HTML\n",
        "HTML('<img src=\"https://upload.wikimedia.org/wikipedia/commons/thumb/3/37/African_bush_elephant.jpg/1200px-African_bush_elephant.jpg\">')\n"
      ]
    },
    {
      "cell_type": "code",
      "execution_count": null,
      "metadata": {
        "id": "weKatDMKOAmR"
      },
      "outputs": [],
      "source": [
        "# prompt: make an elephant and display an image\n",
        "\n",
        "from IPython.display import HTML\n",
        "\n",
        "# Display an image of an elephant\n",
        "HTML('<img src=\"https://upload.wikimedia.org/wikipedia/commons/thumb/3/37/African_bush_elephant.jpg/1200px-African_bush_elephant.jpg\">')\n"
      ]
    },
    {
      "cell_type": "code",
      "execution_count": null,
      "metadata": {
        "id": "taFGH-yeOAoK"
      },
      "outputs": [],
      "source": [
        "# prompt: /home perform EDA\n",
        "\n",
        "# Import necessary libraries\n",
        "import pandas as pd\n",
        "import matplotlib.pyplot as plt\n",
        "import seaborn as sns\n",
        "\n",
        "# Load the dataset (replace 'your_file.csv' with your actual file)\n",
        "df = pd.read_csv('your_file.csv')\n",
        "\n",
        "# Display basic information about the dataset\n",
        "print(df.info())\n",
        "print(df.describe())\n",
        "\n",
        "# Check for missing values\n",
        "print(df.isnull().sum())\n",
        "\n",
        "# Visualize data distribution\n",
        "df.hist(figsize=(10, 8))\n",
        "plt.show()\n",
        "\n",
        "# Explore relationships between variables\n",
        "sns.pairplot(df)\n",
        "plt.show()\n",
        "\n",
        "# Create correlation matrix\n",
        "corr_matrix = df.corr()\n",
        "sns.heatmap(corr_matrix, annot=True)\n",
        "plt.show()\n",
        "\n",
        "# Further analysis can be done based on specific needs and dataset characteristics\n",
        "# For example, you can explore categorical variables with value counts and bar plots.\n"
      ]
    },
    {
      "cell_type": "code",
      "execution_count": null,
      "metadata": {
        "id": "YXzrjPvKjJ4u",
        "colab": {
          "base_uri": "https://localhost:8080/"
        },
        "outputId": "7851a82c-ec33-4bd1-b089-64b521328c2a"
      },
      "outputs": [
        {
          "output_type": "stream",
          "name": "stdout",
          "text": [
            "/bin/bash: line 1: PWD: command not found\n"
          ]
        }
      ],
      "source": [
        "!PWD\n",
        "\n",
        "\n"
      ]
    },
    {
      "cell_type": "code",
      "execution_count": null,
      "metadata": {
        "colab": {
          "base_uri": "https://localhost:8080/"
        },
        "id": "li4JXEvUjPH6",
        "outputId": "e67d7bce-d8df-4fb4-b289-1bd579c851e8"
      },
      "outputs": [
        {
          "output_type": "stream",
          "name": "stdout",
          "text": [
            "/content\n"
          ]
        }
      ],
      "source": [
        "cd .\n"
      ]
    },
    {
      "cell_type": "code",
      "source": [],
      "metadata": {
        "id": "4nz2CXGHo_1B"
      },
      "execution_count": null,
      "outputs": []
    }
  ],
  "metadata": {
    "colab": {
      "provenance": [],
      "authorship_tag": "ABX9TyOGAjFO4/EQ8VFUc7KZr+b1",
      "include_colab_link": true
    },
    "kernelspec": {
      "display_name": "Python 3",
      "name": "python3"
    },
    "language_info": {
      "name": "python"
    }
  },
  "nbformat": 4,
  "nbformat_minor": 0
}
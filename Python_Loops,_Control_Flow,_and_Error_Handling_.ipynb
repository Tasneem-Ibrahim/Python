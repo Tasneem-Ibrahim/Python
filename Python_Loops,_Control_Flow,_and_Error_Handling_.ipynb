{
  "nbformat": 4,
  "nbformat_minor": 0,
  "metadata": {
    "colab": {
      "provenance": [],
      "authorship_tag": "ABX9TyMHFqbs+CeiypCy1FvHKjCh",
      "include_colab_link": true
    },
    "kernelspec": {
      "name": "python3",
      "display_name": "Python 3"
    },
    "language_info": {
      "name": "python"
    }
  },
  "cells": [
    {
      "cell_type": "markdown",
      "metadata": {
        "id": "view-in-github",
        "colab_type": "text"
      },
      "source": [
        "<a href=\"https://colab.research.google.com/github/Tasneem-Ibrahim/Python/blob/main/Python_Loops%2C_Control_Flow%2C_and_Error_Handling_.ipynb\" target=\"_parent\"><img src=\"https://colab.research.google.com/assets/colab-badge.svg\" alt=\"Open In Colab\"/></a>"
      ]
    },
    {
      "cell_type": "markdown",
      "source": [
        "# Python: Loops, Control Flow, and Error Handling\n",
        "\n",
        "Python programming through control flow, loops, conditionals, and effective error handling for reliable and efficient code."
      ],
      "metadata": {
        "id": "aWaXGCnHeJ3K"
      }
    },
    {
      "cell_type": "code",
      "source": [
        "# The code prints \"start program\", then evaluates a condition. Since the condition is False, it prints \"USA\", and finally prints \"end program\".\n",
        "\n",
        "print(\"start program\")\n",
        "if False:\n",
        "    print(\"Pakistan\")\n",
        "else:\n",
        "    print(\"USA\")\n",
        "print(\"end program\")"
      ],
      "metadata": {
        "id": "DKehie2KeUNP",
        "colab": {
          "base_uri": "https://localhost:8080/"
        },
        "outputId": "b2d10255-ebd4-41ae-8af2-da5c5c036cb3"
      },
      "execution_count": 1,
      "outputs": [
        {
          "output_type": "stream",
          "name": "stdout",
          "text": [
            "start program\n",
            "USA\n",
            "end program\n"
          ]
        }
      ]
    },
    {
      "cell_type": "code",
      "source": [
        "# The code verifies if the entered username matches predefined values and checks if the password is \"123,\" printing \"Valid user\" or \"Invalid user\" accordingly.\n",
        "\n",
        "user :str = input(\"Enter your name: \")\n",
        "password : str = input(\"Enter password: \")\n",
        "\n",
        "if user == \"admin\" and password == \"123\":\n",
        "    print(\"Valid user\")\n",
        "else:\n",
        "    print(\"Invalid user\")\n"
      ],
      "metadata": {
        "colab": {
          "base_uri": "https://localhost:8080/"
        },
        "id": "nPK0WJFOsmbh",
        "outputId": "7ed6d953-7695-4018-a770-78644b22cf1c"
      },
      "execution_count": 2,
      "outputs": [
        {
          "output_type": "stream",
          "name": "stdout",
          "text": [
            "Enter your name: admin\n",
            "Enter password: 123\n",
            "Valid user\n"
          ]
        }
      ]
    },
    {
      "cell_type": "code",
      "source": [
        "# The code assigns a grade of 78 and prints \"A\" based on the grading criteria defined in the conditional statements.\n",
        "\n",
        "grade : int = 78\n",
        "\n",
        "if grade >= 80:\n",
        "  print(\"A+\")\n",
        "elif grade >= 70:\n",
        "  print(\"A\")\n",
        "elif grade >= 60:\n",
        "  print(\"B\")\n",
        "elif grade >= 50:\n",
        "  print(\"C\")\n",
        "elif grade >= 40:\n",
        "  print(\"D\")\n",
        "else:\n",
        "  print(\"Fail\")"
      ],
      "metadata": {
        "colab": {
          "base_uri": "https://localhost:8080/"
        },
        "id": "jAUCPUghXk_4",
        "outputId": "0eae3bba-2df0-4491-8283-99ab6daefabe"
      },
      "execution_count": 3,
      "outputs": [
        {
          "output_type": "stream",
          "name": "stdout",
          "text": [
            "A\n"
          ]
        }
      ]
    },
    {
      "cell_type": "code",
      "source": [
        "if 78 > 0 :\n",
        "  print(\"Fail\")\n",
        "elif percentage >= 33:\n",
        "  print(\"E\")\n",
        "elif percentage >= 40:\n",
        "  print(\"D\")\n",
        "elif percentage >= 50:\n",
        "  print(\"C\")\n",
        "elif percentage >= 60:\n",
        "  print(\"B\")\n",
        "elif percentage >= 70:\n",
        "  print(\"A\")\n",
        "elif percentage >= 80:\n",
        "  print(\"A+\")\n",
        "\n",
        "else:\n",
        "  print(\"Invalid percentage\")\n"
      ],
      "metadata": {
        "colab": {
          "base_uri": "https://localhost:8080/"
        },
        "id": "yhBmQTPluyea",
        "outputId": "9778bc79-f32f-4081-bed1-469d0589eb27"
      },
      "execution_count": 4,
      "outputs": [
        {
          "output_type": "stream",
          "name": "stdout",
          "text": [
            "Fail\n"
          ]
        }
      ]
    },
    {
      "cell_type": "code",
      "source": [
        "percentage : int = 78\n",
        "\n",
        "if percentage > 0 and percentage < 33:\n",
        "    print(\"Fail\")\n",
        "elif percentage >= 33 and percentage < 40:\n",
        "  print(\"E\")\n",
        "elif percentage >= 40 and percentage < 50:\n",
        "  print(\"D\")\n",
        "elif percentage >= 50 and percentage < 60:\n",
        "  print(\"C\")\n",
        "elif percentage >= 60 and percentage < 70:\n",
        "  print(\"B\")\n",
        "elif percentage >= 70 and percentage < 80:\n",
        "  print(\"A\")\n",
        "elif percentage >= 80 and percentage < 100:\n",
        "  print(\"A+\")\n",
        "\n",
        "else:\n",
        "  print(\"Invalid percentage\")\n"
      ],
      "metadata": {
        "colab": {
          "base_uri": "https://localhost:8080/"
        },
        "id": "lHI7FOUowfAi",
        "outputId": "66acb124-0f09-4231-f1d6-a74c8c04a215"
      },
      "execution_count": 5,
      "outputs": [
        {
          "output_type": "stream",
          "name": "stdout",
          "text": [
            "A\n"
          ]
        }
      ]
    },
    {
      "cell_type": "code",
      "source": [],
      "metadata": {
        "id": "3Z0XPJHTyDXU"
      },
      "execution_count": null,
      "outputs": []
    },
    {
      "cell_type": "code",
      "source": [
        "grade : int = 78\n",
        "if False:\n",
        "  print(\"A+\")\n",
        "elif grade >= 70:\n",
        "  print(\"A\")\n",
        "elif grade >= 60:\n",
        "  print(\"B\")\n",
        "elif grade >= 50:\n",
        "  print(\"C\")\n",
        "else:\n",
        "  print(\"Fail\")"
      ],
      "metadata": {
        "colab": {
          "base_uri": "https://localhost:8080/"
        },
        "id": "w-UbbFGIX40V",
        "outputId": "db2c30d4-7f5c-4866-ee68-5332d2b0e819"
      },
      "execution_count": 6,
      "outputs": [
        {
          "output_type": "stream",
          "name": "stdout",
          "text": [
            "A\n"
          ]
        }
      ]
    },
    {
      "cell_type": "code",
      "source": [
        "# The code prints \"Pakistan\" because the condition is True. The else part is not executed.\n",
        "\n",
        "print(\"Pakistan\") if True else print(\"USA\")\n"
      ],
      "metadata": {
        "id": "4GiKY3KxYeL2",
        "colab": {
          "base_uri": "https://localhost:8080/"
        },
        "outputId": "ccf270a5-9e60-41b9-c13a-fa602008fa91"
      },
      "execution_count": null,
      "outputs": [
        {
          "output_type": "stream",
          "name": "stdout",
          "text": [
            "Pakistan\n"
          ]
        }
      ]
    },
    {
      "cell_type": "code",
      "source": [
        "# The code prints \"USA\" because the condition is False, which causes the else part to execute.\n",
        "\n",
        "print(\"Pakistan \") if False else print (\"USA\")\n"
      ],
      "metadata": {
        "colab": {
          "base_uri": "https://localhost:8080/"
        },
        "id": "yKS8namdyjKI",
        "outputId": "80aa637d-8fba-4e11-e5a8-f28becd36e05"
      },
      "execution_count": null,
      "outputs": [
        {
          "output_type": "stream",
          "name": "stdout",
          "text": [
            "USA\n"
          ]
        }
      ]
    },
    {
      "cell_type": "code",
      "source": [
        "# The code checks user input for a valid username and password, printing \"Valid user\" or \"Invalid user\" based on the entered credentials.\n",
        "\n",
        "\n",
        "user_name: str = input(\"Enter username/email/mobile: \")  # Clarified prompt\n",
        "password: str = input(\"Enter password: \")  # Corrected spelling of \"password\"\n",
        "\n",
        "# Compare user_name and password\n",
        "if (user_name == \"admin\" or user_name == \"Email_address\" or user_name == \"Mobile_number\") and password == \"123\":  # Enclose password in quotes and corrected variable name\n",
        "    print(\"Valid user\")\n",
        "else:\n",
        "    print(\"Invalid user\")\n"
      ],
      "metadata": {
        "id": "TmAcZOhuZ3Oi",
        "colab": {
          "base_uri": "https://localhost:8080/"
        },
        "outputId": "c76f4a31-29a2-41dc-8d87-c8a8deb3b2e4"
      },
      "execution_count": 8,
      "outputs": [
        {
          "output_type": "stream",
          "name": "stdout",
          "text": [
            "Enter username/email/mobile: admin\n",
            "Enter password: 123\n",
            "Valid user\n"
          ]
        }
      ]
    },
    {
      "cell_type": "code",
      "source": [
        "# Loop\n",
        "# * Controls\n",
        "#     * break\n",
        "#     * continue\n",
        "#    * pass\n",
        "# * while\n",
        "#   * counter\n",
        "#   * logic\n",
        "#   * increment/decrement\n",
        "#   * loop body\n",
        "#   * loop condition\n",
        "#   * Syntax\n",
        "#     Python\n",
        "# * for"
      ],
      "metadata": {
        "id": "_E0o-JbwiXuL",
        "collapsed": true
      },
      "execution_count": null,
      "outputs": []
    },
    {
      "cell_type": "code",
      "source": [
        "# What the code does:\n",
        "# counter: int = 0: Initializes the counter variable to 0.\n",
        "# while counter < 10:: The loop runs while counter is less than 10.\n",
        "# print(f\"Pakistan{counter}\"): Prints \"Pakistan\" followed by the current value of counter.\n",
        "# counter += 1: Increments the value of counter by 1 each time through the loop.\n",
        "\n",
        "\n",
        "counter : int = 0\n",
        "while counter < 10:\n",
        "  print(f\"Pakistan{counter}\")\n",
        "  counter += 1"
      ],
      "metadata": {
        "colab": {
          "base_uri": "https://localhost:8080/"
        },
        "id": "PQjPOjcx0mpx",
        "outputId": "1ae7d4f9-7c6c-449f-8b45-97420af7274f"
      },
      "execution_count": 9,
      "outputs": [
        {
          "output_type": "stream",
          "name": "stdout",
          "text": [
            "Pakistan0\n",
            "Pakistan1\n",
            "Pakistan2\n",
            "Pakistan3\n",
            "Pakistan4\n",
            "Pakistan5\n",
            "Pakistan6\n",
            "Pakistan7\n",
            "Pakistan8\n",
            "Pakistan9\n"
          ]
        }
      ]
    },
    {
      "cell_type": "code",
      "source": [
        "# What the code does:\n",
        "\n",
        "# while counter < 10:: This loop runs as long as the counter is less than 10. Once the condition counter < 10 becomes false (when counter reaches 10), the loop will exit.\n",
        "# else: block: The else block is executed when the loop finishes without a break statement. This means the else block will always run after the while loop completes, not because the loop \"fails.\"\n",
        "\n",
        "counter : int = 1\n",
        "while counter < 10:\n",
        "  print(f\"Pakistan{counter}\")\n",
        "  counter += 1\n",
        "else:\n",
        "  print(\"loop not working\")"
      ],
      "metadata": {
        "colab": {
          "base_uri": "https://localhost:8080/"
        },
        "id": "KexwaBkj1_l5",
        "outputId": "18fdf1ff-d769-4cb0-d41d-9eeed2d78161"
      },
      "execution_count": 10,
      "outputs": [
        {
          "output_type": "stream",
          "name": "stdout",
          "text": [
            "Pakistan1\n",
            "Pakistan2\n",
            "Pakistan3\n",
            "Pakistan4\n",
            "Pakistan5\n",
            "Pakistan6\n",
            "Pakistan7\n",
            "Pakistan8\n",
            "Pakistan9\n",
            "loop not working\n"
          ]
        }
      ]
    },
    {
      "cell_type": "code",
      "source": [
        "# promt : create while loop with continue control in python\n",
        "counter : int = 0\n",
        "while counter < 10:\n",
        "  counter += 1\n",
        "  if counter == 5:\n",
        "    continue\n",
        "  print(counter)\n"
      ],
      "metadata": {
        "colab": {
          "base_uri": "https://localhost:8080/"
        },
        "id": "LBk1OWG34DTL",
        "outputId": "b9f6d268-2183-41e9-f9b4-c1e24931b833"
      },
      "execution_count": 11,
      "outputs": [
        {
          "output_type": "stream",
          "name": "stdout",
          "text": [
            "1\n",
            "2\n",
            "3\n",
            "4\n",
            "6\n",
            "7\n",
            "8\n",
            "9\n",
            "10\n"
          ]
        }
      ]
    },
    {
      "cell_type": "code",
      "source": [
        "# Initial value: counter is initialized to 1.\n",
        "# Loop condition: The loop continues as long as counter <= 10.\n",
        "# Increment: Each time the loop runs, counter is increased by 1 (counter += 1).\n",
        "# Printing: After each increment, the updated value of counter is printed.\n",
        "\n",
        "counter : int = 1\n",
        "\n",
        "while counter <= 10 :\n",
        "  counter += 1\n",
        "  print(counter)"
      ],
      "metadata": {
        "colab": {
          "base_uri": "https://localhost:8080/"
        },
        "id": "ElUNRqow5Jcw",
        "outputId": "3c8d0c6a-0afb-46c3-c82a-726a3f2345cc"
      },
      "execution_count": 12,
      "outputs": [
        {
          "output_type": "stream",
          "name": "stdout",
          "text": [
            "2\n",
            "3\n",
            "4\n",
            "5\n",
            "6\n",
            "7\n",
            "8\n",
            "9\n",
            "10\n",
            "11\n"
          ]
        }
      ]
    },
    {
      "cell_type": "code",
      "source": [
        "# The code initializes a list of names, prints the first name, and then uses a while loop to print all names in the list.\n",
        "\n",
        "names : list[str] = [\"A\", \"B\", \"C\", \"D\", \"E\"]\n",
        "print (names [0])\n",
        "\n",
        "index : int = 0\n",
        "while index < len(names):\n",
        "  print (names[index])\n",
        "  index +=1"
      ],
      "metadata": {
        "id": "ClM-1d5947W2",
        "colab": {
          "base_uri": "https://localhost:8080/"
        },
        "outputId": "cab3b127-ca07-417c-a484-85ce02faf9ce"
      },
      "execution_count": 13,
      "outputs": [
        {
          "output_type": "stream",
          "name": "stdout",
          "text": [
            "A\n",
            "A\n",
            "B\n",
            "C\n",
            "D\n",
            "E\n"
          ]
        }
      ]
    },
    {
      "cell_type": "code",
      "source": [
        "# The code zips together two lists, names and numbers, into pairs and prints the resulting list of tuples.\n",
        "# The zip function pairs elements from both lists into tuples. The first element of names is paired with the first element of numbers, and so on.\n",
        "\n",
        "names : list[str] = [\"a\", \"b\", \"c\"]\n",
        "numbers : list[int] = [1, 2, 3]\n",
        "\n",
        "my_data = zip(names, numbers)\n",
        "print(list(my_data))"
      ],
      "metadata": {
        "id": "IootVw1VyunS",
        "colab": {
          "base_uri": "https://localhost:8080/"
        },
        "outputId": "a96536ee-51f5-495b-862d-c520ffaa5848"
      },
      "execution_count": 14,
      "outputs": [
        {
          "output_type": "stream",
          "name": "stdout",
          "text": [
            "[('a', 1), ('b', 2), ('c', 3)]\n"
          ]
        }
      ]
    },
    {
      "cell_type": "code",
      "source": [
        "# The code iterates over a list of names and prints each name\n",
        "\n",
        "names : list[str] = [\"a\", \"b\", \"c\"]\n",
        "for xyz in names :\n",
        "  print(xyz)"
      ],
      "metadata": {
        "colab": {
          "base_uri": "https://localhost:8080/"
        },
        "id": "M2uykV20HPzM",
        "outputId": "a2c06c0b-d1aa-4689-8005-7788940ea2ec"
      },
      "execution_count": 15,
      "outputs": [
        {
          "output_type": "stream",
          "name": "stdout",
          "text": [
            "a\n",
            "b\n",
            "c\n"
          ]
        }
      ]
    },
    {
      "cell_type": "code",
      "source": [
        "# The code creates a list of integers from 1 to 10 using a list comprehension.\n",
        "\n",
        "[i for i in range(1,11)]"
      ],
      "metadata": {
        "colab": {
          "base_uri": "https://localhost:8080/"
        },
        "id": "RnUaiTjwHfm2",
        "outputId": "606db389-d7ec-4c0e-c53b-d034b3d4b802"
      },
      "execution_count": 17,
      "outputs": [
        {
          "output_type": "execute_result",
          "data": {
            "text/plain": [
              "[1, 2, 3, 4, 5, 6, 7, 8, 9, 10]"
            ]
          },
          "metadata": {},
          "execution_count": 17
        }
      ]
    },
    {
      "cell_type": "code",
      "source": [
        "# The code generates a list of greeting strings for each name in the list [\"a\", \"b\", \"c\"].\n",
        "\n",
        "names : list[str] = [\"a\", \"b\", \"c\"]\n",
        "[f\"Hello {i}\" for i in names]"
      ],
      "metadata": {
        "colab": {
          "base_uri": "https://localhost:8080/"
        },
        "id": "AOxMmROXHs0v",
        "outputId": "1c58ebb2-d9dc-4a0d-a324-dd1692c41b4e"
      },
      "execution_count": 18,
      "outputs": [
        {
          "output_type": "execute_result",
          "data": {
            "text/plain": [
              "['Hello a', 'Hello b', 'Hello c']"
            ]
          },
          "metadata": {},
          "execution_count": 18
        }
      ]
    },
    {
      "cell_type": "code",
      "source": [
        "# The expression [loop_body for i in Lilters] is a placeholder for a list comprehension that iterates over Lilters, applying loop_body to each element.\n",
        "\n",
        "# [loop_body for i in Lilters]\n"
      ],
      "metadata": {
        "id": "2XaHMn4sIBL8"
      },
      "execution_count": null,
      "outputs": []
    },
    {
      "cell_type": "code",
      "source": [
        "# data given in Dictionary\n",
        "\n",
        "data = {\"name\" : \"Zara\",\"age\": \"24\",\"city\" : \"Karachi\"}\n",
        "\n",
        "data"
      ],
      "metadata": {
        "colab": {
          "base_uri": "https://localhost:8080/"
        },
        "id": "HSVr3DVYJNQW",
        "outputId": "7d04d5c4-65ec-4084-8cf9-9f8b3c5580c8"
      },
      "execution_count": 20,
      "outputs": [
        {
          "output_type": "execute_result",
          "data": {
            "text/plain": [
              "{'name': 'Zara', 'age': '24', 'city': 'Karachi'}"
            ]
          },
          "metadata": {},
          "execution_count": 20
        }
      ]
    },
    {
      "cell_type": "code",
      "source": [
        "# The expression {v: k for k, v in data.items()} creates a new dictionary that reverses the keys and values from the original dictionary data.\n",
        "\n",
        "{v:k for k,v in data.items()}"
      ],
      "metadata": {
        "colab": {
          "base_uri": "https://localhost:8080/"
        },
        "id": "uNV5hNgQKUBl",
        "outputId": "056e1a32-75b0-444a-968a-fd4619448f12"
      },
      "execution_count": 21,
      "outputs": [
        {
          "output_type": "execute_result",
          "data": {
            "text/plain": [
              "{'Zara': 'name', '24': 'age', 'Karachi': 'city'}"
            ]
          },
          "metadata": {},
          "execution_count": 21
        }
      ]
    },
    {
      "cell_type": "code",
      "source": [
        "# The code iterates through each key-value pair in the dictionary data and prints them.\n",
        "\n",
        "for k,v in data.items():\n",
        "  print(k,v)"
      ],
      "metadata": {
        "colab": {
          "base_uri": "https://localhost:8080/"
        },
        "id": "KoNRI28dK0vN",
        "outputId": "121b6dcc-ae0d-48e3-e1cb-f4ce6f89c3f5"
      },
      "execution_count": 22,
      "outputs": [
        {
          "output_type": "stream",
          "name": "stdout",
          "text": [
            "name Zara\n",
            "age 24\n",
            "city Karachi\n"
          ]
        }
      ]
    },
    {
      "cell_type": "code",
      "source": [
        "data.items()"
      ],
      "metadata": {
        "colab": {
          "base_uri": "https://localhost:8080/"
        },
        "id": "3Nyt87DLK8Oo",
        "outputId": "a2f3e1ae-3a6e-42ad-a515-62fa0833e705"
      },
      "execution_count": 23,
      "outputs": [
        {
          "output_type": "execute_result",
          "data": {
            "text/plain": [
              "dict_items([('name', 'Zara'), ('age', '24'), ('city', 'Karachi')])"
            ]
          },
          "metadata": {},
          "execution_count": 23
        }
      ]
    },
    {
      "cell_type": "code",
      "source": [
        "# The code attempts to print an element from a list at an invalid index, catches the IndexError, and prints an error message before concluding with \"End Program.\"\n",
        "\n",
        "print(\"Start Progam\")\n",
        "\n",
        "names : list[str] = [\"a\", \"b\", \"c\"]\n",
        "try:\n",
        "  print(names[10])\n",
        "except IndexError:\n",
        "  print(\"list index out of range\")\n",
        "\n",
        "print(\"End Program\")"
      ],
      "metadata": {
        "colab": {
          "base_uri": "https://localhost:8080/"
        },
        "id": "ULy_gzDXLFWl",
        "outputId": "31119144-7f5f-48e4-d5cc-25c656c7ed79"
      },
      "execution_count": 24,
      "outputs": [
        {
          "output_type": "stream",
          "name": "stdout",
          "text": [
            "Start Progam\n",
            "list index out of range\n",
            "End Program\n"
          ]
        }
      ]
    },
    {
      "cell_type": "code",
      "source": [
        "#try Block:\n",
        "\n",
        "# The try block contains two operations:\n",
        "# print(10/0): This line attempts to divide 10 by 0, which will immediately raise a ZeroDivisionError. This is an error because division by zero is undefined in mathematics and illegal in Python.\n",
        "\n",
        "try:\n",
        "  print(10/0)\n",
        "  names : list[str] = [\"x\", \"y\", \"z\"]\n",
        "  print(names[10])\n",
        "\n",
        "  # except ZeroDivisionError Block:\n",
        "\n",
        "# When the ZeroDivisionError is raised (from 10/0), Python looks for an appropriate except block to handle this error. Since we have an except ZeroDivisionError block, the error is caught here,\n",
        "\n",
        "except ZeroDivisionError:\n",
        "    print(\"ap zero error se divide nhai kar saktay\") #ZeroDivisionErro\n",
        "\n"
      ],
      "metadata": {
        "colab": {
          "base_uri": "https://localhost:8080/"
        },
        "id": "N_Gt7VOqK-mL",
        "outputId": "f4a81913-d4b4-403c-9814-5c4b49468822"
      },
      "execution_count": 25,
      "outputs": [
        {
          "output_type": "stream",
          "name": "stdout",
          "text": [
            "ap zero error se divide nhai kar saktay\n"
          ]
        }
      ]
    },
    {
      "cell_type": "code",
      "source": [
        "# The code handles potential IndexError and FileNotFoundError exceptions, printing \"ERROR\" if any occur.\n",
        "\n",
        "try:\n",
        "    # print(10/0)  # This line is commented out as per your comment\n",
        "    names: list[str] = [\"a\", \"b\", \"c\"]\n",
        "    print(names[10])  # This will raise an IndexError\n",
        "    with open('abc.txt') as f:  # If 'abc.txt' does not exist, this will raise a FileNotFoundError\n",
        "        print(f.read())\n",
        "except (ZeroDivisionError, IndexError, FileNotFoundError):  # Correct exception name for FileNotFoundError\n",
        "    print(\"ERROR\")\n"
      ],
      "metadata": {
        "colab": {
          "base_uri": "https://localhost:8080/"
        },
        "id": "2q22VL5EM73v",
        "outputId": "eb63a988-6b21-4ac3-e9bc-4bd38452067c"
      },
      "execution_count": 26,
      "outputs": [
        {
          "output_type": "stream",
          "name": "stdout",
          "text": [
            "ERROR\n"
          ]
        }
      ]
    },
    {
      "cell_type": "code",
      "source": [
        "# This code attempts to access an out-of-range list index and read from a file, handling any exceptions by printing the error description, followed by printing \"End Program.\"\n",
        "\n",
        "try:\n",
        "    # print(10/0)  # This line is commented out as per your comment\n",
        "    names: list[str] = [\"a\", \"b\", \"c\"]\n",
        "    print(names[10])  # This will raise an IndexError\n",
        "    with open('abc.txt') as f:  # If 'abc.txt' does not exist, this will raise a FileNotFoundError\n",
        "        print(f.read())\n",
        "except Exception as e:\n",
        "  print(f\"Error description: {e}\")\n",
        "print(\"End Program\")\n"
      ],
      "metadata": {
        "colab": {
          "base_uri": "https://localhost:8080/"
        },
        "id": "iN-sTIW9SxtT",
        "outputId": "bfbbf49e-834d-4c5b-9be5-b3d3d16b35a4"
      },
      "execution_count": 27,
      "outputs": [
        {
          "output_type": "stream",
          "name": "stdout",
          "text": [
            "Error description: list index out of range\n",
            "End Program\n"
          ]
        }
      ]
    },
    {
      "cell_type": "code",
      "source": [
        "# This code tries to read from a file and handle any exception that occurs by printing the error description, then prints \"End Program.\"\n",
        "try:\n",
        "  #print(10/0)\n",
        "  names : list[str] = [\"a\", \"b\", \"c\"]\n",
        "  #print(names[10])\n",
        "  with open('abc.txt') as f:\n",
        "    print(f.read())\n",
        "except Exception as e:\n",
        "  print(f\"Error description: {e}\")\n",
        "\n",
        "print(\"End Program\")"
      ],
      "metadata": {
        "colab": {
          "base_uri": "https://localhost:8080/"
        },
        "id": "ey_l-XY3TXAe",
        "outputId": "4d210283-5533-4a8f-a05d-69d490a3bca3"
      },
      "execution_count": 28,
      "outputs": [
        {
          "output_type": "stream",
          "name": "stdout",
          "text": [
            "Error description: [Errno 2] No such file or directory: 'abc.txt'\n",
            "End Program\n"
          ]
        }
      ]
    },
    {
      "cell_type": "code",
      "source": [
        "# The code attempts to perform a division, access an out-of-range list index, and read a file, handling potential errors with specific messages before printing \"End Program.\"\n",
        "\n",
        "try:\n",
        "    print(10 / 2)  # This division will work fine\n",
        "    names: list[str] = [\"a\", \"b\", \"c\"]\n",
        "    print(names[10])  # This will raise an IndexError\n",
        "    with open('abc.txt') as f:  # If 'abc.txt' doesn't exist, this will raise a FileNotFoundError\n",
        "        print(f.read())\n",
        "except ZeroDivisionError:\n",
        "    print(\"Ap zero se division nahi kar saktay\")  # Corrected string\n",
        "except IndexError:\n",
        "    print(\"List index out of range\")  # IndexError for accessing names[10]\n",
        "except FileNotFoundError:\n",
        "    print(\"File not found\")  # FileNotFoundError if 'abc.txt' is missing\n",
        "except Exception as e:\n",
        "    print(f\"Error description: {e}\")  # Catch-all for any other exception\n",
        "print(\"End Program\")\n"
      ],
      "metadata": {
        "colab": {
          "base_uri": "https://localhost:8080/"
        },
        "id": "SYXSdnpWXAb2",
        "outputId": "7ce0cd98-58cc-4119-d999-b0f0756ecf72"
      },
      "execution_count": 29,
      "outputs": [
        {
          "output_type": "stream",
          "name": "stdout",
          "text": [
            "5.0\n",
            "List index out of range\n",
            "End Program\n"
          ]
        }
      ]
    }
  ]
}
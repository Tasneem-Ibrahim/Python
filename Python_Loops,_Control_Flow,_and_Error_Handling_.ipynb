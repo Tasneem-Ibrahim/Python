{
  "nbformat": 4,
  "nbformat_minor": 0,
  "metadata": {
    "colab": {
      "provenance": [],
      "authorship_tag": "ABX9TyPj7D6OFOr0Wx4GZ4L84DAE",
      "include_colab_link": true
    },
    "kernelspec": {
      "name": "python3",
      "display_name": "Python 3"
    },
    "language_info": {
      "name": "python"
    }
  },
  "cells": [
    {
      "cell_type": "markdown",
      "metadata": {
        "id": "view-in-github",
        "colab_type": "text"
      },
      "source": [
        "<a href=\"https://colab.research.google.com/github/Tasneem-Ibrahim/Python/blob/main/Python_Loops%2C_Control_Flow%2C_and_Error_Handling_.ipynb\" target=\"_parent\"><img src=\"https://colab.research.google.com/assets/colab-badge.svg\" alt=\"Open In Colab\"/></a>"
      ]
    },
    {
      "cell_type": "markdown",
      "source": [
        "# Python: Loops, Control Flow, and Error Handling\n",
        "\n",
        "Python programming through control flow, loops, conditionals, and effective error handling for reliable and efficient code."
      ],
      "metadata": {
        "id": "aWaXGCnHeJ3K"
      }
    },
    {
      "cell_type": "code",
      "source": [
        "# The code prints \"start program\", then evaluates a condition. Since the condition is False, it prints \"USA\", and finally prints \"end program\".\n",
        "\n",
        "print(\"start program\")\n",
        "if False:\n",
        "    print(\"Pakistan\")\n",
        "else:\n",
        "    print(\"USA\")\n",
        "print(\"end program\")"
      ],
      "metadata": {
        "id": "DKehie2KeUNP"
      },
      "execution_count": null,
      "outputs": []
    },
    {
      "cell_type": "code",
      "source": [
        "# The code verifies if the entered username matches predefined values and checks if the password is \"123,\" printing \"Valid user\" or \"Invalid user\" accordingly.\n",
        "\n",
        "user :str = input(\"Enter your name: \")\n",
        "password : str = input(\"Enter password: \")\n",
        "\n",
        "if user == \"admin\" and password == \"123\":\n",
        "    print(\"Valid user\")\n",
        "else:\n",
        "    print(\"Invalid user\")\n"
      ],
      "metadata": {
        "colab": {
          "base_uri": "https://localhost:8080/"
        },
        "id": "nPK0WJFOsmbh",
        "outputId": "a8ccbcd3-94a8-4429-e08c-6d8a753f07db"
      },
      "execution_count": null,
      "outputs": [
        {
          "output_type": "stream",
          "name": "stdout",
          "text": [
            "Enter your name: admin\n",
            "Enter password: 123\n",
            "Valid user\n"
          ]
        }
      ]
    },
    {
      "cell_type": "code",
      "source": [
        "# The code assigns a grade of 78 and prints \"A\" based on the grading criteria defined in the conditional statements.\n",
        "\n",
        "grade : int = 78\n",
        "\n",
        "if grade >= 80:\n",
        "  print(\"A+\")\n",
        "elif grade >= 70:\n",
        "  print(\"A\")\n",
        "elif grade >= 60:\n",
        "  print(\"B\")\n",
        "elif grade >= 50:\n",
        "  print(\"C\")\n",
        "elif grade >= 40:\n",
        "  print(\"D\")\n",
        "else:\n",
        "  print(\"Fail\")"
      ],
      "metadata": {
        "colab": {
          "base_uri": "https://localhost:8080/"
        },
        "id": "jAUCPUghXk_4",
        "outputId": "cac3d8c4-8185-41cc-9101-e3df4967e069"
      },
      "execution_count": null,
      "outputs": [
        {
          "output_type": "stream",
          "name": "stdout",
          "text": [
            "A\n"
          ]
        }
      ]
    },
    {
      "cell_type": "code",
      "source": [
        "if 78 > 0 :\n",
        "  print(\"Fail\")\n",
        "elif percentage >= 33:\n",
        "  print(\"E\")\n",
        "elif percentage >= 40:\n",
        "  print(\"D\")\n",
        "elif percentage >= 50:\n",
        "  print(\"C\")\n",
        "elif percentage >= 60:\n",
        "  print(\"B\")\n",
        "elif percentage >= 70:\n",
        "  print(\"A\")\n",
        "elif percentage >= 80:\n",
        "  print(\"A+\")\n",
        "\n",
        "else:\n",
        "  print(\"Invalid percentage\")\n"
      ],
      "metadata": {
        "colab": {
          "base_uri": "https://localhost:8080/"
        },
        "id": "yhBmQTPluyea",
        "outputId": "16dc4d82-a57c-48a2-ed0a-76d7e0196a66"
      },
      "execution_count": null,
      "outputs": [
        {
          "output_type": "stream",
          "name": "stdout",
          "text": [
            "Fail\n"
          ]
        }
      ]
    },
    {
      "cell_type": "code",
      "source": [
        "percentage : int = 78\n",
        "\n",
        "if percentage > 0 and percentage < 33:\n",
        "    print(\"Fail\")\n",
        "elif percentage >= 33 and percentage < 40:\n",
        "  print(\"E\")\n",
        "elif percentage >= 40 and percentage < 50:\n",
        "  print(\"D\")\n",
        "elif percentage >= 50 and percentage < 60:\n",
        "  print(\"C\")\n",
        "elif percentage >= 60 and percentage < 70:\n",
        "  print(\"B\")\n",
        "elif percentage >= 70 and percentage < 80:\n",
        "  print(\"A\")\n",
        "elif percentage >= 80 and percentage < 100:\n",
        "  print(\"A+\")\n",
        "\n",
        "else:\n",
        "  print(\"Invalid percentage\")\n"
      ],
      "metadata": {
        "colab": {
          "base_uri": "https://localhost:8080/"
        },
        "id": "lHI7FOUowfAi",
        "outputId": "97d0cef7-c73e-4b88-b43c-3637d7ca5e75"
      },
      "execution_count": null,
      "outputs": [
        {
          "output_type": "stream",
          "name": "stdout",
          "text": [
            "A\n"
          ]
        }
      ]
    },
    {
      "cell_type": "code",
      "source": [],
      "metadata": {
        "id": "3Z0XPJHTyDXU"
      },
      "execution_count": null,
      "outputs": []
    },
    {
      "cell_type": "code",
      "source": [
        "grade : int = 78\n",
        "if False:\n",
        "  print(\"A+\")\n",
        "elif grade >= 70:\n",
        "  print(\"A\")\n",
        "elif grade >= 60:\n",
        "  print(\"B\")\n",
        "elif grade >= 50:\n",
        "  print(\"C\")\n",
        "else:\n",
        "  print(\"Fail\")"
      ],
      "metadata": {
        "colab": {
          "base_uri": "https://localhost:8080/"
        },
        "id": "w-UbbFGIX40V",
        "outputId": "d0f95164-476b-41af-b93c-483002af89d5"
      },
      "execution_count": null,
      "outputs": [
        {
          "output_type": "stream",
          "name": "stdout",
          "text": [
            "A\n"
          ]
        }
      ]
    },
    {
      "cell_type": "code",
      "source": [
        "# The code prints \"Pakistan\" because the condition is True. The else part is not executed.\n",
        "\n",
        "print(\"Pakistan\") if True else print(\"USA\")\n"
      ],
      "metadata": {
        "id": "4GiKY3KxYeL2",
        "colab": {
          "base_uri": "https://localhost:8080/"
        },
        "outputId": "ccf270a5-9e60-41b9-c13a-fa602008fa91"
      },
      "execution_count": null,
      "outputs": [
        {
          "output_type": "stream",
          "name": "stdout",
          "text": [
            "Pakistan\n"
          ]
        }
      ]
    },
    {
      "cell_type": "code",
      "source": [
        "# The code prints \"USA\" because the condition is False, which causes the else part to execute.\n",
        "\n",
        "print(\"Pakistan \") if False else print (\"USA\")\n"
      ],
      "metadata": {
        "colab": {
          "base_uri": "https://localhost:8080/"
        },
        "id": "yKS8namdyjKI",
        "outputId": "80aa637d-8fba-4e11-e5a8-f28becd36e05"
      },
      "execution_count": null,
      "outputs": [
        {
          "output_type": "stream",
          "name": "stdout",
          "text": [
            "USA\n"
          ]
        }
      ]
    },
    {
      "cell_type": "code",
      "source": [
        "# The code checks user input for a valid username and password, printing \"Valid user\" or \"Invalid user\" based on the entered credentials.\n",
        "\n",
        "\n",
        "user_name: str = input(\"Enter username/email/mobile: \")  # Clarified prompt\n",
        "password: str = input(\"Enter password: \")  # Corrected spelling of \"password\"\n",
        "\n",
        "# Compare user_name and password\n",
        "if (user_name == \"admin\" or user_name == \"Email_address\" or user_name == \"Mobile_number\") and password == \"123\":  # Enclose password in quotes and corrected variable name\n",
        "    print(\"Valid user\")\n",
        "else:\n",
        "    print(\"Invalid user\")\n"
      ],
      "metadata": {
        "id": "TmAcZOhuZ3Oi",
        "colab": {
          "base_uri": "https://localhost:8080/"
        },
        "outputId": "fd4c286b-cd6a-4326-93ca-733452d664e6"
      },
      "execution_count": null,
      "outputs": [
        {
          "output_type": "stream",
          "name": "stdout",
          "text": [
            "Enter username/email/mobile: admin\n",
            "Enter password: 123\n",
            "Valid user\n"
          ]
        }
      ]
    },
    {
      "cell_type": "code",
      "source": [
        "# Loop\n",
        "# * Controls\n",
        "#     * break\n",
        "#     * continue\n",
        "#    * pass\n",
        "# * while\n",
        "#   * counter\n",
        "#   * logic\n",
        "#   * increment/decrement\n",
        "#   * loop body\n",
        "#   * loop condition\n",
        "#   * Syntax\n",
        "#     Python\n",
        "# * for"
      ],
      "metadata": {
        "id": "_E0o-JbwiXuL",
        "colab": {
          "base_uri": "https://localhost:8080/",
          "height": 106
        },
        "outputId": "2de2d090-b885-43ed-c7b8-ffd08cacfb7f"
      },
      "execution_count": null,
      "outputs": [
        {
          "output_type": "error",
          "ename": "IndentationError",
          "evalue": "unexpected indent (<ipython-input-18-01c951432100>, line 2)",
          "traceback": [
            "\u001b[0;36m  File \u001b[0;32m\"<ipython-input-18-01c951432100>\"\u001b[0;36m, line \u001b[0;32m2\u001b[0m\n\u001b[0;31m    * Controls\u001b[0m\n\u001b[0m    ^\u001b[0m\n\u001b[0;31mIndentationError\u001b[0m\u001b[0;31m:\u001b[0m unexpected indent\n"
          ]
        }
      ]
    },
    {
      "cell_type": "code",
      "source": [
        "# What the code does:\n",
        "# counter: int = 0: Initializes the counter variable to 0.\n",
        "# while counter < 10:: The loop runs while counter is less than 10.\n",
        "# print(f\"Pakistan{counter}\"): Prints \"Pakistan\" followed by the current value of counter.\n",
        "# counter += 1: Increments the value of counter by 1 each time through the loop.\n",
        "\n",
        "\n",
        "counter : int = 0\n",
        "while counter < 10:\n",
        "  print(f\"Pakistan{counter}\")\n",
        "  counter += 1"
      ],
      "metadata": {
        "colab": {
          "base_uri": "https://localhost:8080/"
        },
        "id": "PQjPOjcx0mpx",
        "outputId": "be9084a7-6421-468c-b23c-d4b74a7dcec9"
      },
      "execution_count": null,
      "outputs": [
        {
          "output_type": "stream",
          "name": "stdout",
          "text": [
            "Pakistan0\n",
            "Pakistan1\n",
            "Pakistan2\n",
            "Pakistan3\n",
            "Pakistan4\n",
            "Pakistan5\n",
            "Pakistan6\n",
            "Pakistan7\n",
            "Pakistan8\n",
            "Pakistan9\n"
          ]
        }
      ]
    },
    {
      "cell_type": "code",
      "source": [
        "# What the code does:\n",
        "\n",
        "# while counter < 10:: This loop runs as long as the counter is less than 10. Once the condition counter < 10 becomes false (when counter reaches 10), the loop will exit.\n",
        "# else: block: The else block is executed when the loop finishes without a break statement. This means the else block will always run after the while loop completes, not because the loop \"fails.\"\n",
        "\n",
        "counter : int = 1\n",
        "while counter < 10:\n",
        "  print(f\"Pakistan{counter}\")\n",
        "  counter += 1\n",
        "else:\n",
        "  print(\"loop not working\")"
      ],
      "metadata": {
        "colab": {
          "base_uri": "https://localhost:8080/"
        },
        "id": "KexwaBkj1_l5",
        "outputId": "ab733e78-ae80-48de-8d44-fc53e8a43fa3"
      },
      "execution_count": null,
      "outputs": [
        {
          "output_type": "stream",
          "name": "stdout",
          "text": [
            "Pakistan1\n",
            "Pakistan2\n",
            "Pakistan3\n",
            "Pakistan4\n",
            "Pakistan5\n",
            "Pakistan6\n",
            "Pakistan7\n",
            "Pakistan8\n",
            "Pakistan9\n",
            "loop not working\n"
          ]
        }
      ]
    },
    {
      "cell_type": "code",
      "source": [
        "# promt : create while loop with continue control in python\n",
        "counter : int = 0\n",
        "while counter < 10:\n",
        "  counter += 1\n",
        "  if counter == 5:\n",
        "    continue\n",
        "  print(counter)\n"
      ],
      "metadata": {
        "colab": {
          "base_uri": "https://localhost:8080/"
        },
        "id": "LBk1OWG34DTL",
        "outputId": "1e1c520b-7679-4b70-edd2-43000d75dc16"
      },
      "execution_count": null,
      "outputs": [
        {
          "output_type": "stream",
          "name": "stdout",
          "text": [
            "1\n",
            "2\n",
            "3\n",
            "4\n",
            "6\n",
            "7\n",
            "8\n",
            "9\n",
            "10\n"
          ]
        }
      ]
    },
    {
      "cell_type": "code",
      "source": [
        "# Initial value: counter is initialized to 1.\n",
        "# Loop condition: The loop continues as long as counter <= 10.\n",
        "# Increment: Each time the loop runs, counter is increased by 1 (counter += 1).\n",
        "# Printing: After each increment, the updated value of counter is printed.\n",
        "\n",
        "counter : int = 1\n",
        "\n",
        "while counter <= 10 :\n",
        "  counter += 1\n",
        "  print(counter)"
      ],
      "metadata": {
        "colab": {
          "base_uri": "https://localhost:8080/"
        },
        "id": "ElUNRqow5Jcw",
        "outputId": "9458b6f3-88e5-48e7-a2b3-07ffa8f33468"
      },
      "execution_count": null,
      "outputs": [
        {
          "output_type": "stream",
          "name": "stdout",
          "text": [
            "2\n",
            "3\n",
            "4\n",
            "5\n",
            "6\n",
            "7\n",
            "8\n",
            "9\n",
            "10\n",
            "11\n"
          ]
        }
      ]
    },
    {
      "cell_type": "code",
      "source": [
        "# The code initializes a list of names, prints the first name, and then uses a while loop to print all names in the list.\n",
        "\n",
        "names : list[str] = [\"A\", \"B\", \"C\", \"D\", \"E\"]\n",
        "print (names [0])\n",
        "\n",
        "index : int = 0\n",
        "while index < len(names):\n",
        "  print (names[index])\n",
        "  index +=1"
      ],
      "metadata": {
        "id": "ClM-1d5947W2",
        "colab": {
          "base_uri": "https://localhost:8080/"
        },
        "outputId": "6c6264cf-fc3d-4505-981b-5956e72e1d2f"
      },
      "execution_count": null,
      "outputs": [
        {
          "output_type": "stream",
          "name": "stdout",
          "text": [
            "A\n",
            "A\n",
            "B\n",
            "C\n",
            "D\n",
            "E\n"
          ]
        }
      ]
    },
    {
      "cell_type": "code",
      "source": [
        "# The code zips together two lists, names and numbers, into pairs and prints the resulting list of tuples.\n",
        "# The zip function pairs elements from both lists into tuples. The first element of names is paired with the first element of numbers, and so on.\n",
        "\n",
        "names : list[str] = [\"a\", \"b\", \"c\"]\n",
        "numbers : list[int] = [1, 2, 3]\n",
        "\n",
        "my_data = zip(names, numbers)\n",
        "print(list(my_data))"
      ],
      "metadata": {
        "id": "IootVw1VyunS",
        "colab": {
          "base_uri": "https://localhost:8080/"
        },
        "outputId": "c406fa5c-8e12-4f1d-fd02-99abf48922be"
      },
      "execution_count": null,
      "outputs": [
        {
          "output_type": "stream",
          "name": "stdout",
          "text": [
            "[('a', 1), ('b', 2), ('c', 3)]\n"
          ]
        }
      ]
    },
    {
      "cell_type": "code",
      "source": [
        "# The code iterates over a list of names and prints each name\n",
        "\n",
        "names : list[str] = [\"a\", \"b\", \"c\"]\n",
        "for xyz in names :\n",
        "  print(xyz)"
      ],
      "metadata": {
        "colab": {
          "base_uri": "https://localhost:8080/"
        },
        "id": "M2uykV20HPzM",
        "outputId": "a0fa8aed-2de0-41a2-a107-138dbddffc66"
      },
      "execution_count": null,
      "outputs": [
        {
          "output_type": "stream",
          "name": "stdout",
          "text": [
            "a\n",
            "b\n",
            "c\n"
          ]
        }
      ]
    },
    {
      "cell_type": "code",
      "source": [
        "# The code creates a list of integers from 1 to 10 using a list comprehension.\n",
        "\n",
        "  [i for i in range(1,11)]"
      ],
      "metadata": {
        "colab": {
          "base_uri": "https://localhost:8080/"
        },
        "id": "RnUaiTjwHfm2",
        "outputId": "7dcf9e55-cb7e-4524-f93c-fb56ed8fd91a"
      },
      "execution_count": null,
      "outputs": [
        {
          "output_type": "execute_result",
          "data": {
            "text/plain": [
              "[1, 2, 3, 4, 5, 6, 7, 8, 9, 10]"
            ]
          },
          "metadata": {},
          "execution_count": 10
        }
      ]
    },
    {
      "cell_type": "code",
      "source": [
        "# The code generates a list of greeting strings for each name in the list [\"a\", \"b\", \"c\"].\n",
        "\n",
        "names : list[str] = [\"a\", \"b\", \"c\"]\n",
        "[f\"Hello {i}\" for i in names]"
      ],
      "metadata": {
        "colab": {
          "base_uri": "https://localhost:8080/"
        },
        "id": "AOxMmROXHs0v",
        "outputId": "17b2f946-a8a8-4656-92d9-9d5660a84681"
      },
      "execution_count": null,
      "outputs": [
        {
          "output_type": "execute_result",
          "data": {
            "text/plain": [
              "['Hello a', 'Hello b', 'Hello c']"
            ]
          },
          "metadata": {},
          "execution_count": 13
        }
      ]
    },
    {
      "cell_type": "code",
      "source": [
        "# The expression [loop_body for i in Lilters] is a placeholder for a list comprehension that iterates over Lilters, applying loop_body to each element.\n",
        "\n",
        "# [loop_body for i in Lilters]\n"
      ],
      "metadata": {
        "colab": {
          "base_uri": "https://localhost:8080/",
          "height": 141
        },
        "id": "2XaHMn4sIBL8",
        "outputId": "6c2911d7-d539-4d7b-b53b-b50dc965981c"
      },
      "execution_count": null,
      "outputs": [
        {
          "output_type": "error",
          "ename": "NameError",
          "evalue": "name 'Lilters' is not defined",
          "traceback": [
            "\u001b[0;31m---------------------------------------------------------------------------\u001b[0m",
            "\u001b[0;31mNameError\u001b[0m                                 Traceback (most recent call last)",
            "\u001b[0;32m<ipython-input-23-6f6af1c05da8>\u001b[0m in \u001b[0;36m<cell line: 1>\u001b[0;34m()\u001b[0m\n\u001b[0;32m----> 1\u001b[0;31m \u001b[0;34m[\u001b[0m\u001b[0mloop_body\u001b[0m \u001b[0;32mfor\u001b[0m \u001b[0mi\u001b[0m \u001b[0;32min\u001b[0m \u001b[0mLilters\u001b[0m\u001b[0;34m]\u001b[0m\u001b[0;34m\u001b[0m\u001b[0;34m\u001b[0m\u001b[0m\n\u001b[0m",
            "\u001b[0;31mNameError\u001b[0m: name 'Lilters' is not defined"
          ]
        }
      ]
    },
    {
      "cell_type": "code",
      "source": [
        "# data given in Dictionary\n",
        "\n",
        "data = {\"names\" : \"Zara\",\"age\": \"24\",\"city\" : \"Karachi\"}\n",
        "\n",
        "data"
      ],
      "metadata": {
        "colab": {
          "base_uri": "https://localhost:8080/"
        },
        "id": "HSVr3DVYJNQW",
        "outputId": "12c89eb3-3ebf-4174-e47d-bde2b2e98c77"
      },
      "execution_count": null,
      "outputs": [
        {
          "output_type": "execute_result",
          "data": {
            "text/plain": [
              "{'names': 'Zara', 'age': '24', 'city': 'Karachi'}"
            ]
          },
          "metadata": {},
          "execution_count": 71
        }
      ]
    },
    {
      "cell_type": "code",
      "source": [
        "# The expression {v: k for k, v in data.items()} creates a new dictionary that reverses the keys and values from the original dictionary data.\n",
        "\n",
        "{v:k for k,v in data.items()}"
      ],
      "metadata": {
        "colab": {
          "base_uri": "https://localhost:8080/"
        },
        "id": "uNV5hNgQKUBl",
        "outputId": "5685865f-608a-41a4-cff7-e618e2ccc97b"
      },
      "execution_count": null,
      "outputs": [
        {
          "output_type": "execute_result",
          "data": {
            "text/plain": [
              "{'Zara': 'names', '24': 'age', 'Karachi': 'city'}"
            ]
          },
          "metadata": {},
          "execution_count": 72
        }
      ]
    },
    {
      "cell_type": "code",
      "source": [
        "# The code iterates through each key-value pair in the dictionary data and prints them.\n",
        "\n",
        "for k,v in data.items():\n",
        "  print(k,v)"
      ],
      "metadata": {
        "colab": {
          "base_uri": "https://localhost:8080/"
        },
        "id": "KoNRI28dK0vN",
        "outputId": "60971d9f-6810-4c11-c645-0881f3c269b7"
      },
      "execution_count": null,
      "outputs": [
        {
          "output_type": "stream",
          "name": "stdout",
          "text": [
            "names Tasneem\n",
            "age 30\n",
            "city Karachi\n"
          ]
        }
      ]
    },
    {
      "cell_type": "code",
      "source": [
        "data.items()"
      ],
      "metadata": {
        "colab": {
          "base_uri": "https://localhost:8080/"
        },
        "id": "3Nyt87DLK8Oo",
        "outputId": "2d272c04-8311-4859-fedb-dbd87c22e5af"
      },
      "execution_count": null,
      "outputs": [
        {
          "output_type": "execute_result",
          "data": {
            "text/plain": [
              "dict_items([('names', 'Tasneem'), ('age', '30'), ('city', 'Karachi')])"
            ]
          },
          "metadata": {},
          "execution_count": 27
        }
      ]
    },
    {
      "cell_type": "code",
      "source": [
        "# The code attempts to print an element from a list at an invalid index, catches the IndexError, and prints an error message before concluding with \"End Program.\"\n",
        "\n",
        "print(\"Start Progam\")\n",
        "\n",
        "names : list[str] = [\"a\", \"b\", \"c\"]\n",
        "try:\n",
        "  print(names[10])\n",
        "except IndexError:\n",
        "  print(\"list index out of range\")\n",
        "\n",
        "print(\"End Program\")"
      ],
      "metadata": {
        "colab": {
          "base_uri": "https://localhost:8080/"
        },
        "id": "ULy_gzDXLFWl",
        "outputId": "6e0aa233-f99d-4d37-fcd3-d198475979c1"
      },
      "execution_count": null,
      "outputs": [
        {
          "output_type": "stream",
          "name": "stdout",
          "text": [
            "Start Progam\n",
            "list index out of range\n",
            "End Program\n"
          ]
        }
      ]
    },
    {
      "cell_type": "code",
      "source": [
        "#try Block:\n",
        "\n",
        "# The try block contains two operations:\n",
        "# print(10/0): This line attempts to divide 10 by 0, which will immediately raise a ZeroDivisionError. This is an error because division by zero is undefined in mathematics and illegal in Python.\n",
        "\n",
        "try:\n",
        "  print(10/0)\n",
        "  names : list[str] = [\"x\", \"y\", \"z\"]\n",
        "  print(names[10])\n",
        "\n",
        "  # except ZeroDivisionError Block:\n",
        "\n",
        "# When the ZeroDivisionError is raised (from 10/0), Python looks for an appropriate except block to handle this error. Since we have an except ZeroDivisionError block, the error is caught here,\n",
        "\n",
        "except ZeroDivisionError:\n",
        "    print(\"ap zero error se divide nhai kar saktay\") #ZeroDivisionErro\n",
        "\n"
      ],
      "metadata": {
        "colab": {
          "base_uri": "https://localhost:8080/"
        },
        "id": "N_Gt7VOqK-mL",
        "outputId": "628926ee-5f55-4f72-d482-cd22a2ff21ad"
      },
      "execution_count": null,
      "outputs": [
        {
          "output_type": "stream",
          "name": "stdout",
          "text": [
            "ap zero error se divide nhai kar saktay\n"
          ]
        }
      ]
    },
    {
      "cell_type": "code",
      "source": [
        "# The code handles potential IndexError and FileNotFoundError exceptions, printing \"ERROR\" if any occur.\n",
        "\n",
        "try:\n",
        "    # print(10/0)  # This line is commented out as per your comment\n",
        "    names: list[str] = [\"a\", \"b\", \"c\"]\n",
        "    print(names[10])  # This will raise an IndexError\n",
        "    with open('abc.txt') as f:  # If 'abc.txt' does not exist, this will raise a FileNotFoundError\n",
        "        print(f.read())\n",
        "except (ZeroDivisionError, IndexError, FileNotFoundError):  # Correct exception name for FileNotFoundError\n",
        "    print(\"ERROR\")\n"
      ],
      "metadata": {
        "colab": {
          "base_uri": "https://localhost:8080/"
        },
        "id": "2q22VL5EM73v",
        "outputId": "00f37248-d61a-4ebf-f36b-6db830ccd480"
      },
      "execution_count": null,
      "outputs": [
        {
          "output_type": "stream",
          "name": "stdout",
          "text": [
            "ERROR\n"
          ]
        }
      ]
    },
    {
      "cell_type": "code",
      "source": [
        "# This code attempts to access an out-of-range list index and read from a file, handling any exceptions by printing the error description, followed by printing \"End Program.\"\n",
        "\n",
        "try:\n",
        "    # print(10/0)  # This line is commented out as per your comment\n",
        "    names: list[str] = [\"a\", \"b\", \"c\"]\n",
        "    print(names[10])  # This will raise an IndexError\n",
        "    with open('abc.txt') as f:  # If 'abc.txt' does not exist, this will raise a FileNotFoundError\n",
        "        print(f.read())\n",
        "except Exception as e:\n",
        "  print(f\"Error description: {e}\")\n",
        "print(\"End Program\")\n"
      ],
      "metadata": {
        "colab": {
          "base_uri": "https://localhost:8080/"
        },
        "id": "iN-sTIW9SxtT",
        "outputId": "9fbda991-4dd6-4a1f-e9df-f8ce26e7fe2c"
      },
      "execution_count": null,
      "outputs": [
        {
          "output_type": "stream",
          "name": "stdout",
          "text": [
            "Error description: list index out of range\n",
            "End Program\n"
          ]
        }
      ]
    },
    {
      "cell_type": "code",
      "source": [
        "# This code tries to read from a file and handle any exception that occurs by printing the error description, then prints \"End Program.\"\n",
        "try:\n",
        "  #print(10/0)\n",
        "  names : list[str] = [\"a\", \"b\", \"c\"]\n",
        "  #print(names[10])\n",
        "  with open('abc.txt') as f:\n",
        "    print(f.read())\n",
        "except Exception as e:\n",
        "  print(f\"Error description: {e}\")\n",
        "\n",
        "print(\"End Program\")"
      ],
      "metadata": {
        "colab": {
          "base_uri": "https://localhost:8080/"
        },
        "id": "ey_l-XY3TXAe",
        "outputId": "caad33ce-c949-4fda-fe20-e71b34fafe78"
      },
      "execution_count": null,
      "outputs": [
        {
          "output_type": "stream",
          "name": "stdout",
          "text": [
            "Error description: [Errno 2] No such file or directory: 'abc.txt'\n",
            "End Program\n"
          ]
        }
      ]
    },
    {
      "cell_type": "code",
      "source": [
        "# The code attempts to perform a division, access an out-of-range list index, and read a file, handling potential errors with specific messages before printing \"End Program.\"\n",
        "\n",
        "try:\n",
        "    print(10 / 2)  # This division will work fine\n",
        "    names: list[str] = [\"a\", \"b\", \"c\"]\n",
        "    print(names[10])  # This will raise an IndexError\n",
        "    with open('abc.txt') as f:  # If 'abc.txt' doesn't exist, this will raise a FileNotFoundError\n",
        "        print(f.read())\n",
        "except ZeroDivisionError:\n",
        "    print(\"Ap zero se division nahi kar saktay\")  # Corrected string\n",
        "except IndexError:\n",
        "    print(\"List index out of range\")  # IndexError for accessing names[10]\n",
        "except FileNotFoundError:\n",
        "    print(\"File not found\")  # FileNotFoundError if 'abc.txt' is missing\n",
        "except Exception as e:\n",
        "    print(f\"Error description: {e}\")  # Catch-all for any other exception\n",
        "print(\"End Program\")\n"
      ],
      "metadata": {
        "colab": {
          "base_uri": "https://localhost:8080/"
        },
        "id": "SYXSdnpWXAb2",
        "outputId": "743bbccc-691e-489a-e4bd-a63c93d6c0f7"
      },
      "execution_count": null,
      "outputs": [
        {
          "output_type": "stream",
          "name": "stdout",
          "text": [
            "5.0\n",
            "List index out of range\n",
            "End Program\n"
          ]
        }
      ]
    }
  ]
}
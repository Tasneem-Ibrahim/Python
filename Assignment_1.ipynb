{
  "nbformat": 4,
  "nbformat_minor": 0,
  "metadata": {
    "colab": {
      "provenance": [],
      "collapsed_sections": [
        "0HOil1s6KQBl"
      ],
      "include_colab_link": true
    },
    "kernelspec": {
      "name": "python3",
      "display_name": "Python 3"
    },
    "language_info": {
      "name": "python"
    }
  },
  "cells": [
    {
      "cell_type": "markdown",
      "metadata": {
        "id": "view-in-github",
        "colab_type": "text"
      },
      "source": [
        "<a href=\"https://colab.research.google.com/github/Tasneem-Ibrahim/Python/blob/main/Assignment_1.ipynb\" target=\"_parent\"><img src=\"https://colab.research.google.com/assets/colab-badge.svg\" alt=\"Open In Colab\"/></a>"
      ]
    },
    {
      "cell_type": "markdown",
      "source": [
        "## Python"
      ],
      "metadata": {
        "id": "AzYjJI7uKQaI"
      }
    },
    {
      "cell_type": "markdown",
      "source": [
        "### Question 1: Code Along(String Reversal and Vowel Counting)\n",
        "**Problem**: Write a Python program that takes a string as input and prints out the\n",
        "following:\n",
        "1. The string in reverse order.\n",
        "2. The number of vowels in the string.\n",
        "Instructions:\n",
        "● Use basic string manipulation techniques such as loops, conditionals, and\n",
        "string methods.\n",
        "● Ensure that the program counts both uppercase and lowercase vowels (a, e,\n",
        "i, o, u).\n",
        "Example Input:\n",
        "Enter a string: Hello World\n",
        "Example Output:\n",
        "Reversed string: dlroW olleH\n",
        "Number of vowels: 3\n"
      ],
      "metadata": {
        "id": "0HOil1s6KQBl"
      }
    },
    {
      "cell_type": "code",
      "execution_count": null,
      "metadata": {
        "id": "IrtUBtAlAs4e"
      },
      "outputs": [],
      "source": [
        "# String Reversal and Vowel Counting\n",
        "# A string input, reverse it, using slicing and count how many vowels it contains (both lowercase and uppercase).\n",
        "\n",
        "\n",
        "# Step 1: Take input from the user\n",
        "input_string = input(\"Enter a string: \")\n",
        "\n",
        "# Step 2: Reverse the string using slicing\n",
        "reversed_string = input_string[::-1]\n",
        "\n",
        "# Step 3: Initialize vowel count\n",
        "vowel_count = 0\n",
        "vowels = \"aeiouAEIOU\"\n",
        "\n",
        "# Step 4: Loop through each character and count vowels\n",
        "for char in input_string:\n",
        "    if char in vowels:\n",
        "        vowel_count += 1\n",
        "\n",
        "# Step 5: Print results\n",
        "print(\"Reversed string:\", reversed_string)\n",
        "print(\"Number of vowels:\", vowel_count)\n"
      ]
    },
    {
      "cell_type": "markdown",
      "source": [
        "### Question 2: Even or Odd Check\n",
        "\n",
        "Create a Python program that:\n",
        "\n",
        "Takes an input number from the user.\n",
        "\n",
        "Checks whether the number is even or odd.\n",
        "\n",
        "Prints the result."
      ],
      "metadata": {
        "id": "Inifj_dkJQVT"
      }
    },
    {
      "cell_type": "code",
      "source": [
        "# Even or Odd Check\n",
        "# User inputs a number. The program checks if it's divisible by 2 using the modulus operator to determine if it's even or odd.\n",
        "\n",
        "# Step 1: Take number input from the user\n",
        "number = int(input(\"Enter a number: \"))\n",
        "\n",
        "# Step 2: Check if it's even or odd\n",
        "if number % 2 == 0:\n",
        "    print(f\"The Number {number} is Even.\")\n",
        "else:\n",
        "    print(f\"The Number {number} is Odd.\")\n"
      ],
      "metadata": {
        "colab": {
          "base_uri": "https://localhost:8080/"
        },
        "id": "I0Fi-0wWLdCl",
        "outputId": "8a45a7ca-a722-4af5-d482-11700a542105"
      },
      "execution_count": null,
      "outputs": [
        {
          "output_type": "stream",
          "name": "stdout",
          "text": [
            "Enter a number: 5\n",
            "The Number 5 is Odd.\n"
          ]
        }
      ]
    },
    {
      "cell_type": "markdown",
      "source": [
        "### Question 3: Virtual Environment Application\n",
        "\n",
        "**Problem**:\n",
        "\n",
        "Create a Python program that:\n",
        "\n",
        "Takes a list of integers as input.\n",
        "\n",
        "Creates a new virtual environment called sortenv.\n",
        "\n",
        "Installs a package (such as numpy) in the virtual environment.\n",
        "\n",
        "Sorts the list using a NumPy method (numpy.sort()).\n",
        "\n",
        "Prints both the original and the sorted list.\n",
        "\n",
        "**Title**:\n",
        "\n",
        "Sorting a List of Numbers Using NumPy in Python.\n",
        "\n",
        "Description:\n",
        "\n",
        "This program takes a space-separated list of integers from the user, sorts the list using numpy.sort(), and prints both the original and the sorted list. The sorting operation is performed after simulating the setup of a virtual environment and installation of the numpy package.\n",
        "\n"
      ],
      "metadata": {
        "id": "qfWLCUPeGPQL"
      }
    },
    {
      "cell_type": "code",
      "source": [
        "import numpy as np\n",
        "\n",
        "# Step 1: Take input as space-separated numbers\n",
        "user_input = input(\"Enter numbers separated by spaces (e.g., 4 2 7 1 3): \")\n",
        "\n",
        "# Step 2: Convert to list of integers\n",
        "input_list = [int(num) for num in user_input.split()]\n",
        "\n",
        "# Step 3: Sort using numpy\n",
        "sorted_list = np.sort(input_list)\n",
        "\n",
        "# Step 4: Output\n",
        "print(\"Original list:\", input_list)\n",
        "print(\"Sorted list:\", sorted_list.tolist())\n",
        "\n",
        "\n",
        "\n",
        "# Please put input like this :\n",
        "# for example: 4 2 7 1 3\n"
      ],
      "metadata": {
        "colab": {
          "base_uri": "https://localhost:8080/"
        },
        "id": "NHpiV5G_JTIJ",
        "outputId": "8bcabfed-3901-42e1-b821-134a0a49a81e"
      },
      "execution_count": null,
      "outputs": [
        {
          "output_type": "stream",
          "name": "stdout",
          "text": [
            "Enter numbers separated by spaces (e.g., 4 2 7 1 3): 4 2 8 7 1\n",
            "Original list: [4, 2, 8, 7, 1]\n",
            "Sorted list: [1, 2, 4, 7, 8]\n"
          ]
        }
      ]
    }
  ]
}